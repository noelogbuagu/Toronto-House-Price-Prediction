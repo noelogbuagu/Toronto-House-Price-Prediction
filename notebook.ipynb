{
 "cells": [
  {
   "attachments": {},
   "cell_type": "markdown",
   "metadata": {},
   "source": [
    "# Predicting House Prices in Toronto, Ontario"
   ]
  },
  {
   "cell_type": "code",
   "execution_count": 1,
   "metadata": {},
   "outputs": [],
   "source": [
    "# import necessary libraries\n",
    "import pandas as pd\n",
    "import plotly.express as px\n",
    "import seaborn as sns\n",
    "import matplotlib.pyplot as plt\n",
    "import plotly.express as px\n",
    "import numpy as np\n",
    "import pgeocode\n",
    "from glob import glob\n",
    "import re\n",
    "from sklearn.model_selection import train_test_split\n",
    "from sklearn.metrics import mean_squared_error as MSE\n",
    "from sklearn.model_selection import cross_val_score, KFold\n",
    "from sklearn.metrics import mean_absolute_error\n",
    "from sklearn.pipeline import make_pipeline\n",
    "from sklearn.linear_model import LinearRegression, RidgeCV, Lasso\n",
    "from ipywidgets import Dropdown, FloatSlider, IntSlider, FloatText, interact\n",
    "from sklearn.impute import SimpleImputer\n",
    "from sklearn.ensemble import RandomForestRegressor, GradientBoostingRegressor, StackingRegressor\n",
    "from sklearn.preprocessing import OneHotEncoder, StandardScaler\n",
    "from sklearn.compose import make_column_selector\n",
    "from sklearn.compose import make_column_transformer\n",
    "from sklearn.preprocessing import OrdinalEncoder\n",
    "import warnings"
   ]
  },
  {
   "cell_type": "code",
   "execution_count": 2,
   "metadata": {},
   "outputs": [],
   "source": [
    "warnings.filterwarnings('ignore')"
   ]
  },
  {
   "attachments": {},
   "cell_type": "markdown",
   "metadata": {},
   "source": [
    "## Prepare Data"
   ]
  },
  {
   "attachments": {},
   "cell_type": "markdown",
   "metadata": {},
   "source": [
    "### Import"
   ]
  },
  {
   "cell_type": "code",
   "execution_count": 3,
   "metadata": {},
   "outputs": [],
   "source": [
    "def wrangle(filepath):\n",
    "    \n",
    "    # import file\n",
    "    df = pd.read_csv(filepath)\n",
    "    \n",
    "    # drop duplicates\n",
    "    df.drop_duplicates('mls_number')\n",
    "    \n",
    "    # clean price column and make dtype float\n",
    "    df['price'] = df['price'].apply(\n",
    "        lambda x: re.sub(r\"[$,]\", \"\", str(x))).astype(float)\n",
    "    \n",
    "    # remove outliers in price by values in the bottom and top 5% of properties\n",
    "    low, high = df['price'].quantile([0.05, 0.95])\n",
    "    mask_area = df['price'].between(low, high)\n",
    "    df = df[mask_area]\n",
    "    \n",
    "    # make postcode column, remove address column\n",
    "    df['postcode'] = df['address'].apply(\n",
    "        lambda x: re.findall(r\"M[0-9]\\D[0-9]\\D[0-9]\", str(x)))\n",
    "    df['postcode'] = df.postcode.str[0].astype(str)\n",
    "    def insert_space(string):\n",
    "        return string[0:3] + ' ' + string[3:]\n",
    "    df['postcode'] = df.postcode.apply(insert_space)\n",
    "    \n",
    "    # make badrooms column. remove above and below grade bedroom columns\n",
    "    df['above_grade_bedrooms'] = df['above_grade_bedrooms'].fillna(0).apply(\n",
    "        lambda x: re.findall(r\"[0-9]+\", str(x)))\n",
    "    df['below_grade_bedrooms'] = df['below_grade_bedrooms'].fillna(0).apply(\n",
    "        lambda x: re.findall(r\"[0-9]+\", str(x)))\n",
    "    df['above_grade_bedrooms'] = df.above_grade_bedrooms.str[0].astype(int)\n",
    "    df['below_grade_bedrooms'] = df.below_grade_bedrooms.str[0].astype(int)\n",
    "    df['bedrooms'] = df.above_grade_bedrooms + df.below_grade_bedrooms\n",
    "    \n",
    "    # clean bathrooms column\n",
    "    df['bathrooms'] = df['bathrooms'].fillna(0).apply(\n",
    "        lambda x: re.findall(r\"[0-9]+\", str(x)))\n",
    "    df['bathrooms'] = df.bathrooms.str[0].astype(int)\n",
    "    \n",
    "    # clean community name column\n",
    "    df['community_name'] = df.community_name.str.split('\\n',expand=True)[1]\n",
    "    df['community_name'] = df.community_name.fillna(df.community_name.mode().iloc[0])\n",
    "    \n",
    "    # clean annual property tax column and convert to USD\n",
    "    df['annual_prop_tax'] = df['annual_prop_tax'].str.replace(',', '').apply(\n",
    "        lambda x: re.findall(r\"[0-9.,]+\", str(x)))\n",
    "    df['annual_prop_tax'] = df['annual_prop_tax'].str[0].astype(float)\n",
    "    df['annual_prop_tax_usd'] = df['annual_prop_tax'] * 0.72\n",
    "    \n",
    "    # make area in m2 column\n",
    "    df['land_size'] = df['land_size'].str.replace('under 1/2 acre', '147.58 x 147.58').apply(\n",
    "        lambda x: re.findall(r\"[0-9.]+\", str(x)))\n",
    "    df['width'] = df.land_size.str[0].astype(float)\n",
    "    df['length'] = df.land_size.str[1].astype(float)\n",
    "    df['area (sqft)'] = df.length * df.width\n",
    "    df['area_m2'] = round(df['area (sqft)']/10.764,2)\n",
    "    \n",
    "    # remove outliers in area_m2 by values in the bottom and top 5% of properties\n",
    "    low, high = df['area_m2'].quantile([0.05, 0.95])\n",
    "    mask_area = df['area_m2'].between(low, high)\n",
    "    df = df[mask_area]\n",
    "    \n",
    "    # make long and lat column. drop postcode\n",
    "    nomi = pgeocode.Nominatim('ca')\n",
    "    df['lat'] = nomi.query_postal_code(df['postcode'].to_list())['latitude']\n",
    "    df['lon'] = nomi.query_postal_code(df['postcode'].to_list())['longitude']\n",
    "    \n",
    "    # drop redundant columns\n",
    "    df.drop(columns=['land_size', \n",
    "                     'width', \n",
    "                     'length', \n",
    "                     'address',\n",
    "                     'above_grade_bedrooms', \n",
    "                     'below_grade_bedrooms',\n",
    "                     'annual_prop_tax',\n",
    "                     'postcode'\n",
    "                     ],\n",
    "            inplace=True\n",
    "            )\n",
    "    \n",
    "    # Drop low and high cardinality categorical columns\n",
    "    df.drop(columns=['mls_number'], inplace=True)\n",
    "    \n",
    "\n",
    "    # dimensionality reduction of community name column\n",
    "    df['community_name'] = df.community_name.str.strip()\n",
    "    location_stats = df.community_name.value_counts(sort=True)\n",
    "    places_to_be_replaced = location_stats[location_stats <= 10].keys().tolist()\n",
    "    df['community_name'] = df['community_name'].replace(\n",
    "        places_to_be_replaced, 'other')\n",
    "    \n",
    "    # Drop leaky features\n",
    "    df.drop(columns=['annual_prop_tax_usd', 'area (sqft)'], inplace=True)\n",
    "    \n",
    "    return df\n"
   ]
  },
  {
   "cell_type": "code",
   "execution_count": 4,
   "metadata": {},
   "outputs": [
    {
     "data": {
      "text/plain": [
       "['listings2.csv', 'listings.csv']"
      ]
     },
     "execution_count": 4,
     "metadata": {},
     "output_type": "execute_result"
    }
   ],
   "source": [
    "files = glob('listing*')\n",
    "files"
   ]
  },
  {
   "cell_type": "code",
   "execution_count": 5,
   "metadata": {},
   "outputs": [
    {
     "name": "stdout",
     "output_type": "stream",
     "text": [
      "<class 'pandas.core.frame.DataFrame'>\n",
      "RangeIndex: 990 entries, 0 to 989\n",
      "Data columns (total 7 columns):\n",
      " #   Column          Non-Null Count  Dtype  \n",
      "---  ------          --------------  -----  \n",
      " 0   price           990 non-null    float64\n",
      " 1   bathrooms       990 non-null    int64  \n",
      " 2   community_name  990 non-null    object \n",
      " 3   bedrooms        990 non-null    int64  \n",
      " 4   area_m2         990 non-null    float64\n",
      " 5   lat             785 non-null    float64\n",
      " 6   lon             785 non-null    float64\n",
      "dtypes: float64(4), int64(2), object(1)\n",
      "memory usage: 54.3+ KB\n",
      "None\n"
     ]
    },
    {
     "data": {
      "text/html": [
       "<div>\n",
       "<style scoped>\n",
       "    .dataframe tbody tr th:only-of-type {\n",
       "        vertical-align: middle;\n",
       "    }\n",
       "\n",
       "    .dataframe tbody tr th {\n",
       "        vertical-align: top;\n",
       "    }\n",
       "\n",
       "    .dataframe thead th {\n",
       "        text-align: right;\n",
       "    }\n",
       "</style>\n",
       "<table border=\"1\" class=\"dataframe\">\n",
       "  <thead>\n",
       "    <tr style=\"text-align: right;\">\n",
       "      <th></th>\n",
       "      <th>price</th>\n",
       "      <th>bathrooms</th>\n",
       "      <th>community_name</th>\n",
       "      <th>bedrooms</th>\n",
       "      <th>area_m2</th>\n",
       "      <th>lat</th>\n",
       "      <th>lon</th>\n",
       "    </tr>\n",
       "  </thead>\n",
       "  <tbody>\n",
       "    <tr>\n",
       "      <th>0</th>\n",
       "      <td>6000000.0</td>\n",
       "      <td>3</td>\n",
       "      <td>Bridle Path-Sunnybrook-York Mills</td>\n",
       "      <td>4</td>\n",
       "      <td>1532.24</td>\n",
       "      <td>43.7547</td>\n",
       "      <td>-79.3764</td>\n",
       "    </tr>\n",
       "    <tr>\n",
       "      <th>1</th>\n",
       "      <td>1400000.0</td>\n",
       "      <td>4</td>\n",
       "      <td>other</td>\n",
       "      <td>5</td>\n",
       "      <td>408.77</td>\n",
       "      <td>43.7598</td>\n",
       "      <td>-79.5565</td>\n",
       "    </tr>\n",
       "    <tr>\n",
       "      <th>2</th>\n",
       "      <td>2288888.0</td>\n",
       "      <td>5</td>\n",
       "      <td>other</td>\n",
       "      <td>4</td>\n",
       "      <td>627.09</td>\n",
       "      <td>43.7366</td>\n",
       "      <td>-79.5401</td>\n",
       "    </tr>\n",
       "    <tr>\n",
       "      <th>3</th>\n",
       "      <td>2388888.0</td>\n",
       "      <td>5</td>\n",
       "      <td>other</td>\n",
       "      <td>4</td>\n",
       "      <td>627.09</td>\n",
       "      <td>43.7366</td>\n",
       "      <td>-79.5401</td>\n",
       "    </tr>\n",
       "    <tr>\n",
       "      <th>4</th>\n",
       "      <td>4990000.0</td>\n",
       "      <td>3</td>\n",
       "      <td>Bridle Path-Sunnybrook-York Mills</td>\n",
       "      <td>3</td>\n",
       "      <td>1310.31</td>\n",
       "      <td>43.7547</td>\n",
       "      <td>-79.3764</td>\n",
       "    </tr>\n",
       "  </tbody>\n",
       "</table>\n",
       "</div>"
      ],
      "text/plain": [
       "       price  bathrooms                     community_name  bedrooms  area_m2  \\\n",
       "0  6000000.0          3  Bridle Path-Sunnybrook-York Mills         4  1532.24   \n",
       "1  1400000.0          4                              other         5   408.77   \n",
       "2  2288888.0          5                              other         4   627.09   \n",
       "3  2388888.0          5                              other         4   627.09   \n",
       "4  4990000.0          3  Bridle Path-Sunnybrook-York Mills         3  1310.31   \n",
       "\n",
       "       lat      lon  \n",
       "0  43.7547 -79.3764  \n",
       "1  43.7598 -79.5565  \n",
       "2  43.7366 -79.5401  \n",
       "3  43.7366 -79.5401  \n",
       "4  43.7547 -79.3764  "
      ]
     },
     "execution_count": 5,
     "metadata": {},
     "output_type": "execute_result"
    }
   ],
   "source": [
    "df = pd.concat([wrangle(file) for file in files], ignore_index=True)\n",
    "print(df.info())\n",
    "df.head()"
   ]
  },
  {
   "cell_type": "code",
   "execution_count": 6,
   "metadata": {},
   "outputs": [
    {
     "data": {
      "text/plain": [
       "(990, 7)"
      ]
     },
     "execution_count": 6,
     "metadata": {},
     "output_type": "execute_result"
    }
   ],
   "source": [
    "df.shape"
   ]
  },
  {
   "cell_type": "code",
   "execution_count": 7,
   "metadata": {},
   "outputs": [
    {
     "data": {
      "text/plain": [
       "price             0.000000\n",
       "bathrooms         0.000000\n",
       "community_name    0.000000\n",
       "bedrooms          0.000000\n",
       "area_m2           0.000000\n",
       "lat               0.207071\n",
       "lon               0.207071\n",
       "dtype: float64"
      ]
     },
     "execution_count": 7,
     "metadata": {},
     "output_type": "execute_result"
    }
   ],
   "source": [
    "# check for columns that have null values for 50% of the entries\n",
    "df.isnull().sum()/len(df)"
   ]
  },
  {
   "attachments": {},
   "cell_type": "markdown",
   "metadata": {},
   "source": [
    "Most of the data is complete"
   ]
  },
  {
   "attachments": {},
   "cell_type": "markdown",
   "metadata": {},
   "source": [
    "### Explore"
   ]
  },
  {
   "cell_type": "code",
   "execution_count": 8,
   "metadata": {},
   "outputs": [
    {
     "name": "stdout",
     "output_type": "stream",
     "text": [
      "Statistics of price for Toronto housing dataset:\n",
      "\n",
      "Minimum price: $879000.0\n",
      "Maximum price: $7895000.0\n",
      "Mean price: $2191217.21\n",
      "Median price $1750000.0\n",
      "Standard deviation of prices: $1262483.77\n"
     ]
    }
   ],
   "source": [
    "prices = df.price\n",
    "\n",
    "# Minimum price of the data\n",
    "minimum_price = np.min(prices)\n",
    "\n",
    "# Maximum price of the data\n",
    "maximum_price = np.max(prices)\n",
    "\n",
    "# Mean price of the data\n",
    "mean_price = np.mean(prices)\n",
    "\n",
    "# Median price of the data\n",
    "median_price = np.median(prices)\n",
    "\n",
    "# Standard deviation of prices of the data\n",
    "std_price = np.std(prices)\n",
    "\n",
    "# Show the calculated statistics\n",
    "print(\"Statistics of price for Toronto housing dataset:\\n\")\n",
    "print(\"Minimum price: ${}\".format(round(minimum_price,2)))\n",
    "print(\"Maximum price: ${}\".format(round(maximum_price,2)))\n",
    "print(\"Mean price: ${}\".format(round(mean_price,2)))\n",
    "print(\"Median price ${}\".format(round(median_price,2)))\n",
    "print(\"Standard deviation of prices: ${}\".format(round(std_price,2)))\n"
   ]
  },
  {
   "cell_type": "code",
   "execution_count": 9,
   "metadata": {},
   "outputs": [
    {
     "data": {
      "image/png": "[encoded data removed]",
      "text/plain": [
       "<Figure size 640x480 with 1 Axes>"
      ]
     },
     "metadata": {},
     "output_type": "display_data"
    }
   ],
   "source": [
    "# Build histogram\n",
    "plt.hist(df['price'])\n",
    "\n",
    "# Label axes\n",
    "plt.xlabel('Price [$]')\n",
    "plt.ylabel(\"Count\")\n",
    "\n",
    "# Add title\n",
    "plt.title(\"Distribution of House Prices\")\n",
    "\n",
    "# after plotting the data, format the labels\n",
    "current_values = plt.gca().get_xticks()\n",
    "# using format string '{:.0f}' here but you can choose others\n",
    "plt.gca().set_xticklabels(['{:,.0f}'.format(x) for x in current_values])\n",
    "\n",
    "plt.xticks(rotation=45)\n",
    "plt.show()"
   ]
  },
  {
   "cell_type": "code",
   "execution_count": 10,
   "metadata": {},
   "outputs": [
    {
     "data": {
      "text/plain": [
       "count     990.000000\n",
       "mean      476.484667\n",
       "std       237.476045\n",
       "min       158.100000\n",
       "25%       291.480000\n",
       "50%       436.870000\n",
       "75%       597.455000\n",
       "max      1542.850000\n",
       "Name: area_m2, dtype: float64"
      ]
     },
     "execution_count": 10,
     "metadata": {},
     "output_type": "execute_result"
    }
   ],
   "source": [
    "# Examine area\n",
    "area = df.area_m2\n",
    "\n",
    "# view summary statistics\n",
    "area.describe()"
   ]
  },
  {
   "cell_type": "code",
   "execution_count": 11,
   "metadata": {},
   "outputs": [
    {
     "data": {
      "text/plain": [
       "Text(0.5, 1.0, 'Distribution of House Sizes')"
      ]
     },
     "execution_count": 11,
     "metadata": {},
     "output_type": "execute_result"
    },
    {
     "data": {
      "image/png": "[encoded data removed]",
      "text/plain": [
       "<Figure size 640x480 with 1 Axes>"
      ]
     },
     "metadata": {},
     "output_type": "display_data"
    }
   ],
   "source": [
    "# plot histogram\n",
    "plt.hist(df['area_m2'])\n",
    "# set axis labels\n",
    "plt.xlabel('Area [sq meters]')\n",
    "plt.ylabel(\"Count\")\n",
    "\n",
    "# set tite\n",
    "plt.title('Distribution of House Sizes')"
   ]
  },
  {
   "cell_type": "code",
   "execution_count": 12,
   "metadata": {},
   "outputs": [
    {
     "data": {
      "text/plain": [
       "Text(0.5, 1.0, 'Toronto, Ontario: Price vs. Area')"
      ]
     },
     "execution_count": 12,
     "metadata": {},
     "output_type": "execute_result"
    },
    {
     "data": {
      "image/png": "[encoded data removed]",
      "text/plain": [
       "<Figure size 640x480 with 1 Axes>"
      ]
     },
     "metadata": {},
     "output_type": "display_data"
    }
   ],
   "source": [
    "# Build scatter plot\n",
    "plt.scatter(df[\"area_m2\"], df[\"price\"])\n",
    "\n",
    "\n",
    "# Label axes\n",
    "plt.xlabel(\"Area [sq meters]\")\n",
    "plt.ylabel(\"Price [USD]\")\n",
    "\n",
    "# Add title\n",
    "plt.title(\"Toronto, Ontario: Price vs. Area\")\n",
    "\n"
   ]
  },
  {
   "cell_type": "code",
   "execution_count": 13,
   "metadata": {},
   "outputs": [
    {
     "data": {
      "application/vnd.plotly.v1+json": {
       "config": {
        "plotlyServerURL": "https://plot.ly"
       },
       "data": [
        {
         "customdata": [
          [
           "Bridle Path-Sunnybrook-York Mills"
          ],
          [
           "other"
          ],
          [
           "other"
          ],
          [
           "other"
          ],
          [
           "Bridle Path-Sunnybrook-York Mills"
          ],
          [
           "other"
          ],
          [
           "other"
          ],
          [
           "other"
          ],
          [
           "other"
          ],
          [
           "Bridle Path-Sunnybrook-York Mills"
          ],
          [
           "other"
          ],
          [
           "Newtonbrook East"
          ],
          [
           "other"
          ],
          [
           "other"
          ],
          [
           "other"
          ],
          [
           "other"
          ],
          [
           "York University Heights"
          ],
          [
           "other"
          ],
          [
           "Bridle Path-Sunnybrook-York Mills"
          ],
          [
           "Bridle Path-Sunnybrook-York Mills"
          ],
          [
           "St. Andrew-Windfields"
          ],
          [
           "other"
          ],
          [
           "other"
          ],
          [
           "Willowdale East"
          ],
          [
           "other"
          ],
          [
           "other"
          ],
          [
           "other"
          ],
          [
           "other"
          ],
          [
           "Willowdale East"
          ],
          [
           "Bridle Path-Sunnybrook-York Mills"
          ],
          [
           "Bedford Park-Nortown"
          ],
          [
           "St. Andrew-Windfields"
          ],
          [
           "other"
          ],
          [
           "other"
          ],
          [
           "other"
          ],
          [
           "other"
          ],
          [
           "other"
          ],
          [
           "other"
          ],
          [
           "other"
          ],
          [
           "other"
          ],
          [
           "other"
          ],
          [
           "Willowdale East"
          ],
          [
           "other"
          ],
          [
           "Willowdale East"
          ],
          [
           "other"
          ],
          [
           "other"
          ],
          [
           "other"
          ],
          [
           "St. Andrew-Windfields"
          ],
          [
           "Newtonbrook East"
          ],
          [
           "other"
          ],
          [
           "St. Andrew-Windfields"
          ],
          [
           "other"
          ],
          [
           "other"
          ],
          [
           "other"
          ],
          [
           "other"
          ],
          [
           "St. Andrew-Windfields"
          ],
          [
           "Newtonbrook East"
          ],
          [
           "other"
          ],
          [
           "St. Andrew-Windfields"
          ],
          [
           "other"
          ],
          [
           "other"
          ],
          [
           "Willowdale East"
          ],
          [
           "Bedford Park-Nortown"
          ],
          [
           "other"
          ],
          [
           "other"
          ],
          [
           "Willowdale West"
          ],
          [
           "other"
          ],
          [
           "other"
          ],
          [
           "other"
          ],
          [
           "other"
          ],
          [
           "other"
          ],
          [
           "other"
          ],
          [
           "other"
          ],
          [
           "Willowdale East"
          ],
          [
           "other"
          ],
          [
           "other"
          ],
          [
           "other"
          ],
          [
           "other"
          ],
          [
           "other"
          ],
          [
           "other"
          ],
          [
           "St. Andrew-Windfields"
          ],
          [
           "other"
          ],
          [
           "other"
          ],
          [
           "St. Andrew-Windfields"
          ],
          [
           "other"
          ],
          [
           "other"
          ],
          [
           "other"
          ],
          [
           "other"
          ],
          [
           "other"
          ],
          [
           "other"
          ],
          [
           "other"
          ],
          [
           "other"
          ],
          [
           "Bedford Park-Nortown"
          ],
          [
           "other"
          ],
          [
           "Willowdale West"
          ],
          [
           "other"
          ],
          [
           "other"
          ],
          [
           "Willowdale East"
          ],
          [
           "Willowdale West"
          ],
          [
           "other"
          ],
          [
           "Willowdale West"
          ],
          [
           "other"
          ],
          [
           "other"
          ],
          [
           "other"
          ],
          [
           "Bridle Path-Sunnybrook-York Mills"
          ],
          [
           "other"
          ],
          [
           "other"
          ],
          [
           "other"
          ],
          [
           "other"
          ],
          [
           "other"
          ],
          [
           "other"
          ],
          [
           "Willowdale East"
          ],
          [
           "other"
          ],
          [
           "Bedford Park-Nortown"
          ],
          [
           "other"
          ],
          [
           "other"
          ],
          [
           "other"
          ],
          [
           "other"
          ],
          [
           "other"
          ],
          [
           "other"
          ],
          [
           "other"
          ],
          [
           "St. Andrew-Windfields"
          ],
          [
           "other"
          ],
          [
           "other"
          ],
          [
           "other"
          ],
          [
           "other"
          ],
          [
           "Bridle Path-Sunnybrook-York Mills"
          ],
          [
           "other"
          ],
          [
           "other"
          ],
          [
           "other"
          ],
          [
           "other"
          ],
          [
           "Newtonbrook East"
          ],
          [
           "other"
          ],
          [
           "other"
          ],
          [
           "other"
          ],
          [
           "Newtonbrook East"
          ],
          [
           "other"
          ],
          [
           "other"
          ],
          [
           "other"
          ],
          [
           "other"
          ],
          [
           "other"
          ],
          [
           "Willowdale West"
          ],
          [
           "other"
          ],
          [
           "other"
          ],
          [
           "other"
          ],
          [
           "other"
          ],
          [
           "Newtonbrook East"
          ],
          [
           "St. Andrew-Windfields"
          ],
          [
           "other"
          ],
          [
           "other"
          ],
          [
           "other"
          ],
          [
           "other"
          ],
          [
           "other"
          ],
          [
           "other"
          ],
          [
           "York University Heights"
          ],
          [
           "York University Heights"
          ],
          [
           "Bedford Park-Nortown"
          ],
          [
           "other"
          ],
          [
           "Bedford Park-Nortown"
          ],
          [
           "other"
          ],
          [
           "other"
          ],
          [
           "other"
          ],
          [
           "other"
          ],
          [
           "York University Heights"
          ],
          [
           "York University Heights"
          ],
          [
           "Bedford Park-Nortown"
          ],
          [
           "other"
          ],
          [
           "Bedford Park-Nortown"
          ],
          [
           "other"
          ],
          [
           "other"
          ],
          [
           "other"
          ],
          [
           "other"
          ],
          [
           "Willowdale West"
          ],
          [
           "other"
          ],
          [
           "Willowdale East"
          ],
          [
           "other"
          ],
          [
           "Willowdale East"
          ],
          [
           "other"
          ],
          [
           "Willowdale East"
          ],
          [
           "other"
          ],
          [
           "other"
          ],
          [
           "other"
          ],
          [
           "other"
          ],
          [
           "other"
          ],
          [
           "other"
          ],
          [
           "other"
          ],
          [
           "Willowdale West"
          ],
          [
           "other"
          ],
          [
           "other"
          ],
          [
           "other"
          ],
          [
           "other"
          ],
          [
           "other"
          ],
          [
           "other"
          ],
          [
           "Willowdale West"
          ],
          [
           "other"
          ],
          [
           "other"
          ],
          [
           "Willowdale East"
          ],
          [
           "other"
          ],
          [
           "other"
          ],
          [
           "other"
          ],
          [
           "other"
          ],
          [
           "other"
          ],
          [
           "other"
          ],
          [
           "other"
          ],
          [
           "other"
          ],
          [
           "other"
          ],
          [
           "other"
          ],
          [
           "other"
          ],
          [
           "other"
          ],
          [
           "other"
          ],
          [
           "other"
          ],
          [
           "other"
          ],
          [
           "other"
          ],
          [
           "other"
          ],
          [
           "other"
          ],
          [
           "other"
          ],
          [
           "other"
          ],
          [
           "other"
          ],
          [
           "other"
          ],
          [
           "other"
          ],
          [
           "other"
          ],
          [
           "other"
          ],
          [
           "other"
          ],
          [
           "other"
          ],
          [
           "other"
          ],
          [
           "other"
          ],
          [
           "other"
          ],
          [
           "other"
          ],
          [
           "other"
          ],
          [
           "other"
          ],
          [
           "other"
          ],
          [
           "other"
          ],
          [
           "other"
          ],
          [
           "other"
          ],
          [
           "other"
          ],
          [
           "other"
          ],
          [
           "other"
          ],
          [
           "other"
          ],
          [
           "other"
          ],
          [
           "other"
          ],
          [
           "other"
          ],
          [
           "other"
          ],
          [
           "other"
          ],
          [
           "other"
          ],
          [
           "other"
          ],
          [
           "other"
          ],
          [
           "other"
          ],
          [
           "other"
          ],
          [
           "other"
          ],
          [
           "other"
          ],
          [
           "other"
          ],
          [
           "other"
          ],
          [
           "other"
          ],
          [
           "other"
          ],
          [
           "Willowdale East"
          ],
          [
           "other"
          ],
          [
           "other"
          ],
          [
           "other"
          ],
          [
           "Bedford Park-Nortown"
          ],
          [
           "other"
          ],
          [
           "other"
          ],
          [
           "other"
          ],
          [
           "other"
          ],
          [
           "other"
          ],
          [
           "other"
          ],
          [
           "Willowdale East"
          ],
          [
           "other"
          ],
          [
           "other"
          ],
          [
           "Bedford Park-Nortown"
          ],
          [
           "other"
          ],
          [
           "Newtonbrook East"
          ],
          [
           "other"
          ],
          [
           "Newtonbrook East"
          ],
          [
           "other"
          ],
          [
           "other"
          ],
          [
           "St. Andrew-Windfields"
          ],
          [
           "other"
          ],
          [
           "other"
          ],
          [
           "other"
          ],
          [
           "other"
          ],
          [
           "York University Heights"
          ],
          [
           "other"
          ],
          [
           "other"
          ],
          [
           "other"
          ],
          [
           "other"
          ],
          [
           "other"
          ],
          [
           "other"
          ],
          [
           "other"
          ],
          [
           "other"
          ],
          [
           "other"
          ],
          [
           "other"
          ],
          [
           "other"
          ],
          [
           "other"
          ],
          [
           "other"
          ],
          [
           "other"
          ],
          [
           "other"
          ],
          [
           "other"
          ],
          [
           "other"
          ],
          [
           "other"
          ],
          [
           "other"
          ],
          [
           "Newtonbrook East"
          ],
          [
           "other"
          ],
          [
           "other"
          ],
          [
           "other"
          ],
          [
           "other"
          ],
          [
           "other"
          ],
          [
           "other"
          ],
          [
           "other"
          ],
          [
           "Willowdale East"
          ],
          [
           "Bedford Park-Nortown"
          ],
          [
           "other"
          ],
          [
           "other"
          ],
          [
           "St. Andrew-Windfields"
          ],
          [
           "other"
          ],
          [
           "other"
          ],
          [
           "other"
          ],
          [
           "York University Heights"
          ],
          [
           "other"
          ],
          [
           "other"
          ],
          [
           "other"
          ],
          [
           "other"
          ],
          [
           "other"
          ],
          [
           "other"
          ],
          [
           "other"
          ],
          [
           "other"
          ],
          [
           "other"
          ],
          [
           "other"
          ],
          [
           "other"
          ],
          [
           "other"
          ],
          [
           "other"
          ],
          [
           "other"
          ],
          [
           "other"
          ],
          [
           "other"
          ],
          [
           "other"
          ],
          [
           "Bedford Park-Nortown"
          ],
          [
           "Bedford Park-Nortown"
          ],
          [
           "other"
          ],
          [
           "other"
          ],
          [
           "other"
          ],
          [
           "other"
          ],
          [
           "other"
          ],
          [
           "Willowdale West"
          ],
          [
           "other"
          ],
          [
           "other"
          ],
          [
           "other"
          ],
          [
           "other"
          ],
          [
           "Willowdale West"
          ],
          [
           "other"
          ],
          [
           "other"
          ],
          [
           "other"
          ],
          [
           "other"
          ],
          [
           "other"
          ],
          [
           "other"
          ],
          [
           "other"
          ],
          [
           "other"
          ],
          [
           "other"
          ],
          [
           "York University Heights"
          ],
          [
           "Bedford Park-Nortown"
          ],
          [
           "other"
          ],
          [
           "Newtonbrook East"
          ],
          [
           "Willowdale East"
          ],
          [
           "other"
          ],
          [
           "other"
          ],
          [
           "other"
          ],
          [
           "other"
          ],
          [
           "Willowdale East"
          ],
          [
           "other"
          ],
          [
           "other"
          ],
          [
           "Newtonbrook East"
          ],
          [
           "Bridle Path-Sunnybrook-York Mills"
          ],
          [
           "other"
          ],
          [
           "other"
          ],
          [
           "other"
          ],
          [
           "other"
          ],
          [
           "other"
          ],
          [
           "other"
          ],
          [
           "St. Andrew-Windfields"
          ],
          [
           "other"
          ],
          [
           "Bedford Park-Nortown"
          ],
          [
           "other"
          ],
          [
           "other"
          ],
          [
           "other"
          ],
          [
           "other"
          ],
          [
           "other"
          ],
          [
           "other"
          ],
          [
           "other"
          ],
          [
           "other"
          ],
          [
           "other"
          ],
          [
           "other"
          ],
          [
           "other"
          ],
          [
           "Newtonbrook East"
          ],
          [
           "other"
          ],
          [
           "other"
          ],
          [
           "other"
          ],
          [
           "other"
          ],
          [
           "other"
          ],
          [
           "Bedford Park-Nortown"
          ],
          [
           "other"
          ],
          [
           "other"
          ],
          [
           "other"
          ],
          [
           "other"
          ],
          [
           "other"
          ],
          [
           "other"
          ],
          [
           "other"
          ],
          [
           "other"
          ],
          [
           "other"
          ],
          [
           "Bridle Path-Sunnybrook-York Mills"
          ],
          [
           "other"
          ],
          [
           "other"
          ],
          [
           "other"
          ],
          [
           "other"
          ],
          [
           "other"
          ],
          [
           "Bedford Park-Nortown"
          ],
          [
           "other"
          ],
          [
           "other"
          ],
          [
           "York University Heights"
          ],
          [
           "Willowdale East"
          ],
          [
           "other"
          ],
          [
           "other"
          ],
          [
           "other"
          ],
          [
           "St. Andrew-Windfields"
          ],
          [
           "other"
          ],
          [
           "Bedford Park-Nortown"
          ],
          [
           "other"
          ],
          [
           "other"
          ],
          [
           "other"
          ],
          [
           "other"
          ],
          [
           "other"
          ],
          [
           "other"
          ],
          [
           "other"
          ],
          [
           "other"
          ],
          [
           "other"
          ],
          [
           "other"
          ],
          [
           "other"
          ],
          [
           "other"
          ],
          [
           "Bedford Park-Nortown"
          ],
          [
           "other"
          ],
          [
           "other"
          ],
          [
           "other"
          ],
          [
           "other"
          ],
          [
           "other"
          ],
          [
           "other"
          ],
          [
           "Willowdale West"
          ],
          [
           "other"
          ],
          [
           "other"
          ],
          [
           "other"
          ],
          [
           "other"
          ],
          [
           "other"
          ],
          [
           "other"
          ],
          [
           "other"
          ],
          [
           "other"
          ],
          [
           "other"
          ],
          [
           "other"
          ],
          [
           "Willowdale West"
          ],
          [
           "other"
          ],
          [
           "other"
          ],
          [
           "other"
          ],
          [
           "Bedford Park-Nortown"
          ],
          [
           "other"
          ],
          [
           "other"
          ],
          [
           "other"
          ],
          [
           "other"
          ],
          [
           "other"
          ],
          [
           "other"
          ],
          [
           "other"
          ],
          [
           "other"
          ],
          [
           "other"
          ],
          [
           "other"
          ],
          [
           "other"
          ],
          [
           "other"
          ],
          [
           "York University Heights"
          ],
          [
           "other"
          ],
          [
           "Bedford Park-Nortown"
          ],
          [
           "other"
          ],
          [
           "other"
          ],
          [
           "other"
          ],
          [
           "other"
          ],
          [
           "Willowdale West"
          ],
          [
           "Willowdale East"
          ],
          [
           "Willowdale East"
          ],
          [
           "other"
          ],
          [
           "other"
          ],
          [
           "other"
          ],
          [
           "other"
          ],
          [
           "other"
          ],
          [
           "other"
          ],
          [
           "other"
          ],
          [
           "Bedford Park-Nortown"
          ],
          [
           "other"
          ],
          [
           "Willowdale West"
          ],
          [
           "other"
          ],
          [
           "Bridle Path-Sunnybrook-York Mills"
          ],
          [
           "other"
          ],
          [
           "other"
          ],
          [
           "other"
          ],
          [
           "other"
          ],
          [
           "other"
          ],
          [
           "other"
          ],
          [
           "other"
          ],
          [
           "other"
          ],
          [
           "other"
          ],
          [
           "other"
          ],
          [
           "other"
          ],
          [
           "York University Heights"
          ],
          [
           "other"
          ],
          [
           "other"
          ],
          [
           "other"
          ],
          [
           "other"
          ],
          [
           "other"
          ],
          [
           "Birchcliffe-Cliffside"
          ],
          [
           "other"
          ],
          [
           "other"
          ],
          [
           "other"
          ],
          [
           "other"
          ],
          [
           "other"
          ],
          [
           "other"
          ],
          [
           "other"
          ],
          [
           "other"
          ],
          [
           "other"
          ],
          [
           "Willowdale East"
          ],
          [
           "other"
          ],
          [
           "other"
          ],
          [
           "other"
          ],
          [
           "other"
          ],
          [
           "other"
          ],
          [
           "other"
          ],
          [
           "other"
          ],
          [
           "other"
          ],
          [
           "The Beaches"
          ],
          [
           "The Beaches"
          ],
          [
           "other"
          ],
          [
           "other"
          ],
          [
           "other"
          ],
          [
           "other"
          ],
          [
           "other"
          ],
          [
           "other"
          ],
          [
           "other"
          ],
          [
           "other"
          ],
          [
           "other"
          ],
          [
           "Islington-City Centre West"
          ],
          [
           "other"
          ],
          [
           "other"
          ],
          [
           "other"
          ],
          [
           "other"
          ],
          [
           "other"
          ],
          [
           "other"
          ],
          [
           "other"
          ],
          [
           "other"
          ],
          [
           "other"
          ],
          [
           "other"
          ],
          [
           "other"
          ],
          [
           "other"
          ],
          [
           "The Beaches"
          ],
          [
           "other"
          ],
          [
           "other"
          ],
          [
           "other"
          ],
          [
           "Islington-City Centre West"
          ],
          [
           "other"
          ],
          [
           "other"
          ],
          [
           "other"
          ],
          [
           "other"
          ],
          [
           "other"
          ],
          [
           "other"
          ],
          [
           "other"
          ],
          [
           "other"
          ],
          [
           "other"
          ],
          [
           "other"
          ],
          [
           "other"
          ],
          [
           "other"
          ],
          [
           "other"
          ],
          [
           "other"
          ],
          [
           "other"
          ],
          [
           "other"
          ],
          [
           "other"
          ],
          [
           "other"
          ],
          [
           "other"
          ],
          [
           "other"
          ],
          [
           "other"
          ],
          [
           "other"
          ],
          [
           "Birchcliffe-Cliffside"
          ],
          [
           "other"
          ],
          [
           "other"
          ],
          [
           "other"
          ],
          [
           "Willowdale East"
          ],
          [
           "other"
          ],
          [
           "other"
          ],
          [
           "other"
          ],
          [
           "other"
          ],
          [
           "Willowdale East"
          ],
          [
           "other"
          ],
          [
           "other"
          ],
          [
           "Birchcliffe-Cliffside"
          ],
          [
           "Willowdale East"
          ],
          [
           "other"
          ],
          [
           "other"
          ],
          [
           "other"
          ],
          [
           "other"
          ],
          [
           "other"
          ],
          [
           "other"
          ],
          [
           "other"
          ],
          [
           "other"
          ],
          [
           "The Beaches"
          ],
          [
           "other"
          ],
          [
           "other"
          ],
          [
           "other"
          ],
          [
           "other"
          ],
          [
           "other"
          ],
          [
           "other"
          ],
          [
           "other"
          ],
          [
           "other"
          ],
          [
           "other"
          ],
          [
           "other"
          ],
          [
           "other"
          ],
          [
           "other"
          ],
          [
           "other"
          ],
          [
           "other"
          ],
          [
           "other"
          ],
          [
           "Willowdale East"
          ],
          [
           "other"
          ],
          [
           "other"
          ],
          [
           "other"
          ],
          [
           "other"
          ],
          [
           "other"
          ],
          [
           "other"
          ],
          [
           "other"
          ],
          [
           "other"
          ],
          [
           "other"
          ],
          [
           "Islington-City Centre West"
          ],
          [
           "other"
          ],
          [
           "other"
          ],
          [
           "other"
          ],
          [
           "other"
          ],
          [
           "other"
          ],
          [
           "other"
          ],
          [
           "other"
          ],
          [
           "other"
          ],
          [
           "other"
          ],
          [
           "other"
          ],
          [
           "other"
          ],
          [
           "The Beaches"
          ],
          [
           "other"
          ],
          [
           "other"
          ],
          [
           "other"
          ],
          [
           "other"
          ],
          [
           "other"
          ],
          [
           "other"
          ],
          [
           "other"
          ],
          [
           "other"
          ],
          [
           "other"
          ],
          [
           "other"
          ],
          [
           "other"
          ],
          [
           "other"
          ],
          [
           "other"
          ],
          [
           "other"
          ],
          [
           "other"
          ],
          [
           "Islington-City Centre West"
          ],
          [
           "other"
          ],
          [
           "other"
          ],
          [
           "other"
          ],
          [
           "other"
          ],
          [
           "Islington-City Centre West"
          ],
          [
           "other"
          ],
          [
           "other"
          ],
          [
           "other"
          ],
          [
           "other"
          ],
          [
           "other"
          ],
          [
           "other"
          ],
          [
           "Willowdale East"
          ],
          [
           "other"
          ],
          [
           "other"
          ],
          [
           "other"
          ],
          [
           "The Beaches"
          ],
          [
           "The Beaches"
          ],
          [
           "other"
          ],
          [
           "other"
          ],
          [
           "other"
          ],
          [
           "other"
          ],
          [
           "other"
          ],
          [
           "other"
          ],
          [
           "other"
          ],
          [
           "other"
          ],
          [
           "other"
          ],
          [
           "other"
          ],
          [
           "other"
          ],
          [
           "other"
          ],
          [
           "other"
          ],
          [
           "other"
          ],
          [
           "other"
          ],
          [
           "other"
          ],
          [
           "Birchcliffe-Cliffside"
          ],
          [
           "other"
          ],
          [
           "other"
          ],
          [
           "Birchcliffe-Cliffside"
          ],
          [
           "other"
          ],
          [
           "The Beaches"
          ],
          [
           "other"
          ],
          [
           "other"
          ],
          [
           "other"
          ],
          [
           "other"
          ],
          [
           "other"
          ],
          [
           "other"
          ],
          [
           "other"
          ],
          [
           "other"
          ],
          [
           "other"
          ],
          [
           "other"
          ],
          [
           "other"
          ],
          [
           "Birchcliffe-Cliffside"
          ],
          [
           "other"
          ],
          [
           "Islington-City Centre West"
          ],
          [
           "other"
          ],
          [
           "other"
          ],
          [
           "other"
          ],
          [
           "other"
          ],
          [
           "other"
          ],
          [
           "other"
          ],
          [
           "other"
          ],
          [
           "other"
          ],
          [
           "other"
          ],
          [
           "other"
          ],
          [
           "other"
          ],
          [
           "other"
          ],
          [
           "other"
          ],
          [
           "other"
          ],
          [
           "other"
          ],
          [
           "other"
          ],
          [
           "other"
          ],
          [
           "other"
          ],
          [
           "other"
          ],
          [
           "other"
          ],
          [
           "other"
          ],
          [
           "other"
          ],
          [
           "other"
          ],
          [
           "other"
          ],
          [
           "other"
          ],
          [
           "other"
          ],
          [
           "other"
          ],
          [
           "Birchcliffe-Cliffside"
          ],
          [
           "other"
          ],
          [
           "other"
          ],
          [
           "other"
          ],
          [
           "other"
          ],
          [
           "other"
          ],
          [
           "other"
          ],
          [
           "Willowdale East"
          ],
          [
           "other"
          ],
          [
           "other"
          ],
          [
           "other"
          ],
          [
           "other"
          ],
          [
           "The Beaches"
          ],
          [
           "other"
          ],
          [
           "other"
          ],
          [
           "Birchcliffe-Cliffside"
          ],
          [
           "other"
          ],
          [
           "other"
          ],
          [
           "other"
          ],
          [
           "Willowdale East"
          ],
          [
           "other"
          ],
          [
           "other"
          ],
          [
           "other"
          ],
          [
           "other"
          ],
          [
           "other"
          ],
          [
           "other"
          ],
          [
           "other"
          ],
          [
           "other"
          ],
          [
           "other"
          ],
          [
           "Willowdale East"
          ],
          [
           "other"
          ],
          [
           "other"
          ],
          [
           "Willowdale East"
          ],
          [
           "other"
          ],
          [
           "Islington-City Centre West"
          ],
          [
           "other"
          ],
          [
           "other"
          ],
          [
           "other"
          ],
          [
           "other"
          ],
          [
           "other"
          ],
          [
           "other"
          ],
          [
           "other"
          ],
          [
           "other"
          ],
          [
           "other"
          ],
          [
           "other"
          ],
          [
           "other"
          ],
          [
           "other"
          ],
          [
           "other"
          ],
          [
           "other"
          ],
          [
           "other"
          ],
          [
           "other"
          ],
          [
           "other"
          ],
          [
           "other"
          ],
          [
           "other"
          ],
          [
           "other"
          ],
          [
           "other"
          ],
          [
           "Birchcliffe-Cliffside"
          ],
          [
           "other"
          ],
          [
           "other"
          ],
          [
           "other"
          ],
          [
           "other"
          ],
          [
           "Willowdale East"
          ],
          [
           "other"
          ],
          [
           "other"
          ],
          [
           "other"
          ],
          [
           "other"
          ],
          [
           "other"
          ],
          [
           "other"
          ],
          [
           "Islington-City Centre West"
          ],
          [
           "Islington-City Centre West"
          ],
          [
           "Birchcliffe-Cliffside"
          ],
          [
           "other"
          ],
          [
           "other"
          ],
          [
           "other"
          ],
          [
           "other"
          ],
          [
           "other"
          ],
          [
           "other"
          ],
          [
           "other"
          ],
          [
           "other"
          ],
          [
           "other"
          ],
          [
           "other"
          ],
          [
           "other"
          ],
          [
           "other"
          ],
          [
           "other"
          ],
          [
           "other"
          ],
          [
           "other"
          ],
          [
           "other"
          ],
          [
           "other"
          ],
          [
           "other"
          ],
          [
           "other"
          ],
          [
           "other"
          ],
          [
           "other"
          ],
          [
           "other"
          ],
          [
           "other"
          ],
          [
           "other"
          ],
          [
           "other"
          ],
          [
           "other"
          ],
          [
           "other"
          ],
          [
           "other"
          ],
          [
           "other"
          ],
          [
           "other"
          ],
          [
           "other"
          ],
          [
           "other"
          ],
          [
           "other"
          ],
          [
           "other"
          ],
          [
           "other"
          ],
          [
           "other"
          ],
          [
           "other"
          ],
          [
           "The Beaches"
          ],
          [
           "other"
          ],
          [
           "Willowdale East"
          ],
          [
           "other"
          ],
          [
           "other"
          ],
          [
           "other"
          ],
          [
           "other"
          ],
          [
           "other"
          ],
          [
           "Birchcliffe-Cliffside"
          ],
          [
           "other"
          ],
          [
           "other"
          ],
          [
           "other"
          ],
          [
           "other"
          ],
          [
           "other"
          ],
          [
           "other"
          ],
          [
           "other"
          ],
          [
           "other"
          ],
          [
           "other"
          ],
          [
           "other"
          ],
          [
           "other"
          ],
          [
           "other"
          ],
          [
           "other"
          ],
          [
           "other"
          ],
          [
           "other"
          ],
          [
           "other"
          ],
          [
           "other"
          ],
          [
           "other"
          ],
          [
           "other"
          ],
          [
           "other"
          ],
          [
           "The Beaches"
          ],
          [
           "other"
          ],
          [
           "other"
          ],
          [
           "other"
          ],
          [
           "other"
          ],
          [
           "other"
          ],
          [
           "other"
          ],
          [
           "The Beaches"
          ],
          [
           "other"
          ],
          [
           "Willowdale East"
          ],
          [
           "other"
          ],
          [
           "other"
          ],
          [
           "other"
          ],
          [
           "other"
          ],
          [
           "other"
          ],
          [
           "Birchcliffe-Cliffside"
          ],
          [
           "other"
          ],
          [
           "other"
          ],
          [
           "other"
          ],
          [
           "other"
          ],
          [
           "other"
          ],
          [
           "other"
          ],
          [
           "other"
          ],
          [
           "other"
          ],
          [
           "other"
          ],
          [
           "other"
          ],
          [
           "other"
          ],
          [
           "other"
          ],
          [
           "other"
          ],
          [
           "other"
          ],
          [
           "other"
          ],
          [
           "other"
          ],
          [
           "other"
          ],
          [
           "other"
          ],
          [
           "The Beaches"
          ],
          [
           "other"
          ],
          [
           "other"
          ],
          [
           "other"
          ],
          [
           "other"
          ],
          [
           "other"
          ],
          [
           "other"
          ],
          [
           "Willowdale East"
          ],
          [
           "other"
          ],
          [
           "other"
          ],
          [
           "other"
          ],
          [
           "other"
          ],
          [
           "other"
          ],
          [
           "other"
          ],
          [
           "other"
          ],
          [
           "other"
          ],
          [
           "other"
          ],
          [
           "other"
          ],
          [
           "other"
          ],
          [
           "other"
          ],
          [
           "other"
          ],
          [
           "other"
          ],
          [
           "other"
          ],
          [
           "other"
          ],
          [
           "other"
          ],
          [
           "other"
          ],
          [
           "Birchcliffe-Cliffside"
          ],
          [
           "other"
          ],
          [
           "other"
          ],
          [
           "other"
          ],
          [
           "other"
          ],
          [
           "other"
          ],
          [
           "Islington-City Centre West"
          ],
          [
           "other"
          ],
          [
           "other"
          ],
          [
           "other"
          ],
          [
           "other"
          ],
          [
           "other"
          ],
          [
           "other"
          ],
          [
           "other"
          ],
          [
           "other"
          ],
          [
           "other"
          ],
          [
           "other"
          ],
          [
           "other"
          ],
          [
           "Willowdale East"
          ],
          [
           "Willowdale East"
          ],
          [
           "other"
          ],
          [
           "other"
          ],
          [
           "other"
          ],
          [
           "other"
          ],
          [
           "other"
          ],
          [
           "other"
          ],
          [
           "other"
          ],
          [
           "other"
          ],
          [
           "other"
          ],
          [
           "other"
          ],
          [
           "other"
          ],
          [
           "other"
          ],
          [
           "other"
          ],
          [
           "other"
          ],
          [
           "other"
          ],
          [
           "other"
          ],
          [
           "other"
          ],
          [
           "other"
          ],
          [
           "other"
          ],
          [
           "Islington-City Centre West"
          ],
          [
           "other"
          ],
          [
           "other"
          ],
          [
           "other"
          ],
          [
           "other"
          ],
          [
           "other"
          ],
          [
           "other"
          ],
          [
           "other"
          ],
          [
           "other"
          ],
          [
           "other"
          ],
          [
           "other"
          ],
          [
           "other"
          ],
          [
           "other"
          ],
          [
           "other"
          ],
          [
           "other"
          ],
          [
           "other"
          ],
          [
           "other"
          ],
          [
           "other"
          ]
         ],
         "hovertemplate": "lat=%{lat}<br>lon=%{lon}<br>community_name=%{customdata[0]}<br>price=%{marker.color}<extra></extra>",
         "lat": [
          43.7547,
          43.7598,
          43.7366,
          43.7366,
          43.7547,
          43.7122,
          43.6736,
          43.6748,
          43.7334,
          43.6383,
          43.7915,
          43.6021,
          43.6437,
          43.6683,
          43.7694,
          43.7547,
          43.75,
          43.6383,
          43.7673,
          43.6827,
          43.7673,
          43.7334,
          43.6952,
          43.6913,
          43.6683,
          43.6325,
          43.6662,
          43.6693,
          43.7673,
          43.6872,
          43.7673,
          43.6683,
          43.6966,
          43.7547,
          43.7464,
          43.75,
          43.6949,
          43.6683,
          43.6966,
          43.7547,
          43.7915,
          43.7464,
          43.75,
          43.6949,
          43.6952,
          43.7673,
          43.7298,
          43.7786,
          43.7786,
          43.8113,
          43.6949,
          43.7144,
          43.6934,
          43.7673,
          43.6075,
          43.6872,
          43.7678,
          43.6915,
          43.6827,
          43.7547,
          43.6021,
          43.6827,
          43.6748,
          43.6437,
          43.6949,
          43.7432,
          43.7113,
          43.7137,
          43.6655,
          43.6889,
          43.7673,
          43.7786,
          43.745,
          43.6518,
          43.7797,
          43.6949,
          43.7144,
          43.6934,
          43.7673,
          43.7144,
          43.6505,
          43.6505,
          43.6827,
          43.7507,
          43.7612,
          43.7612,
          43.75,
          43.6949,
          43.6437,
          43.6662,
          43.7547,
          43.7144,
          43.6949,
          43.7915,
          43.745,
          43.7946,
          43.7915,
          43.7786,
          43.6469,
          43.6075,
          43.7432,
          43.7673,
          43.6021,
          43.6693,
          43.6021,
          43.7915,
          43.75,
          43.7535,
          43.6966,
          43.7801,
          43.7247,
          43.7694,
          43.7694,
          43.7335,
          43.7432,
          43.7335,
          43.6966,
          43.7247,
          43.7694,
          43.7694,
          43.7335,
          43.7335,
          43.6541,
          43.7878,
          43.7319,
          43.7915,
          43.6629,
          43.7673,
          43.7786,
          43.7673,
          43.7124,
          43.6256,
          43.7135,
          43.7598,
          43.648,
          43.7786,
          43.6437,
          43.7135,
          43.7598,
          43.648,
          43.7786,
          43.7535,
          43.6437,
          43.7673,
          43.7319,
          43.6915,
          43.6784,
          43.7612,
          43.6889,
          43.7143,
          43.6913,
          43.6075,
          43.6541,
          43.7081,
          43.7797,
          43.6803,
          43.7568,
          43.6934,
          43.6021,
          43.6966,
          43.7144,
          43.7946,
          43.6662,
          43.6021,
          43.7535,
          43.7223,
          43.7223,
          43.6748,
          43.6889,
          43.6966,
          43.7247,
          43.6966,
          43.7507,
          43.648,
          43.8113,
          43.6966,
          43.6952,
          43.7568,
          43.7143,
          43.7946,
          43.7801,
          43.6736,
          43.6913,
          43.7081,
          43.6683,
          43.6748,
          43.7878,
          43.7673,
          43.7535,
          43.6505,
          43.7673,
          43.7801,
          43.6889,
          43.6889,
          43.648,
          43.6325,
          43.6469,
          43.7247,
          43.6383,
          43.7673,
          43.7081,
          43.7081,
          43.7335,
          43.6861,
          43.745,
          43.7915,
          43.7063,
          43.6662,
          43.75,
          43.7122,
          43.6075,
          43.745,
          43.6655,
          43.7694,
          43.6437,
          43.6075,
          43.6949,
          43.7786,
          43.6784,
          43.6683,
          43.6662,
          43.7545,
          43.6561,
          43.6325,
          43.6684,
          43.6693,
          43.8016,
          43.7535,
          43.7545,
          43.7598,
          43.6662,
          43.7878,
          43.648,
          43.7301,
          43.702,
          43.739,
          43.7673,
          43.6075,
          43.75,
          43.7432,
          43.6075,
          43.7334,
          43.7812,
          43.6655,
          43.6898,
          43.6949,
          43.6693,
          43.7122,
          43.7068,
          43.6561,
          43.7786,
          43.7801,
          43.7535,
          43.6934,
          43.7335,
          43.7335,
          43.7686,
          43.6437,
          43.6469,
          43.7113,
          43.7068,
          43.7786,
          43.6693,
          43.7063,
          43.7113,
          43.7068,
          43.7786,
          43.6693,
          43.7063,
          43.7686,
          43.6437,
          43.7535,
          43.6913,
          43.6075,
          43.7786,
          43.6913,
          43.7694,
          43.7113,
          43.7137,
          43.6693,
          43.6512,
          43.6966,
          43.7535,
          43.7915,
          43.6889,
          43.7915,
          43.6512,
          43.6325,
          43.6683,
          43.6889,
          43.6469,
          43.7298,
          43.7547,
          43.7301,
          43.6561,
          43.6605,
          43.7786,
          43.7135,
          43.7319,
          43.7223,
          43.7298,
          43.6021,
          43.7137,
          43.6512,
          43.7063,
          43.7122,
          43.6021,
          43.6383,
          null,
          43.6541,
          43.6256,
          43.6952,
          43.6949,
          43.6512,
          43.6021,
          43.7301,
          43.7786,
          43.8177,
          43.6505,
          43.7081,
          43.6075,
          43.7335,
          43.6861,
          43.7673,
          43.7694,
          43.7673,
          43.7535,
          43.6021,
          43.6021,
          43.6827,
          43.7335,
          43.7678,
          43.7137,
          43.6872,
          43.6605,
          43.7801,
          43.7122,
          43.6889,
          43.7464,
          43.6934,
          43.7335,
          43.6437,
          43.6736,
          43.6383,
          43.7301,
          43.7301,
          43.7678,
          43.8177,
          43.7801,
          43.7113,
          43.702,
          43.745,
          43.7786,
          43.7247,
          43.7612,
          43.648,
          43.6693,
          43.6469,
          43.6898,
          43.6889,
          43.6505,
          43.6629,
          43.6256,
          43.6469,
          43.8177,
          43.8177,
          43.7694,
          43.7081,
          43.7113,
          43.7915,
          43.7673,
          43.6469,
          43.7144,
          43.7786,
          43.7673,
          43.7673,
          43.6605,
          43.7535,
          43.6899,
          43.648,
          43.7946,
          43.7535,
          43.7335,
          43.6827,
          43.7786,
          43.6256,
          43.75,
          43.7507,
          43.6505,
          43.6655,
          43.6683,
          43.6683,
          43.6021,
          43.7081,
          43.745,
          43.7081,
          43.7786,
          null,
          null,
          null,
          null,
          null,
          null,
          null,
          null,
          null,
          null,
          null,
          null,
          null,
          null,
          null,
          null,
          null,
          null,
          null,
          null,
          null,
          null,
          null,
          null,
          null,
          null,
          null,
          null,
          null,
          null,
          null,
          null,
          null,
          null,
          null,
          null,
          null,
          null,
          null,
          null,
          null,
          null,
          null,
          null,
          null,
          null,
          null,
          null,
          null,
          null,
          null,
          null,
          null,
          null,
          null,
          null,
          null,
          null,
          null,
          null,
          null,
          null,
          null,
          null,
          null,
          null,
          null,
          null,
          null,
          null,
          null,
          null,
          null,
          null,
          null,
          null,
          null,
          null,
          null,
          null,
          null,
          null,
          null,
          null,
          null,
          null,
          null,
          null,
          null,
          null,
          null,
          null,
          null,
          null,
          null,
          null,
          null,
          null,
          null,
          null,
          null,
          null,
          null,
          null,
          null,
          null,
          null,
          43.8015,
          43.6021,
          43.6437,
          43.7081,
          43.6949,
          43.6952,
          43.702,
          43.7319,
          43.6075,
          43.6889,
          43.7507,
          43.7335,
          43.6915,
          43.7124,
          43.7568,
          43.6662,
          43.7319,
          43.6748,
          43.6784,
          43.6784,
          43.6872,
          43.7113,
          43.7797,
          43.6915,
          43.7113,
          43.7432,
          43.6325,
          43.6748,
          43.6505,
          43.6889,
          43.7712,
          43.6872,
          43.7135,
          43.7124,
          43.6966,
          43.6898,
          43.7801,
          43.6021,
          43.7673,
          43.6966,
          43.6662,
          43.7068,
          43.7507,
          43.7319,
          43.8113,
          43.7686,
          43.6075,
          43.7464,
          43.6949,
          43.7137,
          43.6889,
          43.8015,
          43.7598,
          43.7298,
          43.6915,
          43.7535,
          43.7686,
          43.7915,
          43.7301,
          43.8016,
          43.7678,
          43.7878,
          43.7673,
          43.7144,
          43.7068,
          43.7122,
          43.7673,
          43.648,
          43.7915,
          43.6952,
          43.7673,
          43.8015,
          null,
          43.6872,
          43.7812,
          43.6655,
          43.7545,
          43.7247,
          43.6693,
          43.6256,
          43.6827,
          43.7673,
          43.7545,
          43.7137,
          43.8177,
          43.6913,
          43.6872,
          43.648,
          43.6889,
          43.6748,
          43.8177,
          43.7812,
          43.7535,
          43.7276,
          43.7673,
          43.6325,
          43.6505,
          43.6949,
          43.6325,
          43.6803,
          43.6889,
          43.648,
          43.7786,
          43.6915,
          43.7113,
          43.7334,
          43.6505,
          43.6913,
          43.6693,
          43.6437,
          43.7612,
          43.6683,
          43.6605,
          43.7547,
          43.6736,
          43.7568,
          43.6872,
          43.6683,
          43.6899,
          43.702,
          43.6915,
          43.6021,
          43.6505,
          43.6437,
          43.7568,
          43.6512,
          43.6021,
          43.7063,
          43.7507,
          43.6683,
          43.7301,
          43.6437,
          43.6512,
          43.6784,
          43.6784,
          43.7786,
          43.6683,
          43.6889,
          43.6437,
          43.7678,
          43.7335,
          43.7915,
          43.6655,
          43.7547,
          43.6518,
          43.6662,
          43.6952,
          43.7946,
          43.7334,
          43.6952,
          43.7712,
          43.6784,
          43.7366,
          43.6803,
          43.6683,
          43.7432,
          43.7081,
          43.7878,
          43.6655,
          43.6512,
          43.7507,
          43.834,
          43.6952,
          43.7547,
          43.6469,
          43.6021,
          43.7678,
          43.7712,
          43.702,
          43.6683,
          43.6512,
          43.7678,
          43.7063,
          43.6872,
          43.6693,
          43.7247,
          43.7124,
          43.6861,
          43.6966,
          43.6684,
          43.6861,
          43.6861,
          43.6256,
          43.6256,
          43.6256,
          43.6518,
          43.6889,
          43.6505,
          43.6913,
          43.7122,
          43.6966,
          43.7786,
          43.7143,
          43.6683,
          43.7113,
          43.7673,
          43.7535,
          43.6693,
          43.6784,
          43.7545,
          43.648,
          43.6952,
          43.7678,
          43.7432,
          43.702,
          43.7673,
          43.6512,
          43.6966,
          43.7801,
          43.7712,
          43.7137,
          43.7568,
          43.6662,
          43.6683,
          43.6662,
          43.7673,
          43.7507,
          43.6505,
          43.7063,
          43.6075,
          43.6512,
          43.7915,
          43.7535,
          43.7319,
          43.6437,
          43.6898,
          43.7678,
          43.702,
          43.6683,
          43.6437,
          43.7063,
          43.7063,
          43.7673,
          43.6075,
          43.8177,
          43.8113,
          43.6952,
          43.7612,
          43.6655,
          43.6075,
          43.6872,
          43.7673,
          43.6662,
          43.6325,
          43.75,
          43.6325,
          43.6505,
          43.6505,
          43.6952,
          43.7335,
          43.6889,
          43.7535,
          43.6662,
          43.6512,
          43.6437,
          43.7319,
          43.6949,
          43.6934,
          43.6872,
          43.6913,
          43.6693,
          43.6404,
          43.745,
          43.7786,
          43.7673,
          43.7801,
          43.7694,
          43.6748,
          43.7335,
          43.6605,
          43.6605,
          43.6913,
          43.7335,
          43.6934,
          43.7122,
          43.7081,
          43.6021,
          43.7334,
          43.6693,
          43.7673,
          43.7694,
          43.7068,
          43.7068,
          43.7247,
          43.6952,
          43.745,
          43.6872,
          43.7547,
          43.7812,
          43.6021,
          43.7247,
          43.7247,
          43.6913,
          43.6913,
          43.7673,
          43.7135,
          43.7113,
          43.7598,
          43.6872,
          43.7797,
          43.739,
          43.6655,
          43.6913,
          43.8016,
          43.7673,
          43.7694,
          43.7068,
          43.6803,
          43.7247,
          43.6748,
          43.745,
          43.6872,
          43.7547,
          43.7247,
          43.7247,
          43.6913,
          43.7545,
          43.6913,
          43.7135,
          43.7113,
          43.7598,
          43.6662,
          43.6784,
          43.7797,
          43.739,
          43.6655,
          43.6913,
          43.8016,
          43.7673,
          43.7081,
          43.7143,
          43.7915,
          43.7335,
          43.7068,
          43.6889,
          43.6899,
          43.7797,
          43.7122,
          43.7786,
          43.6889,
          43.7081,
          43.6803,
          43.6655,
          43.6021,
          43.6952,
          43.6683,
          43.6683,
          43.6655,
          43.6505,
          43.7507,
          43.6256,
          43.7786,
          43.6827,
          43.7335,
          43.648,
          43.7535,
          43.6469,
          43.6075,
          43.6605,
          43.7673,
          43.7673,
          43.7144,
          43.6469,
          43.6889,
          43.7673,
          43.7915,
          43.7113,
          43.7081,
          43.7694,
          43.8177,
          43.7797,
          43.7915,
          43.6469,
          43.6629,
          43.7568,
          43.7068,
          43.6889,
          43.6898,
          43.6693,
          43.7335,
          43.648,
          43.6683,
          43.7612,
          43.7247,
          43.7786,
          43.745,
          43.702,
          43.7568,
          43.739,
          43.7801,
          null,
          null,
          null,
          null,
          null,
          null,
          null,
          null,
          null,
          null,
          null,
          null,
          null,
          null,
          null,
          null,
          null,
          null,
          null,
          null,
          null,
          null,
          null,
          null,
          null,
          null,
          null,
          null,
          null,
          null,
          null,
          null,
          null,
          null,
          null,
          null,
          null,
          null,
          null,
          null,
          null,
          null,
          null,
          null,
          null,
          null,
          null,
          null,
          null,
          null,
          null,
          null,
          null,
          null,
          null,
          null,
          null,
          null,
          null,
          null,
          null,
          null,
          null,
          null,
          null,
          null,
          null,
          null,
          null,
          null,
          null,
          null,
          null,
          null,
          null,
          null,
          null,
          null,
          null,
          null,
          null,
          null,
          null,
          null,
          null,
          null,
          null,
          null,
          null,
          null,
          null,
          null,
          null,
          null,
          null,
          null
         ],
         "legendgroup": "",
         "lon": [
          -79.3764,
          -79.5565,
          -79.5401,
          -79.5401,
          -79.3764,
          -79.2843,
          -79.4035,
          -79.4839,
          -79.3329,
          -79.4301,
          -79.4103,
          -79.5402,
          -79.5767,
          -79.4205,
          -79.4921,
          -79.3764,
          -79.3978,
          -79.4301,
          -79.4111,
          -79.373,
          -79.4111,
          -79.3329,
          -79.2646,
          -79.3116,
          -79.4205,
          -79.4939,
          -79.5282,
          -79.3155,
          -79.4111,
          -79.3368,
          -79.4111,
          -79.4205,
          -79.412,
          -79.3764,
          -79.2323,
          -79.3978,
          -79.5323,
          -79.4205,
          -79.412,
          -79.3764,
          -79.4103,
          -79.2323,
          -79.3978,
          -79.5323,
          -79.2646,
          -79.4111,
          -79.2639,
          -79.445,
          -79.445,
          -79.193,
          -79.5323,
          -79.5909,
          -79.4857,
          -79.4111,
          -79.5013,
          -79.3368,
          -79.1866,
          -79.4307,
          -79.373,
          -79.3764,
          -79.5402,
          -79.373,
          -79.4839,
          -79.5767,
          -79.5323,
          -79.5876,
          -79.4195,
          -79.4869,
          -79.4378,
          -79.4507,
          -79.4111,
          -79.445,
          -79.359,
          -79.5076,
          -79.3813,
          -79.5323,
          -79.5909,
          -79.4857,
          -79.4111,
          -79.5909,
          -79.5517,
          -79.5517,
          -79.373,
          -79.3003,
          -79.2707,
          -79.2707,
          -79.3978,
          -79.5323,
          -79.5767,
          -79.5282,
          -79.3764,
          -79.5909,
          -79.5323,
          -79.4103,
          -79.359,
          -79.2644,
          -79.4103,
          -79.445,
          -79.4521,
          -79.5013,
          -79.5876,
          -79.4111,
          -79.5402,
          -79.3155,
          -79.5402,
          -79.4103,
          -79.3978,
          -79.4472,
          -79.412,
          -79.3479,
          -79.2312,
          -79.4921,
          -79.4921,
          -79.4177,
          -79.5876,
          -79.4177,
          -79.412,
          -79.2312,
          -79.4921,
          -79.4921,
          -79.4177,
          -79.4177,
          -79.3978,
          -79.1564,
          -79.4928,
          -79.4103,
          -79.3987,
          -79.4111,
          -79.445,
          -79.4111,
          -79.3644,
          -79.5231,
          -79.3887,
          -79.5565,
          -79.4177,
          -79.445,
          -79.5767,
          -79.3887,
          -79.5565,
          -79.4177,
          -79.445,
          -79.4472,
          -79.5767,
          -79.4111,
          -79.4928,
          -79.4307,
          -79.2941,
          -79.2707,
          -79.4507,
          -79.4065,
          -79.3116,
          -79.5013,
          -79.3978,
          -79.4479,
          -79.3813,
          -79.3538,
          -79.521,
          -79.4857,
          -79.5402,
          -79.412,
          -79.5909,
          -79.2644,
          -79.5282,
          -79.5402,
          -79.4472,
          -79.4504,
          -79.4504,
          -79.4839,
          -79.4507,
          -79.412,
          -79.2312,
          -79.412,
          -79.3003,
          -79.4177,
          -79.193,
          -79.412,
          -79.2646,
          -79.521,
          -79.4065,
          -79.2644,
          -79.3479,
          -79.4035,
          -79.3116,
          -79.4479,
          -79.4205,
          -79.4839,
          -79.1564,
          -79.4111,
          -79.4472,
          -79.5517,
          -79.4111,
          -79.3479,
          -79.4507,
          -79.4507,
          -79.4177,
          -79.4939,
          -79.4521,
          -79.2312,
          -79.4301,
          -79.4111,
          -79.4479,
          -79.4479,
          -79.4177,
          -79.4025,
          -79.359,
          -79.4103,
          -79.3094,
          -79.5282,
          -79.3978,
          -79.2843,
          -79.5013,
          -79.359,
          -79.4378,
          -79.4921,
          -79.5767,
          -79.5013,
          -79.5323,
          -79.445,
          -79.2941,
          -79.4205,
          -79.5282,
          -79.33,
          -79.3406,
          -79.4939,
          -79.3689,
          -79.3155,
          -79.3216,
          -79.4472,
          -79.33,
          -79.5565,
          -79.5282,
          -79.1564,
          -79.4177,
          -79.3935,
          -79.3853,
          -79.4692,
          -79.4111,
          -79.5013,
          -79.3978,
          -79.5876,
          -79.5013,
          -79.3329,
          -79.3036,
          -79.4378,
          -79.5582,
          -79.5323,
          -79.3155,
          -79.2843,
          -79.517,
          -79.3406,
          -79.445,
          -79.3479,
          -79.4472,
          -79.4857,
          -79.4177,
          -79.4177,
          -79.2389,
          -79.5767,
          -79.4521,
          -79.4195,
          -79.517,
          -79.445,
          -79.3155,
          -79.3094,
          -79.4195,
          -79.517,
          -79.445,
          -79.3155,
          -79.3094,
          -79.2389,
          -79.5767,
          -79.4472,
          -79.3116,
          -79.5013,
          -79.445,
          -79.3116,
          -79.4921,
          -79.4195,
          -79.4869,
          -79.3155,
          -79.4828,
          -79.412,
          -79.4472,
          -79.4103,
          -79.4507,
          -79.4103,
          -79.4828,
          -79.4939,
          -79.4205,
          -79.4507,
          -79.4521,
          -79.2639,
          -79.3764,
          -79.3935,
          -79.3406,
          -79.4633,
          -79.445,
          -79.3887,
          -79.4928,
          -79.4504,
          -79.2639,
          -79.5402,
          -79.4869,
          -79.4828,
          -79.3094,
          -79.2843,
          -79.5402,
          -79.4301,
          null,
          -79.3978,
          -79.5231,
          -79.2646,
          -79.5323,
          -79.4828,
          -79.5402,
          -79.3935,
          -79.445,
          -79.2819,
          -79.5517,
          -79.4479,
          -79.5013,
          -79.4177,
          -79.4025,
          -79.4111,
          -79.4921,
          -79.4111,
          -79.4472,
          -79.5402,
          -79.5402,
          -79.373,
          -79.4177,
          -79.1866,
          -79.4869,
          -79.3368,
          -79.4633,
          -79.3479,
          -79.2843,
          -79.4507,
          -79.2323,
          -79.4857,
          -79.4177,
          -79.5767,
          -79.4035,
          -79.4301,
          -79.3935,
          -79.3935,
          -79.1866,
          -79.2819,
          -79.3479,
          -79.4195,
          -79.3853,
          -79.359,
          -79.445,
          -79.2312,
          -79.2707,
          -79.4177,
          -79.3155,
          -79.4521,
          -79.5582,
          -79.4507,
          -79.5517,
          -79.3987,
          -79.5231,
          -79.4521,
          -79.2819,
          -79.2819,
          -79.4921,
          -79.4479,
          -79.4195,
          -79.4103,
          -79.4111,
          -79.4521,
          -79.5909,
          -79.445,
          -79.4111,
          -79.4111,
          -79.4633,
          -79.4472,
          -79.3853,
          -79.4177,
          -79.2644,
          -79.4472,
          -79.4177,
          -79.373,
          -79.445,
          -79.5231,
          -79.3978,
          -79.3003,
          -79.5517,
          -79.4378,
          -79.4205,
          -79.4205,
          -79.5402,
          -79.4479,
          -79.359,
          -79.4479,
          -79.445,
          null,
          null,
          null,
          null,
          null,
          null,
          null,
          null,
          null,
          null,
          null,
          null,
          null,
          null,
          null,
          null,
          null,
          null,
          null,
          null,
          null,
          null,
          null,
          null,
          null,
          null,
          null,
          null,
          null,
          null,
          null,
          null,
          null,
          null,
          null,
          null,
          null,
          null,
          null,
          null,
          null,
          null,
          null,
          null,
          null,
          null,
          null,
          null,
          null,
          null,
          null,
          null,
          null,
          null,
          null,
          null,
          null,
          null,
          null,
          null,
          null,
          null,
          null,
          null,
          null,
          null,
          null,
          null,
          null,
          null,
          null,
          null,
          null,
          null,
          null,
          null,
          null,
          null,
          null,
          null,
          null,
          null,
          null,
          null,
          null,
          null,
          null,
          null,
          null,
          null,
          null,
          null,
          null,
          null,
          null,
          null,
          null,
          null,
          null,
          null,
          null,
          null,
          null,
          null,
          null,
          null,
          null,
          -79.3577,
          -79.5402,
          -79.5767,
          -79.4479,
          -79.5323,
          -79.2646,
          -79.3853,
          -79.4928,
          -79.5013,
          -79.4507,
          -79.3003,
          -79.4177,
          -79.4307,
          -79.3644,
          -79.521,
          -79.5282,
          -79.4928,
          -79.4839,
          -79.2941,
          -79.2941,
          -79.3368,
          -79.4195,
          -79.3813,
          -79.4307,
          -79.4195,
          -79.5876,
          -79.4939,
          -79.4839,
          -79.5517,
          -79.4507,
          -79.2144,
          -79.3368,
          -79.3887,
          -79.3644,
          -79.412,
          -79.5582,
          -79.3479,
          -79.5402,
          -79.4111,
          -79.412,
          -79.5282,
          -79.517,
          -79.3003,
          -79.4928,
          -79.193,
          -79.2389,
          -79.5013,
          -79.2323,
          -79.5323,
          -79.4869,
          -79.4507,
          -79.3577,
          -79.5565,
          -79.2639,
          -79.4307,
          -79.4472,
          -79.2389,
          -79.4103,
          -79.3935,
          -79.3216,
          -79.1866,
          -79.1564,
          -79.4111,
          -79.5909,
          -79.517,
          -79.2843,
          -79.4111,
          -79.4177,
          -79.4103,
          -79.2646,
          -79.4111,
          -79.3577,
          null,
          -79.3368,
          -79.3036,
          -79.4378,
          -79.33,
          -79.2312,
          -79.3155,
          -79.5231,
          -79.373,
          -79.4111,
          -79.33,
          -79.4869,
          -79.2819,
          -79.3116,
          -79.3368,
          -79.4177,
          -79.4507,
          -79.4839,
          -79.2819,
          -79.3036,
          -79.4472,
          -79.3148,
          -79.4111,
          -79.4939,
          -79.5517,
          -79.5323,
          -79.4939,
          -79.3538,
          -79.4507,
          -79.4177,
          -79.445,
          -79.4307,
          -79.4195,
          -79.3329,
          -79.5517,
          -79.3116,
          -79.3155,
          -79.5767,
          -79.2707,
          -79.4205,
          -79.4633,
          -79.3764,
          -79.4035,
          -79.521,
          -79.3368,
          -79.4205,
          -79.3853,
          -79.3853,
          -79.4307,
          -79.5402,
          -79.5517,
          -79.5767,
          -79.521,
          -79.4828,
          -79.5402,
          -79.3094,
          -79.3003,
          -79.4205,
          -79.3935,
          -79.5767,
          -79.4828,
          -79.2941,
          -79.2941,
          -79.445,
          -79.4205,
          -79.4507,
          -79.5767,
          -79.1866,
          -79.4177,
          -79.4103,
          -79.4378,
          -79.3764,
          -79.5076,
          -79.5282,
          -79.2646,
          -79.2644,
          -79.5116,
          -79.2646,
          -79.2144,
          -79.2941,
          -79.5401,
          -79.3538,
          -79.4205,
          -79.5876,
          -79.4479,
          -79.1564,
          -79.4378,
          -79.4828,
          -79.3003,
          -79.2069,
          -79.2646,
          -79.3764,
          -79.4521,
          -79.5402,
          -79.1866,
          -79.2144,
          -79.3853,
          -79.4205,
          -79.4828,
          -79.1866,
          -79.3094,
          -79.3368,
          -79.3155,
          -79.2312,
          -79.3644,
          -79.4025,
          -79.412,
          -79.3689,
          -79.4025,
          -79.4025,
          -79.5231,
          -79.5231,
          -79.5231,
          -79.5076,
          -79.4507,
          -79.5517,
          -79.3116,
          -79.2843,
          -79.412,
          -79.445,
          -79.4065,
          -79.4205,
          -79.4195,
          -79.4111,
          -79.4472,
          -79.3155,
          -79.2941,
          -79.33,
          -79.4177,
          -79.2646,
          -79.1866,
          -79.5876,
          -79.3853,
          -79.4111,
          -79.4828,
          -79.412,
          -79.3479,
          -79.2144,
          -79.4869,
          -79.521,
          -79.5282,
          -79.4205,
          -79.5282,
          -79.4111,
          -79.3003,
          -79.5517,
          -79.3094,
          -79.5013,
          -79.4828,
          -79.4103,
          -79.4472,
          -79.4928,
          -79.5767,
          -79.5582,
          -79.1866,
          -79.3853,
          -79.4205,
          -79.5767,
          -79.3094,
          -79.3094,
          -79.4111,
          -79.5013,
          -79.2819,
          -79.193,
          -79.2646,
          -79.2707,
          -79.4378,
          -79.5013,
          -79.3368,
          -79.4111,
          -79.5282,
          -79.4939,
          -79.3978,
          -79.4939,
          -79.5517,
          -79.5517,
          -79.2646,
          -79.4177,
          -79.4507,
          -79.4472,
          -79.5282,
          -79.4828,
          -79.5767,
          -79.4928,
          -79.5323,
          -79.4857,
          -79.3368,
          -79.3116,
          -79.3155,
          -79.3995,
          -79.359,
          -79.445,
          -79.4111,
          -79.3479,
          -79.4921,
          -79.4839,
          -79.4177,
          -79.4633,
          -79.4633,
          -79.3116,
          -79.4177,
          -79.4857,
          -79.2843,
          -79.4479,
          -79.5402,
          -79.5116,
          -79.3155,
          -79.4111,
          -79.4921,
          -79.517,
          -79.517,
          -79.2312,
          -79.2646,
          -79.359,
          -79.3368,
          -79.3764,
          -79.3036,
          -79.5402,
          -79.2312,
          -79.2312,
          -79.3116,
          -79.3116,
          -79.4111,
          -79.3887,
          -79.4195,
          -79.5565,
          -79.3368,
          -79.3813,
          -79.4692,
          -79.4378,
          -79.3116,
          -79.3216,
          -79.4111,
          -79.4921,
          -79.517,
          -79.3538,
          -79.2312,
          -79.4839,
          -79.359,
          -79.3368,
          -79.3764,
          -79.2312,
          -79.2312,
          -79.3116,
          -79.33,
          -79.3116,
          -79.3887,
          -79.4195,
          -79.5565,
          -79.5282,
          -79.2941,
          -79.3813,
          -79.4692,
          -79.4378,
          -79.3116,
          -79.3216,
          -79.4111,
          -79.4479,
          -79.4065,
          -79.4103,
          -79.4177,
          -79.517,
          -79.4507,
          -79.3853,
          -79.3813,
          -79.2843,
          -79.445,
          -79.4507,
          -79.4479,
          -79.3538,
          -79.4378,
          -79.5402,
          -79.2646,
          -79.4205,
          -79.4205,
          -79.4378,
          -79.5517,
          -79.3003,
          -79.5231,
          -79.445,
          -79.373,
          -79.4177,
          -79.4177,
          -79.4472,
          -79.4521,
          -79.5013,
          -79.4633,
          -79.4111,
          -79.4111,
          -79.5909,
          -79.4521,
          -79.4507,
          -79.4111,
          -79.4103,
          -79.4195,
          -79.4479,
          -79.4921,
          -79.2819,
          -79.3813,
          -79.4103,
          -79.4521,
          -79.3987,
          -79.521,
          -79.517,
          -79.4507,
          -79.5582,
          -79.3155,
          -79.4177,
          -79.4177,
          -79.4205,
          -79.2707,
          -79.2312,
          -79.445,
          -79.359,
          -79.3853,
          -79.521,
          -79.4692,
          -79.3479,
          null,
          null,
          null,
          null,
          null,
          null,
          null,
          null,
          null,
          null,
          null,
          null,
          null,
          null,
          null,
          null,
          null,
          null,
          null,
          null,
          null,
          null,
          null,
          null,
          null,
          null,
          null,
          null,
          null,
          null,
          null,
          null,
          null,
          null,
          null,
          null,
          null,
          null,
          null,
          null,
          null,
          null,
          null,
          null,
          null,
          null,
          null,
          null,
          null,
          null,
          null,
          null,
          null,
          null,
          null,
          null,
          null,
          null,
          null,
          null,
          null,
          null,
          null,
          null,
          null,
          null,
          null,
          null,
          null,
          null,
          null,
          null,
          null,
          null,
          null,
          null,
          null,
          null,
          null,
          null,
          null,
          null,
          null,
          null,
          null,
          null,
          null,
          null,
          null,
          null,
          null,
          null,
          null,
          null,
          null,
          null
         ],
         "marker": {
          "color": [
           6000000,
           1400000,
           2288888,
           2388888,
           4990000,
           2075000,
           7280000,
           2899900,
           1425000,
           7590000,
           4999000,
           3188000,
           3800000,
           2150000,
           1849000,
           1489000,
           1189000,
           1168000,
           6000000,
           6999000,
           4480000,
           1100000,
           1800000,
           4100000,
           1489000,
           980000,
           4249000,
           6799000,
           3590000,
           6580000,
           2180000,
           5580000,
           3885000,
           1459999,
           1249000,
           2000000,
           2695000,
           1388000,
           1705000,
           3188800,
           1195000,
           3880000,
           2999900,
           4190000,
           1249000,
           1895000,
           7360000,
           3650000,
           2480000,
           2100000,
           2250000,
           1299000,
           1249000,
           1895000,
           7360000,
           3650000,
           2480000,
           2100000,
           2250000,
           1299000,
           4950000,
           3980000,
           1949000,
           1188000,
           1338000,
           2598000,
           1289000,
           2199888,
           1280000,
           1188000,
           1188000,
           1428800,
           1099000,
           2465000,
           3898900,
           1788000,
           1000000,
           1229900,
           1549000,
           3495000,
           6180000,
           2588000,
           4788000,
           7880000,
           1799900,
           2088000,
           3995000,
           1119999,
           2658880,
           1999888,
           1199000,
           1599000,
           2145000,
           3499000,
           2298000,
           1399000,
           1098000,
           4198000,
           3180000,
           4580000,
           1888000,
           1698000,
           3188000,
           3889000,
           7288000,
           1199000,
           1049000,
           1849990,
           2780000,
           1549000,
           1688000,
           3888800,
           1499000,
           2388000,
           2388000,
           1499000,
           999999,
           1788000,
           2888888,
           2188888,
           1888888,
           3288000,
           2999000,
           950000,
           1950000,
           1913888,
           2979000,
           969000,
           1288888,
           2700000,
           2418000,
           2180000,
           3698888,
           1420000,
           1898880,
           3439000,
           2680000,
           1999000,
           1289000,
           2199000,
           1699000,
           2780000,
           1399000,
           4099900,
           999999,
           999000,
           1988000,
           5780000,
           6298000,
           1989000,
           1668800,
           3595000,
           1629900,
           1550000,
           1399999,
           1395000,
           2349000,
           999000,
           1750000,
           2950000,
           3595000,
           1629900,
           1550000,
           1399999,
           1395000,
           2349000,
           999000,
           1750000,
           2950000,
           1599000,
           1389999,
           1249900,
           1599000,
           949000,
           1538000,
           1400000,
           4688000,
           1149000,
           2490000,
           3590000,
           3048000,
           3995000,
           1889000,
           2980000,
           1495000,
           2795000,
           3749000,
           3888888,
           1499000,
           1889000,
           2980000,
           1495000,
           2795000,
           3749000,
           3888888,
           1499000,
           2200000,
           1800000,
           2195000,
           1660000,
           1355000,
           1049000,
           2100000,
           2099900,
           2649800,
           2150000,
           2150000,
           1199000,
           5880000,
           1188888,
           1229000,
           1250000,
           1388000,
           3298000,
           999000,
           4950000,
           1188800,
           1775000,
           2248550,
           1585000,
           1299000,
           1599000,
           1448888,
           1199000,
           3850000,
           1199900,
           7895000,
           1200000,
           4999999,
           1300000,
           3089000,
           1499000,
           1388888,
           1498888,
           2050000,
           1399000,
           1380000,
           5395000,
           1049000,
           2249999,
           1994900,
           1198000,
           1899999,
           1849000,
           2599000,
           2449900,
           1799000,
           1248888,
           3880000,
           3699990,
           3295000,
           1150000,
           4999900,
           1500000,
           2558000,
           1488000,
           1749900,
           1749900,
           3739000,
           5398880,
           4499900,
           989000,
           2799000,
           2380000,
           2999900,
           2988000,
           1500000,
           1525000,
           3495000,
           7895000,
           1920000,
           3000000,
           2788800,
           2399000,
           1488000,
           2880000,
           1799000,
           2099999,
           4998000,
           1550000,
           1429900,
           999000,
           2499888,
           1599000,
           1599888,
           2299000,
           1599000,
           2385000,
           2450000,
           1400000,
           1099900,
           3199000,
           5695000,
           2780000,
           1799000,
           1599900,
           1798000,
           1668000,
           2999000,
           1980000,
           3300000,
           2829900,
           999000,
           1750000,
           2649000,
           1699000,
           2949000,
           1329000,
           3188000,
           4295000,
           1499999,
           1789000,
           1848000,
           1299000,
           1438000,
           1875000,
           999000,
           2288000,
           5588000,
           1399000,
           1990000,
           1999900,
           1529900,
           1324999,
           3299990,
           1289000,
           1899900,
           974900,
           1558000,
           1579000,
           1389000,
           1829999,
           1349900,
           1798000,
           5295000,
           1795000,
           1299990,
           1299000,
           1849000,
           5499000,
           999000,
           2839888,
           1975000,
           1749000,
           5499000,
           999000,
           2839888,
           1975000,
           1749000,
           1299888,
           1425000,
           1699900,
           2650000,
           1249000,
           1050000,
           1749999,
           1150000,
           3790000,
           1498000,
           1998000,
           3288888,
           2995000,
           2280000,
           6395000,
           1550000,
           3488000,
           3799000,
           1029900,
           1888000,
           4680000,
           1699000,
           1590000,
           3250000,
           1149000,
           3100000,
           1999900,
           4780000,
           6888000,
           5195000,
           3250000,
           990000,
           1499000,
           4000000,
           4188000,
           1374888,
           3498000,
           1369900,
           1588000,
           1799000,
           1349000,
           1668000,
           1299000,
           2900000,
           1828000,
           1059000,
           1939000,
           1369900,
           2099999,
           1675000,
           2390000,
           1149000,
           1000000,
           1399900,
           1968000,
           1499000,
           1168000,
           7395000,
           2699900,
           1399000,
           4100000,
           1198000,
           1928000,
           3650000,
           5998000,
           2869000,
           1042000,
           4298800,
           3688000,
           1848000,
           1199999,
           2980000,
           5649000,
           2488000,
           1249000,
           1288888,
           1838000,
           1349900,
           1399000,
           2499000,
           2999900,
           949000,
           974988,
           1599900,
           949000,
           3149900,
           2288000,
           1659000,
           2599000,
           4388000,
           1288000,
           1699000,
           2098800,
           4399950,
           1890000,
           1299000,
           1380000,
           2900000,
           2968800,
           2150000,
           4288000,
           1099000,
           3699888,
           3633333,
           1999000,
           3299786,
           1419000,
           1895000,
           2250000,
           970000,
           2199000,
           1588600,
           1649900,
           2688000,
           1488000,
           1899000,
           1899777,
           2790000,
           999000,
           3188000,
           1799900,
           1029000,
           5498000,
           2728000,
           2950000,
           2495000,
           1849000,
           949000,
           1850000,
           3499000,
           1849000,
           1180000,
           1549000,
           1588000,
           3890000,
           1800000,
           1399900,
           1299000,
           1998000,
           3840000,
           2838800,
           1399000,
           6100000,
           1180000,
           1550000,
           1599000,
           3150000,
           2999000,
           1600000,
           2300000,
           1349900,
           5149000,
           2198000,
           1395000,
           1068000,
           1280000,
           1049000,
           1799000,
           1659900,
           1449900,
           1849000,
           1888000,
           3629000,
           1200000,
           1249000,
           1049999,
           999900,
           1299000,
           4180000,
           2549000,
           2188000,
           2095000,
           4700000,
           1099900,
           3700000,
           995000,
           1749900,
           1449000,
           1299000,
           1629000,
           1899900,
           2699000,
           3480000,
           2380000,
           999000,
           1499000,
           1649900,
           1079000,
           1875000,
           999000,
           1100000,
           1099900,
           899900,
           2088888,
           999999,
           999000,
           2498800,
           1549000,
           1869000,
           2398000,
           1989900,
           1549000,
           1699000,
           3195000,
           1198000,
           2688000,
           5650000,
           1650000,
           999999,
           899000,
           1344900,
           1086000,
           1099900,
           1299998,
           999900,
           899000,
           999990,
           999000,
           1650000,
           1598000,
           1399900,
           1482000,
           1199000,
           1188888,
           1689000,
           1299000,
           1099000,
           2999999,
           2488000,
           2998000,
           1399000,
           999888,
           2249000,
           1349900,
           3388000,
           999999,
           949900,
           1168000,
           899000,
           2998000,
           2953000,
           1499900,
           899000,
           1888000,
           999900,
           4999000,
           1988800,
           1690000,
           1028000,
           1899000,
           1688000,
           1499900,
           1899000,
           2748000,
           1999999,
           995000,
           998000,
           5495000,
           2880000,
           1449999,
           1149000,
           1589000,
           1385000,
           899000,
           995000,
           949900,
           1999000,
           899000,
           1998000,
           998800,
           999000,
           1199000,
           1200000,
           1199900,
           2600000,
           1199000,
           1998000,
           1499000,
           3198000,
           3399000,
           2769000,
           1299000,
           1188000,
           2999000,
           3488000,
           899000,
           2499000,
           1598000,
           1499000,
           1999900,
           999999,
           1099000,
           999000,
           1000000,
           3750000,
           1649900,
           5580000,
           1720000,
           4680000,
           958888,
           1349900,
           1499999,
           3195000,
           3499000,
           1599999,
           999900,
           2999999,
           1399000,
           979900,
           2148000,
           1500000,
           2950000,
           899900,
           1049900,
           1300000,
           899000,
           1290000,
           2189000,
           1399000,
           2849000,
           1549900,
           1699000,
           1849000,
           2299000,
           1799000,
           1188000,
           2750000,
           2539000,
           879747,
           1475000,
           1075000,
           999000,
           3495000,
           2699000,
           1448000,
           1879000,
           2680000,
           899000,
           2138000,
           2150000,
           1329000,
           949000,
           1199000,
           1299000,
           1150000,
           2249000,
           1550000,
           1650000,
           1749000,
           1368000,
           1440000,
           999000,
           1499000,
           1500000,
           1549000,
           1438900,
           1099000,
           1849000,
           4995000,
           1459900,
           2299000,
           1275000,
           1399900,
           1120000,
           2595000,
           1100000,
           1499000,
           1928000,
           1398000,
           1118000,
           1399000,
           2795000,
           1749000,
           1329000,
           2995000,
           3695000,
           3999000,
           1749000,
           2430000,
           4285000,
           3198000,
           1599000,
           1599000,
           1900000,
           995000,
           1400000,
           1499000,
           999900,
           2000000,
           1349000,
           3799000,
           2880000,
           2079000,
           1850000,
           1588000,
           1520000,
           1399000,
           1193800,
           1299900,
           1599900,
           1198000,
           2595000,
           1199900,
           1500000,
           988888,
           1649900,
           1399999,
           2699000,
           2599900,
           1100000,
           1650000,
           1599800,
           999900,
           899999,
           3999888,
           4780000,
           1840000,
           3165000,
           1749000,
           2890000,
           969000,
           1370000,
           2998800,
           1369999,
           1500000,
           2299999,
           2499000,
           2890000,
           1399000,
           1055000,
           1775888,
           888888,
           2649000,
           1495000,
           1449000,
           1599000,
           1539000,
           4250000,
           1400000,
           1888000,
           1999999,
           988000,
           2499000,
           999000,
           1100000,
           2795000,
           1850000,
           1088888,
           1450000,
           2499000,
           2888888,
           1538000,
           899000,
           3288000,
           1369000,
           3288888,
           3288888,
           2599900,
           2141000,
           1675000,
           999900,
           1599900,
           2388000,
           4899000,
           999000,
           1398000,
           1499900,
           1775000,
           1899000,
           2599000,
           1299000,
           1649000,
           4680000,
           999000,
           3995000,
           3488000,
           1195000,
           2179000,
           3899000,
           890000,
           1139999,
           988000,
           1159000,
           3899000,
           1499000,
           1795000,
           2550000,
           1349900,
           4195000,
           1500000,
           916000,
           1449000,
           1999886,
           1488800,
           1699900,
           2788000,
           1989800,
           3598000,
           1099000,
           1298000,
           1649000,
           1695000,
           1750000,
           2940000,
           1449000,
           5980000,
           1199988,
           1190000,
           1180000,
           2250000,
           1975000,
           1299000,
           1888000,
           2999999,
           999000,
           978900,
           4488000,
           1499000,
           1495000,
           2699000,
           2600000,
           888888,
           1559000,
           1350000,
           1749000,
           1450000,
           4788000,
           1199000,
           1695000,
           1989000,
           1380000,
           2788000,
           1989800,
           3598000,
           1099000,
           1298000,
           1649000,
           1695000,
           1750000,
           2940000,
           1449000,
           5980000,
           1199988,
           1190000,
           2250000,
           1975000,
           1299000,
           1888000,
           2999999,
           999000,
           978900,
           4488000,
           1499000,
           1495000,
           2600000,
           888888,
           1559000,
           1350000,
           1749000,
           1450000,
           4788000,
           1199000,
           1695000,
           1989000,
           1380000,
           2895000,
           1399000,
           1699000,
           1699000,
           1988000,
           3388000,
           1255000,
           2199000,
           3980000,
           3868000,
           1068000,
           999900,
           1395000,
           1099000,
           2198000,
           1249900,
           1349900,
           1600000,
           2300000,
           2689000,
           2999000,
           3150000,
           1599000,
           1550000,
           1180000,
           1399000,
           2838800,
           3840000,
           1998000,
           1299000,
           1399900,
           1800000,
           1588000,
           3890000,
           1549000,
           1239000,
           1180000,
           1849000,
           3499000,
           1850000,
           949000,
           1849000,
           1069888,
           2495000,
           2950000,
           2728000,
           5498000,
           1029000,
           1799900,
           3188000,
           1880000,
           999000,
           1498800,
           2790000,
           1899777,
           1899000,
           1488000,
           899000,
           2688000,
           1649900,
           1588600,
           2199000,
           970000,
           2250000,
           1895000,
           1749000,
           1419000,
           3299786,
           1999000,
           3633333,
           3699888,
           1099000,
           879000,
           4288000,
           2195000,
           2150000
          ],
          "coloraxis": "coloraxis"
         },
         "mode": "markers",
         "name": "",
         "showlegend": false,
         "subplot": "mapbox",
         "type": "scattermapbox"
        }
       ],
       "layout": {
        "coloraxis": {
         "colorbar": {
          "title": {
           "text": "price"
          }
         },
         "colorscale": [
          [
           0,
           "#0d0887"
          ],
          [
           0.1111111111111111,
           "#46039f"
          ],
          [
           0.2222222222222222,
           "#7201a8"
          ],
          [
           0.3333333333333333,
           "#9c179e"
          ],
          [
           0.4444444444444444,
           "#bd3786"
          ],
          [
           0.5555555555555556,
           "#d8576b"
          ],
          [
           0.6666666666666666,
           "#ed7953"
          ],
          [
           0.7777777777777778,
           "#fb9f3a"
          ],
          [
           0.8888888888888888,
           "#fdca26"
          ],
          [
           1,
           "#f0f921"
          ]
         ]
        },
        "legend": {
         "tracegroupgap": 0
        },
        "mapbox": {
         "center": {
          "lat": 43.71034280254778,
          "lon": -79.41393324840764
         },
         "domain": {
          "x": [
           0,
           1
          ],
          "y": [
           0,
           1
          ]
         },
         "style": "open-street-map",
         "zoom": 8
        },
        "margin": {
         "t": 60
        },
        "template": {
         "data": {
          "bar": [
           {
            "error_x": {
             "color": "#2a3f5f"
            },
            "error_y": {
             "color": "#2a3f5f"
            },
            "marker": {
             "line": {
              "color": "#E5ECF6",
              "width": 0.5
             },
             "pattern": {
              "fillmode": "overlay",
              "size": 10,
              "solidity": 0.2
             }
            },
            "type": "bar"
           }
          ],
          "barpolar": [
           {
            "marker": {
             "line": {
              "color": "#E5ECF6",
              "width": 0.5
             },
             "pattern": {
              "fillmode": "overlay",
              "size": 10,
              "solidity": 0.2
             }
            },
            "type": "barpolar"
           }
          ],
          "carpet": [
           {
            "aaxis": {
             "endlinecolor": "#2a3f5f",
             "gridcolor": "white",
             "linecolor": "white",
             "minorgridcolor": "white",
             "startlinecolor": "#2a3f5f"
            },
            "baxis": {
             "endlinecolor": "#2a3f5f",
             "gridcolor": "white",
             "linecolor": "white",
             "minorgridcolor": "white",
             "startlinecolor": "#2a3f5f"
            },
            "type": "carpet"
           }
          ],
          "choropleth": [
           {
            "colorbar": {
             "outlinewidth": 0,
             "ticks": ""
            },
            "type": "choropleth"
           }
          ],
          "contour": [
           {
            "colorbar": {
             "outlinewidth": 0,
             "ticks": ""
            },
            "colorscale": [
             [
              0,
              "#0d0887"
             ],
             [
              0.1111111111111111,
              "#46039f"
             ],
             [
              0.2222222222222222,
              "#7201a8"
             ],
             [
              0.3333333333333333,
              "#9c179e"
             ],
             [
              0.4444444444444444,
              "#bd3786"
             ],
             [
              0.5555555555555556,
              "#d8576b"
             ],
             [
              0.6666666666666666,
              "#ed7953"
             ],
             [
              0.7777777777777778,
              "#fb9f3a"
             ],
             [
              0.8888888888888888,
              "#fdca26"
             ],
             [
              1,
              "#f0f921"
             ]
            ],
            "type": "contour"
           }
          ],
          "contourcarpet": [
           {
            "colorbar": {
             "outlinewidth": 0,
             "ticks": ""
            },
            "type": "contourcarpet"
           }
          ],
          "heatmap": [
           {
            "colorbar": {
             "outlinewidth": 0,
             "ticks": ""
            },
            "colorscale": [
             [
              0,
              "#0d0887"
             ],
             [
              0.1111111111111111,
              "#46039f"
             ],
             [
              0.2222222222222222,
              "#7201a8"
             ],
             [
              0.3333333333333333,
              "#9c179e"
             ],
             [
              0.4444444444444444,
              "#bd3786"
             ],
             [
              0.5555555555555556,
              "#d8576b"
             ],
             [
              0.6666666666666666,
              "#ed7953"
             ],
             [
              0.7777777777777778,
              "#fb9f3a"
             ],
             [
              0.8888888888888888,
              "#fdca26"
             ],
             [
              1,
              "#f0f921"
             ]
            ],
            "type": "heatmap"
           }
          ],
          "heatmapgl": [
           {
            "colorbar": {
             "outlinewidth": 0,
             "ticks": ""
            },
            "colorscale": [
             [
              0,
              "#0d0887"
             ],
             [
              0.1111111111111111,
              "#46039f"
             ],
             [
              0.2222222222222222,
              "#7201a8"
             ],
             [
              0.3333333333333333,
              "#9c179e"
             ],
             [
              0.4444444444444444,
              "#bd3786"
             ],
             [
              0.5555555555555556,
              "#d8576b"
             ],
             [
              0.6666666666666666,
              "#ed7953"
             ],
             [
              0.7777777777777778,
              "#fb9f3a"
             ],
             [
              0.8888888888888888,
              "#fdca26"
             ],
             [
              1,
              "#f0f921"
             ]
            ],
            "type": "heatmapgl"
           }
          ],
          "histogram": [
           {
            "marker": {
             "pattern": {
              "fillmode": "overlay",
              "size": 10,
              "solidity": 0.2
             }
            },
            "type": "histogram"
           }
          ],
          "histogram2d": [
           {
            "colorbar": {
             "outlinewidth": 0,
             "ticks": ""
            },
            "colorscale": [
             [
              0,
              "#0d0887"
             ],
             [
              0.1111111111111111,
              "#46039f"
             ],
             [
              0.2222222222222222,
              "#7201a8"
             ],
             [
              0.3333333333333333,
              "#9c179e"
             ],
             [
              0.4444444444444444,
              "#bd3786"
             ],
             [
              0.5555555555555556,
              "#d8576b"
             ],
             [
              0.6666666666666666,
              "#ed7953"
             ],
             [
              0.7777777777777778,
              "#fb9f3a"
             ],
             [
              0.8888888888888888,
              "#fdca26"
             ],
             [
              1,
              "#f0f921"
             ]
            ],
            "type": "histogram2d"
           }
          ],
          "histogram2dcontour": [
           {
            "colorbar": {
             "outlinewidth": 0,
             "ticks": ""
            },
            "colorscale": [
             [
              0,
              "#0d0887"
             ],
             [
              0.1111111111111111,
              "#46039f"
             ],
             [
              0.2222222222222222,
              "#7201a8"
             ],
             [
              0.3333333333333333,
              "#9c179e"
             ],
             [
              0.4444444444444444,
              "#bd3786"
             ],
             [
              0.5555555555555556,
              "#d8576b"
             ],
             [
              0.6666666666666666,
              "#ed7953"
             ],
             [
              0.7777777777777778,
              "#fb9f3a"
             ],
             [
              0.8888888888888888,
              "#fdca26"
             ],
             [
              1,
              "#f0f921"
             ]
            ],
            "type": "histogram2dcontour"
           }
          ],
          "mesh3d": [
           {
            "colorbar": {
             "outlinewidth": 0,
             "ticks": ""
            },
            "type": "mesh3d"
           }
          ],
          "parcoords": [
           {
            "line": {
             "colorbar": {
              "outlinewidth": 0,
              "ticks": ""
             }
            },
            "type": "parcoords"
           }
          ],
          "pie": [
           {
            "automargin": true,
            "type": "pie"
           }
          ],
          "scatter": [
           {
            "fillpattern": {
             "fillmode": "overlay",
             "size": 10,
             "solidity": 0.2
            },
            "type": "scatter"
           }
          ],
          "scatter3d": [
           {
            "line": {
             "colorbar": {
              "outlinewidth": 0,
              "ticks": ""
             }
            },
            "marker": {
             "colorbar": {
              "outlinewidth": 0,
              "ticks": ""
             }
            },
            "type": "scatter3d"
           }
          ],
          "scattercarpet": [
           {
            "marker": {
             "colorbar": {
              "outlinewidth": 0,
              "ticks": ""
             }
            },
            "type": "scattercarpet"
           }
          ],
          "scattergeo": [
           {
            "marker": {
             "colorbar": {
              "outlinewidth": 0,
              "ticks": ""
             }
            },
            "type": "scattergeo"
           }
          ],
          "scattergl": [
           {
            "marker": {
             "colorbar": {
              "outlinewidth": 0,
              "ticks": ""
             }
            },
            "type": "scattergl"
           }
          ],
          "scattermapbox": [
           {
            "marker": {
             "colorbar": {
              "outlinewidth": 0,
              "ticks": ""
             }
            },
            "type": "scattermapbox"
           }
          ],
          "scatterpolar": [
           {
            "marker": {
             "colorbar": {
              "outlinewidth": 0,
              "ticks": ""
             }
            },
            "type": "scatterpolar"
           }
          ],
          "scatterpolargl": [
           {
            "marker": {
             "colorbar": {
              "outlinewidth": 0,
              "ticks": ""
             }
            },
            "type": "scatterpolargl"
           }
          ],
          "scatterternary": [
           {
            "marker": {
             "colorbar": {
              "outlinewidth": 0,
              "ticks": ""
             }
            },
            "type": "scatterternary"
           }
          ],
          "surface": [
           {
            "colorbar": {
             "outlinewidth": 0,
             "ticks": ""
            },
            "colorscale": [
             [
              0,
              "#0d0887"
             ],
             [
              0.1111111111111111,
              "#46039f"
             ],
             [
              0.2222222222222222,
              "#7201a8"
             ],
             [
              0.3333333333333333,
              "#9c179e"
             ],
             [
              0.4444444444444444,
              "#bd3786"
             ],
             [
              0.5555555555555556,
              "#d8576b"
             ],
             [
              0.6666666666666666,
              "#ed7953"
             ],
             [
              0.7777777777777778,
              "#fb9f3a"
             ],
             [
              0.8888888888888888,
              "#fdca26"
             ],
             [
              1,
              "#f0f921"
             ]
            ],
            "type": "surface"
           }
          ],
          "table": [
           {
            "cells": {
             "fill": {
              "color": "#EBF0F8"
             },
             "line": {
              "color": "white"
             }
            },
            "header": {
             "fill": {
              "color": "#C8D4E3"
             },
             "line": {
              "color": "white"
             }
            },
            "type": "table"
           }
          ]
         },
         "layout": {
          "annotationdefaults": {
           "arrowcolor": "#2a3f5f",
           "arrowhead": 0,
           "arrowwidth": 1
          },
          "autotypenumbers": "strict",
          "coloraxis": {
           "colorbar": {
            "outlinewidth": 0,
            "ticks": ""
           }
          },
          "colorscale": {
           "diverging": [
            [
             0,
             "#8e0152"
            ],
            [
             0.1,
             "#c51b7d"
            ],
            [
             0.2,
             "#de77ae"
            ],
            [
             0.3,
             "#f1b6da"
            ],
            [
             0.4,
             "#fde0ef"
            ],
            [
             0.5,
             "#f7f7f7"
            ],
            [
             0.6,
             "#e6f5d0"
            ],
            [
             0.7,
             "#b8e186"
            ],
            [
             0.8,
             "#7fbc41"
            ],
            [
             0.9,
             "#4d9221"
            ],
            [
             1,
             "#276419"
            ]
           ],
           "sequential": [
            [
             0,
             "#0d0887"
            ],
            [
             0.1111111111111111,
             "#46039f"
            ],
            [
             0.2222222222222222,
             "#7201a8"
            ],
            [
             0.3333333333333333,
             "#9c179e"
            ],
            [
             0.4444444444444444,
             "#bd3786"
            ],
            [
             0.5555555555555556,
             "#d8576b"
            ],
            [
             0.6666666666666666,
             "#ed7953"
            ],
            [
             0.7777777777777778,
             "#fb9f3a"
            ],
            [
             0.8888888888888888,
             "#fdca26"
            ],
            [
             1,
             "#f0f921"
            ]
           ],
           "sequentialminus": [
            [
             0,
             "#0d0887"
            ],
            [
             0.1111111111111111,
             "#46039f"
            ],
            [
             0.2222222222222222,
             "#7201a8"
            ],
            [
             0.3333333333333333,
             "#9c179e"
            ],
            [
             0.4444444444444444,
             "#bd3786"
            ],
            [
             0.5555555555555556,
             "#d8576b"
            ],
            [
             0.6666666666666666,
             "#ed7953"
            ],
            [
             0.7777777777777778,
             "#fb9f3a"
            ],
            [
             0.8888888888888888,
             "#fdca26"
            ],
            [
             1,
             "#f0f921"
            ]
           ]
          },
          "colorway": [
           "#636efa",
           "#EF553B",
           "#00cc96",
           "#ab63fa",
           "#FFA15A",
           "#19d3f3",
           "#FF6692",
           "#B6E880",
           "#FF97FF",
           "#FECB52"
          ],
          "font": {
           "color": "#2a3f5f"
          },
          "geo": {
           "bgcolor": "white",
           "lakecolor": "white",
           "landcolor": "#E5ECF6",
           "showlakes": true,
           "showland": true,
           "subunitcolor": "white"
          },
          "hoverlabel": {
           "align": "left"
          },
          "hovermode": "closest",
          "mapbox": {
           "style": "light"
          },
          "paper_bgcolor": "white",
          "plot_bgcolor": "#E5ECF6",
          "polar": {
           "angularaxis": {
            "gridcolor": "white",
            "linecolor": "white",
            "ticks": ""
           },
           "bgcolor": "#E5ECF6",
           "radialaxis": {
            "gridcolor": "white",
            "linecolor": "white",
            "ticks": ""
           }
          },
          "scene": {
           "xaxis": {
            "backgroundcolor": "#E5ECF6",
            "gridcolor": "white",
            "gridwidth": 2,
            "linecolor": "white",
            "showbackground": true,
            "ticks": "",
            "zerolinecolor": "white"
           },
           "yaxis": {
            "backgroundcolor": "#E5ECF6",
            "gridcolor": "white",
            "gridwidth": 2,
            "linecolor": "white",
            "showbackground": true,
            "ticks": "",
            "zerolinecolor": "white"
           },
           "zaxis": {
            "backgroundcolor": "#E5ECF6",
            "gridcolor": "white",
            "gridwidth": 2,
            "linecolor": "white",
            "showbackground": true,
            "ticks": "",
            "zerolinecolor": "white"
           }
          },
          "shapedefaults": {
           "line": {
            "color": "#2a3f5f"
           }
          },
          "ternary": {
           "aaxis": {
            "gridcolor": "white",
            "linecolor": "white",
            "ticks": ""
           },
           "baxis": {
            "gridcolor": "white",
            "linecolor": "white",
            "ticks": ""
           },
           "bgcolor": "#E5ECF6",
           "caxis": {
            "gridcolor": "white",
            "linecolor": "white",
            "ticks": ""
           }
          },
          "title": {
           "x": 0.05
          },
          "xaxis": {
           "automargin": true,
           "gridcolor": "white",
           "linecolor": "white",
           "ticks": "",
           "title": {
            "standoff": 15
           },
           "zerolinecolor": "white",
           "zerolinewidth": 2
          },
          "yaxis": {
           "automargin": true,
           "gridcolor": "white",
           "linecolor": "white",
           "ticks": "",
           "title": {
            "standoff": 15
           },
           "zerolinecolor": "white",
           "zerolinewidth": 2
          }
         }
        }
       }
      }
     },
     "metadata": {},
     "output_type": "display_data"
    }
   ],
   "source": [
    "# Plot Mapbox location and price\n",
    "fig = px.scatter_mapbox(\n",
    "    df,\n",
    "    lat='lat',\n",
    "    lon='lon',\n",
    "    color='price',\n",
    "    hover_data=['community_name']\n",
    ")\n",
    "\n",
    "fig.update_layout(mapbox_style=\"open-street-map\")\n",
    "\n",
    "fig.show()"
   ]
  },
  {
   "attachments": {},
   "cell_type": "markdown",
   "metadata": {},
   "source": [
    "Most houses are near the waterfront"
   ]
  },
  {
   "cell_type": "code",
   "execution_count": 14,
   "metadata": {},
   "outputs": [
    {
     "data": {
      "text/plain": [
       "<AxesSubplot: >"
      ]
     },
     "execution_count": 14,
     "metadata": {},
     "output_type": "execute_result"
    },
    {
     "data": {
      "image/png": "[encoded data removed]",
      "text/plain": [
       "<Figure size 640x480 with 2 Axes>"
      ]
     },
     "metadata": {},
     "output_type": "display_data"
    }
   ],
   "source": [
    "corr = df.select_dtypes('number').drop(columns='price').corr()\n",
    "sns.heatmap(corr,\n",
    "            cbar=True,\n",
    "            annot=True,\n",
    "            square=True,\n",
    "            fmt='.2f',\n",
    "            annot_kws={'size': 7})"
   ]
  },
  {
   "attachments": {},
   "cell_type": "markdown",
   "metadata": {},
   "source": [
    "### Split"
   ]
  },
  {
   "cell_type": "code",
   "execution_count": 15,
   "metadata": {},
   "outputs": [],
   "source": [
    "# define target variable\n",
    "y = df['price']\n",
    "# define features\n",
    "X = df.drop('price', axis=1)\n",
    "\n",
    "# Split into training and test sets\n",
    "X_train, X_test, y_train, y_test = train_test_split(\n",
    "    X, y, test_size=0.2, random_state=10)"
   ]
  },
  {
   "attachments": {},
   "cell_type": "markdown",
   "metadata": {},
   "source": [
    "## Build Model"
   ]
  },
  {
   "attachments": {},
   "cell_type": "markdown",
   "metadata": {},
   "source": [
    "### Baseline"
   ]
  },
  {
   "cell_type": "code",
   "execution_count": 16,
   "metadata": {},
   "outputs": [
    {
     "name": "stdout",
     "output_type": "stream",
     "text": [
      "Mean apt price: $2167971.66\n",
      "Baseline MAE: $942914.18\n"
     ]
    }
   ],
   "source": [
    "y_mean = y_train.mean()\n",
    "y_pred_baseline = [y_mean] * len(y_train)\n",
    "baseline_mae = mean_absolute_error(y_pred_baseline, y_train)\n",
    "print(f\"Mean apt price: ${y_mean.round(2)}\")\n",
    "print(f\"Baseline MAE: ${baseline_mae.round(2)}\")"
   ]
  },
  {
   "attachments": {},
   "cell_type": "markdown",
   "metadata": {},
   "source": [
    "If we always predicted that a house price is $2,167,971.66, our predictions would be off by an average of $942,914.18. It also tells us that our model needs to have mean absolute error below $942,914.18 in order to be useful."
   ]
  },
  {
   "attachments": {},
   "cell_type": "markdown",
   "metadata": {},
   "source": [
    "### Data pre-processing"
   ]
  },
  {
   "attachments": {},
   "cell_type": "markdown",
   "metadata": {},
   "source": [
    "##### Separate categorical and numerical columns"
   ]
  },
  {
   "cell_type": "code",
   "execution_count": 17,
   "metadata": {},
   "outputs": [
    {
     "name": "stdout",
     "output_type": "stream",
     "text": [
      "['community_name']\n",
      "['bathrooms', 'bedrooms', 'area_m2', 'lat', 'lon']\n"
     ]
    }
   ],
   "source": [
    "# create category columns selector\n",
    "cat_selector = make_column_selector(dtype_include=object)\n",
    "# create numerical columns selector\n",
    "num_selector = make_column_selector(dtype_include=np.number)\n",
    "\n",
    "print(cat_selector(X))\n",
    "print(num_selector(X))\n"
   ]
  },
  {
   "attachments": {},
   "cell_type": "markdown",
   "metadata": {},
   "source": [
    "##### Pipeline to preprocess tree models"
   ]
  },
  {
   "cell_type": "code",
   "execution_count": 18,
   "metadata": {},
   "outputs": [
    {
     "data": {
      "text/html": [
       "<style>#sk-container-id-1 {color: black;background-color: white;}#sk-container-id-1 pre{padding: 0;}#sk-container-id-1 div.sk-toggleable {background-color: white;}#sk-container-id-1 label.sk-toggleable__label {cursor: pointer;display: block;width: 100%;margin-bottom: 0;padding: 0.3em;box-sizing: border-box;text-align: center;}#sk-container-id-1 label.sk-toggleable__label-arrow:before {content: \"▸\";float: left;margin-right: 0.25em;color: #696969;}#sk-container-id-1 label.sk-toggleable__label-arrow:hover:before {color: black;}#sk-container-id-1 div.sk-estimator:hover label.sk-toggleable__label-arrow:before {color: black;}#sk-container-id-1 div.sk-toggleable__content {max-height: 0;max-width: 0;overflow: hidden;text-align: left;background-color: #f0f8ff;}#sk-container-id-1 div.sk-toggleable__content pre {margin: 0.2em;color: black;border-radius: 0.25em;background-color: #f0f8ff;}#sk-container-id-1 input.sk-toggleable__control:checked~div.sk-toggleable__content {max-height: 200px;max-width: 100%;overflow: auto;}#sk-container-id-1 input.sk-toggleable__control:checked~label.sk-toggleable__label-arrow:before {content: \"▾\";}#sk-container-id-1 div.sk-estimator input.sk-toggleable__control:checked~label.sk-toggleable__label {background-color: #d4ebff;}#sk-container-id-1 div.sk-label input.sk-toggleable__control:checked~label.sk-toggleable__label {background-color: #d4ebff;}#sk-container-id-1 input.sk-hidden--visually {border: 0;clip: rect(1px 1px 1px 1px);clip: rect(1px, 1px, 1px, 1px);height: 1px;margin: -1px;overflow: hidden;padding: 0;position: absolute;width: 1px;}#sk-container-id-1 div.sk-estimator {font-family: monospace;background-color: #f0f8ff;border: 1px dotted black;border-radius: 0.25em;box-sizing: border-box;margin-bottom: 0.5em;}#sk-container-id-1 div.sk-estimator:hover {background-color: #d4ebff;}#sk-container-id-1 div.sk-parallel-item::after {content: \"\";width: 100%;border-bottom: 1px solid gray;flex-grow: 1;}#sk-container-id-1 div.sk-label:hover label.sk-toggleable__label {background-color: #d4ebff;}#sk-container-id-1 div.sk-serial::before {content: \"\";position: absolute;border-left: 1px solid gray;box-sizing: border-box;top: 0;bottom: 0;left: 50%;z-index: 0;}#sk-container-id-1 div.sk-serial {display: flex;flex-direction: column;align-items: center;background-color: white;padding-right: 0.2em;padding-left: 0.2em;position: relative;}#sk-container-id-1 div.sk-item {position: relative;z-index: 1;}#sk-container-id-1 div.sk-parallel {display: flex;align-items: stretch;justify-content: center;background-color: white;position: relative;}#sk-container-id-1 div.sk-item::before, #sk-container-id-1 div.sk-parallel-item::before {content: \"\";position: absolute;border-left: 1px solid gray;box-sizing: border-box;top: 0;bottom: 0;left: 50%;z-index: -1;}#sk-container-id-1 div.sk-parallel-item {display: flex;flex-direction: column;z-index: 1;position: relative;background-color: white;}#sk-container-id-1 div.sk-parallel-item:first-child::after {align-self: flex-end;width: 50%;}#sk-container-id-1 div.sk-parallel-item:last-child::after {align-self: flex-start;width: 50%;}#sk-container-id-1 div.sk-parallel-item:only-child::after {width: 0;}#sk-container-id-1 div.sk-dashed-wrapped {border: 1px dashed gray;margin: 0 0.4em 0.5em 0.4em;box-sizing: border-box;padding-bottom: 0.4em;background-color: white;}#sk-container-id-1 div.sk-label label {font-family: monospace;font-weight: bold;display: inline-block;line-height: 1.2em;}#sk-container-id-1 div.sk-label-container {text-align: center;}#sk-container-id-1 div.sk-container {/* jupyter's `normalize.less` sets `[hidden] { display: none; }` but bootstrap.min.css set `[hidden] { display: none !important; }` so we also need the `!important` here to be able to override the default hidden behavior on the sphinx rendered scikit-learn.org. See: https://github.com/scikit-learn/scikit-learn/issues/21755 */display: inline-block !important;position: relative;}#sk-container-id-1 div.sk-text-repr-fallback {display: none;}</style><div id=\"sk-container-id-1\" class=\"sk-top-container\"><div class=\"sk-text-repr-fallback\"><pre>ColumnTransformer(transformers=[(&#x27;simpleimputer&#x27;,\n",
       "                                 SimpleImputer(add_indicator=True),\n",
       "                                 &lt;sklearn.compose._column_transformer.make_column_selector object at 0x7fe65a5f6790&gt;),\n",
       "                                (&#x27;ordinalencoder&#x27;,\n",
       "                                 OrdinalEncoder(encoded_missing_value=-2,\n",
       "                                                handle_unknown=&#x27;use_encoded_value&#x27;,\n",
       "                                                unknown_value=-1),\n",
       "                                 &lt;sklearn.compose._column_transformer.make_column_selector object at 0x7fe65a5f67c0&gt;)])</pre><b>In a Jupyter environment, please rerun this cell to show the HTML representation or trust the notebook. <br />On GitHub, the HTML representation is unable to render, please try loading this page with nbviewer.org.</b></div><div class=\"sk-container\" hidden><div class=\"sk-item sk-dashed-wrapped\"><div class=\"sk-label-container\"><div class=\"sk-label sk-toggleable\"><input class=\"sk-toggleable__control sk-hidden--visually\" id=\"sk-estimator-id-1\" type=\"checkbox\" ><label for=\"sk-estimator-id-1\" class=\"sk-toggleable__label sk-toggleable__label-arrow\">ColumnTransformer</label><div class=\"sk-toggleable__content\"><pre>ColumnTransformer(transformers=[(&#x27;simpleimputer&#x27;,\n",
       "                                 SimpleImputer(add_indicator=True),\n",
       "                                 &lt;sklearn.compose._column_transformer.make_column_selector object at 0x7fe65a5f6790&gt;),\n",
       "                                (&#x27;ordinalencoder&#x27;,\n",
       "                                 OrdinalEncoder(encoded_missing_value=-2,\n",
       "                                                handle_unknown=&#x27;use_encoded_value&#x27;,\n",
       "                                                unknown_value=-1),\n",
       "                                 &lt;sklearn.compose._column_transformer.make_column_selector object at 0x7fe65a5f67c0&gt;)])</pre></div></div></div><div class=\"sk-parallel\"><div class=\"sk-parallel-item\"><div class=\"sk-item\"><div class=\"sk-label-container\"><div class=\"sk-label sk-toggleable\"><input class=\"sk-toggleable__control sk-hidden--visually\" id=\"sk-estimator-id-2\" type=\"checkbox\" ><label for=\"sk-estimator-id-2\" class=\"sk-toggleable__label sk-toggleable__label-arrow\">simpleimputer</label><div class=\"sk-toggleable__content\"><pre>&lt;sklearn.compose._column_transformer.make_column_selector object at 0x7fe65a5f6790&gt;</pre></div></div></div><div class=\"sk-serial\"><div class=\"sk-item\"><div class=\"sk-estimator sk-toggleable\"><input class=\"sk-toggleable__control sk-hidden--visually\" id=\"sk-estimator-id-3\" type=\"checkbox\" ><label for=\"sk-estimator-id-3\" class=\"sk-toggleable__label sk-toggleable__label-arrow\">SimpleImputer</label><div class=\"sk-toggleable__content\"><pre>SimpleImputer(add_indicator=True)</pre></div></div></div></div></div></div><div class=\"sk-parallel-item\"><div class=\"sk-item\"><div class=\"sk-label-container\"><div class=\"sk-label sk-toggleable\"><input class=\"sk-toggleable__control sk-hidden--visually\" id=\"sk-estimator-id-4\" type=\"checkbox\" ><label for=\"sk-estimator-id-4\" class=\"sk-toggleable__label sk-toggleable__label-arrow\">ordinalencoder</label><div class=\"sk-toggleable__content\"><pre>&lt;sklearn.compose._column_transformer.make_column_selector object at 0x7fe65a5f67c0&gt;</pre></div></div></div><div class=\"sk-serial\"><div class=\"sk-item\"><div class=\"sk-estimator sk-toggleable\"><input class=\"sk-toggleable__control sk-hidden--visually\" id=\"sk-estimator-id-5\" type=\"checkbox\" ><label for=\"sk-estimator-id-5\" class=\"sk-toggleable__label sk-toggleable__label-arrow\">OrdinalEncoder</label><div class=\"sk-toggleable__content\"><pre>OrdinalEncoder(encoded_missing_value=-2, handle_unknown=&#x27;use_encoded_value&#x27;,\n",
       "               unknown_value=-1)</pre></div></div></div></div></div></div></div></div></div></div>"
      ],
      "text/plain": [
       "ColumnTransformer(transformers=[('simpleimputer',\n",
       "                                 SimpleImputer(add_indicator=True),\n",
       "                                 <sklearn.compose._column_transformer.make_column_selector object at 0x7fe65a5f6790>),\n",
       "                                ('ordinalencoder',\n",
       "                                 OrdinalEncoder(encoded_missing_value=-2,\n",
       "                                                handle_unknown='use_encoded_value',\n",
       "                                                unknown_value=-1),\n",
       "                                 <sklearn.compose._column_transformer.make_column_selector object at 0x7fe65a5f67c0>)])"
      ]
     },
     "execution_count": 18,
     "metadata": {},
     "output_type": "execute_result"
    }
   ],
   "source": [
    "# create categorical processor for tree models\n",
    "cat_tree_processor = OrdinalEncoder(\n",
    "    handle_unknown=\"use_encoded_value\",\n",
    "    unknown_value=-1,\n",
    "    encoded_missing_value=-2,\n",
    ")\n",
    "# create numerical processor for tree models\n",
    "num_tree_processor = SimpleImputer(strategy=\"mean\", add_indicator=True)\n",
    "# create combined preprocessor for tree models\n",
    "tree_preprocessor = make_column_transformer(\n",
    "    (num_tree_processor, num_selector), (cat_tree_processor, cat_selector)\n",
    ")\n",
    "# display tree preprocessor\n",
    "tree_preprocessor\n"
   ]
  },
  {
   "attachments": {},
   "cell_type": "markdown",
   "metadata": {},
   "source": [
    "##### Pipeline to preprocess linear models"
   ]
  },
  {
   "cell_type": "code",
   "execution_count": 19,
   "metadata": {},
   "outputs": [
    {
     "data": {
      "text/html": [
       "<style>#sk-container-id-2 {color: black;background-color: white;}#sk-container-id-2 pre{padding: 0;}#sk-container-id-2 div.sk-toggleable {background-color: white;}#sk-container-id-2 label.sk-toggleable__label {cursor: pointer;display: block;width: 100%;margin-bottom: 0;padding: 0.3em;box-sizing: border-box;text-align: center;}#sk-container-id-2 label.sk-toggleable__label-arrow:before {content: \"▸\";float: left;margin-right: 0.25em;color: #696969;}#sk-container-id-2 label.sk-toggleable__label-arrow:hover:before {color: black;}#sk-container-id-2 div.sk-estimator:hover label.sk-toggleable__label-arrow:before {color: black;}#sk-container-id-2 div.sk-toggleable__content {max-height: 0;max-width: 0;overflow: hidden;text-align: left;background-color: #f0f8ff;}#sk-container-id-2 div.sk-toggleable__content pre {margin: 0.2em;color: black;border-radius: 0.25em;background-color: #f0f8ff;}#sk-container-id-2 input.sk-toggleable__control:checked~div.sk-toggleable__content {max-height: 200px;max-width: 100%;overflow: auto;}#sk-container-id-2 input.sk-toggleable__control:checked~label.sk-toggleable__label-arrow:before {content: \"▾\";}#sk-container-id-2 div.sk-estimator input.sk-toggleable__control:checked~label.sk-toggleable__label {background-color: #d4ebff;}#sk-container-id-2 div.sk-label input.sk-toggleable__control:checked~label.sk-toggleable__label {background-color: #d4ebff;}#sk-container-id-2 input.sk-hidden--visually {border: 0;clip: rect(1px 1px 1px 1px);clip: rect(1px, 1px, 1px, 1px);height: 1px;margin: -1px;overflow: hidden;padding: 0;position: absolute;width: 1px;}#sk-container-id-2 div.sk-estimator {font-family: monospace;background-color: #f0f8ff;border: 1px dotted black;border-radius: 0.25em;box-sizing: border-box;margin-bottom: 0.5em;}#sk-container-id-2 div.sk-estimator:hover {background-color: #d4ebff;}#sk-container-id-2 div.sk-parallel-item::after {content: \"\";width: 100%;border-bottom: 1px solid gray;flex-grow: 1;}#sk-container-id-2 div.sk-label:hover label.sk-toggleable__label {background-color: #d4ebff;}#sk-container-id-2 div.sk-serial::before {content: \"\";position: absolute;border-left: 1px solid gray;box-sizing: border-box;top: 0;bottom: 0;left: 50%;z-index: 0;}#sk-container-id-2 div.sk-serial {display: flex;flex-direction: column;align-items: center;background-color: white;padding-right: 0.2em;padding-left: 0.2em;position: relative;}#sk-container-id-2 div.sk-item {position: relative;z-index: 1;}#sk-container-id-2 div.sk-parallel {display: flex;align-items: stretch;justify-content: center;background-color: white;position: relative;}#sk-container-id-2 div.sk-item::before, #sk-container-id-2 div.sk-parallel-item::before {content: \"\";position: absolute;border-left: 1px solid gray;box-sizing: border-box;top: 0;bottom: 0;left: 50%;z-index: -1;}#sk-container-id-2 div.sk-parallel-item {display: flex;flex-direction: column;z-index: 1;position: relative;background-color: white;}#sk-container-id-2 div.sk-parallel-item:first-child::after {align-self: flex-end;width: 50%;}#sk-container-id-2 div.sk-parallel-item:last-child::after {align-self: flex-start;width: 50%;}#sk-container-id-2 div.sk-parallel-item:only-child::after {width: 0;}#sk-container-id-2 div.sk-dashed-wrapped {border: 1px dashed gray;margin: 0 0.4em 0.5em 0.4em;box-sizing: border-box;padding-bottom: 0.4em;background-color: white;}#sk-container-id-2 div.sk-label label {font-family: monospace;font-weight: bold;display: inline-block;line-height: 1.2em;}#sk-container-id-2 div.sk-label-container {text-align: center;}#sk-container-id-2 div.sk-container {/* jupyter's `normalize.less` sets `[hidden] { display: none; }` but bootstrap.min.css set `[hidden] { display: none !important; }` so we also need the `!important` here to be able to override the default hidden behavior on the sphinx rendered scikit-learn.org. See: https://github.com/scikit-learn/scikit-learn/issues/21755 */display: inline-block !important;position: relative;}#sk-container-id-2 div.sk-text-repr-fallback {display: none;}</style><div id=\"sk-container-id-2\" class=\"sk-top-container\"><div class=\"sk-text-repr-fallback\"><pre>ColumnTransformer(transformers=[(&#x27;pipeline&#x27;,\n",
       "                                 Pipeline(steps=[(&#x27;standardscaler&#x27;,\n",
       "                                                  StandardScaler()),\n",
       "                                                 (&#x27;simpleimputer&#x27;,\n",
       "                                                  SimpleImputer(add_indicator=True))]),\n",
       "                                 &lt;sklearn.compose._column_transformer.make_column_selector object at 0x7fe65a5f6790&gt;),\n",
       "                                (&#x27;onehotencoder&#x27;,\n",
       "                                 OneHotEncoder(handle_unknown=&#x27;ignore&#x27;),\n",
       "                                 &lt;sklearn.compose._column_transformer.make_column_selector object at 0x7fe65a5f67c0&gt;)])</pre><b>In a Jupyter environment, please rerun this cell to show the HTML representation or trust the notebook. <br />On GitHub, the HTML representation is unable to render, please try loading this page with nbviewer.org.</b></div><div class=\"sk-container\" hidden><div class=\"sk-item sk-dashed-wrapped\"><div class=\"sk-label-container\"><div class=\"sk-label sk-toggleable\"><input class=\"sk-toggleable__control sk-hidden--visually\" id=\"sk-estimator-id-6\" type=\"checkbox\" ><label for=\"sk-estimator-id-6\" class=\"sk-toggleable__label sk-toggleable__label-arrow\">ColumnTransformer</label><div class=\"sk-toggleable__content\"><pre>ColumnTransformer(transformers=[(&#x27;pipeline&#x27;,\n",
       "                                 Pipeline(steps=[(&#x27;standardscaler&#x27;,\n",
       "                                                  StandardScaler()),\n",
       "                                                 (&#x27;simpleimputer&#x27;,\n",
       "                                                  SimpleImputer(add_indicator=True))]),\n",
       "                                 &lt;sklearn.compose._column_transformer.make_column_selector object at 0x7fe65a5f6790&gt;),\n",
       "                                (&#x27;onehotencoder&#x27;,\n",
       "                                 OneHotEncoder(handle_unknown=&#x27;ignore&#x27;),\n",
       "                                 &lt;sklearn.compose._column_transformer.make_column_selector object at 0x7fe65a5f67c0&gt;)])</pre></div></div></div><div class=\"sk-parallel\"><div class=\"sk-parallel-item\"><div class=\"sk-item\"><div class=\"sk-label-container\"><div class=\"sk-label sk-toggleable\"><input class=\"sk-toggleable__control sk-hidden--visually\" id=\"sk-estimator-id-7\" type=\"checkbox\" ><label for=\"sk-estimator-id-7\" class=\"sk-toggleable__label sk-toggleable__label-arrow\">pipeline</label><div class=\"sk-toggleable__content\"><pre>&lt;sklearn.compose._column_transformer.make_column_selector object at 0x7fe65a5f6790&gt;</pre></div></div></div><div class=\"sk-serial\"><div class=\"sk-item\"><div class=\"sk-serial\"><div class=\"sk-item\"><div class=\"sk-estimator sk-toggleable\"><input class=\"sk-toggleable__control sk-hidden--visually\" id=\"sk-estimator-id-8\" type=\"checkbox\" ><label for=\"sk-estimator-id-8\" class=\"sk-toggleable__label sk-toggleable__label-arrow\">StandardScaler</label><div class=\"sk-toggleable__content\"><pre>StandardScaler()</pre></div></div></div><div class=\"sk-item\"><div class=\"sk-estimator sk-toggleable\"><input class=\"sk-toggleable__control sk-hidden--visually\" id=\"sk-estimator-id-9\" type=\"checkbox\" ><label for=\"sk-estimator-id-9\" class=\"sk-toggleable__label sk-toggleable__label-arrow\">SimpleImputer</label><div class=\"sk-toggleable__content\"><pre>SimpleImputer(add_indicator=True)</pre></div></div></div></div></div></div></div></div><div class=\"sk-parallel-item\"><div class=\"sk-item\"><div class=\"sk-label-container\"><div class=\"sk-label sk-toggleable\"><input class=\"sk-toggleable__control sk-hidden--visually\" id=\"sk-estimator-id-10\" type=\"checkbox\" ><label for=\"sk-estimator-id-10\" class=\"sk-toggleable__label sk-toggleable__label-arrow\">onehotencoder</label><div class=\"sk-toggleable__content\"><pre>&lt;sklearn.compose._column_transformer.make_column_selector object at 0x7fe65a5f67c0&gt;</pre></div></div></div><div class=\"sk-serial\"><div class=\"sk-item\"><div class=\"sk-estimator sk-toggleable\"><input class=\"sk-toggleable__control sk-hidden--visually\" id=\"sk-estimator-id-11\" type=\"checkbox\" ><label for=\"sk-estimator-id-11\" class=\"sk-toggleable__label sk-toggleable__label-arrow\">OneHotEncoder</label><div class=\"sk-toggleable__content\"><pre>OneHotEncoder(handle_unknown=&#x27;ignore&#x27;)</pre></div></div></div></div></div></div></div></div></div></div>"
      ],
      "text/plain": [
       "ColumnTransformer(transformers=[('pipeline',\n",
       "                                 Pipeline(steps=[('standardscaler',\n",
       "                                                  StandardScaler()),\n",
       "                                                 ('simpleimputer',\n",
       "                                                  SimpleImputer(add_indicator=True))]),\n",
       "                                 <sklearn.compose._column_transformer.make_column_selector object at 0x7fe65a5f6790>),\n",
       "                                ('onehotencoder',\n",
       "                                 OneHotEncoder(handle_unknown='ignore'),\n",
       "                                 <sklearn.compose._column_transformer.make_column_selector object at 0x7fe65a5f67c0>)])"
      ]
     },
     "execution_count": 19,
     "metadata": {},
     "output_type": "execute_result"
    }
   ],
   "source": [
    "# create categorical columns processor for linear models\n",
    "cat_linear_processor = OneHotEncoder(handle_unknown=\"ignore\")\n",
    "# create numerical columns processor for linear models\n",
    "num_linear_processor = make_pipeline(\n",
    "    StandardScaler(), SimpleImputer(strategy=\"mean\", add_indicator=True)\n",
    ")\n",
    "# create combined preprocessor for linear models\n",
    "linear_preprocessor = make_column_transformer(\n",
    "    (num_linear_processor, num_selector), (cat_linear_processor, cat_selector)\n",
    ")\n",
    "# display linear preprocessor\n",
    "linear_preprocessor\n"
   ]
  },
  {
   "attachments": {},
   "cell_type": "markdown",
   "metadata": {},
   "source": [
    "##### The models"
   ]
  },
  {
   "cell_type": "code",
   "execution_count": 20,
   "metadata": {},
   "outputs": [],
   "source": [
    "# instantiate lasso model\n",
    "lasso_model = Lasso(alpha=0.1, random_state=10)\n",
    "# instantiate linear regression model\n",
    "lin_model = LinearRegression()\n",
    "# instantiate random forrest model\n",
    "rf_model = RandomForestRegressor(n_estimators=25,random_state=2)\n",
    "# instantiate gradient boosting model\n",
    "gbdt_model = GradientBoostingRegressor(max_depth=4,subsample=0.9,max_features=0.75,n_estimators=200,random_state=2)"
   ]
  },
  {
   "attachments": {},
   "cell_type": "markdown",
   "metadata": {},
   "source": [
    "##### Stack of predictors on Toronto housing dataset"
   ]
  },
  {
   "cell_type": "code",
   "execution_count": 21,
   "metadata": {},
   "outputs": [
    {
     "data": {
      "text/html": [
       "<style>#sk-container-id-3 {color: black;background-color: white;}#sk-container-id-3 pre{padding: 0;}#sk-container-id-3 div.sk-toggleable {background-color: white;}#sk-container-id-3 label.sk-toggleable__label {cursor: pointer;display: block;width: 100%;margin-bottom: 0;padding: 0.3em;box-sizing: border-box;text-align: center;}#sk-container-id-3 label.sk-toggleable__label-arrow:before {content: \"▸\";float: left;margin-right: 0.25em;color: #696969;}#sk-container-id-3 label.sk-toggleable__label-arrow:hover:before {color: black;}#sk-container-id-3 div.sk-estimator:hover label.sk-toggleable__label-arrow:before {color: black;}#sk-container-id-3 div.sk-toggleable__content {max-height: 0;max-width: 0;overflow: hidden;text-align: left;background-color: #f0f8ff;}#sk-container-id-3 div.sk-toggleable__content pre {margin: 0.2em;color: black;border-radius: 0.25em;background-color: #f0f8ff;}#sk-container-id-3 input.sk-toggleable__control:checked~div.sk-toggleable__content {max-height: 200px;max-width: 100%;overflow: auto;}#sk-container-id-3 input.sk-toggleable__control:checked~label.sk-toggleable__label-arrow:before {content: \"▾\";}#sk-container-id-3 div.sk-estimator input.sk-toggleable__control:checked~label.sk-toggleable__label {background-color: #d4ebff;}#sk-container-id-3 div.sk-label input.sk-toggleable__control:checked~label.sk-toggleable__label {background-color: #d4ebff;}#sk-container-id-3 input.sk-hidden--visually {border: 0;clip: rect(1px 1px 1px 1px);clip: rect(1px, 1px, 1px, 1px);height: 1px;margin: -1px;overflow: hidden;padding: 0;position: absolute;width: 1px;}#sk-container-id-3 div.sk-estimator {font-family: monospace;background-color: #f0f8ff;border: 1px dotted black;border-radius: 0.25em;box-sizing: border-box;margin-bottom: 0.5em;}#sk-container-id-3 div.sk-estimator:hover {background-color: #d4ebff;}#sk-container-id-3 div.sk-parallel-item::after {content: \"\";width: 100%;border-bottom: 1px solid gray;flex-grow: 1;}#sk-container-id-3 div.sk-label:hover label.sk-toggleable__label {background-color: #d4ebff;}#sk-container-id-3 div.sk-serial::before {content: \"\";position: absolute;border-left: 1px solid gray;box-sizing: border-box;top: 0;bottom: 0;left: 50%;z-index: 0;}#sk-container-id-3 div.sk-serial {display: flex;flex-direction: column;align-items: center;background-color: white;padding-right: 0.2em;padding-left: 0.2em;position: relative;}#sk-container-id-3 div.sk-item {position: relative;z-index: 1;}#sk-container-id-3 div.sk-parallel {display: flex;align-items: stretch;justify-content: center;background-color: white;position: relative;}#sk-container-id-3 div.sk-item::before, #sk-container-id-3 div.sk-parallel-item::before {content: \"\";position: absolute;border-left: 1px solid gray;box-sizing: border-box;top: 0;bottom: 0;left: 50%;z-index: -1;}#sk-container-id-3 div.sk-parallel-item {display: flex;flex-direction: column;z-index: 1;position: relative;background-color: white;}#sk-container-id-3 div.sk-parallel-item:first-child::after {align-self: flex-end;width: 50%;}#sk-container-id-3 div.sk-parallel-item:last-child::after {align-self: flex-start;width: 50%;}#sk-container-id-3 div.sk-parallel-item:only-child::after {width: 0;}#sk-container-id-3 div.sk-dashed-wrapped {border: 1px dashed gray;margin: 0 0.4em 0.5em 0.4em;box-sizing: border-box;padding-bottom: 0.4em;background-color: white;}#sk-container-id-3 div.sk-label label {font-family: monospace;font-weight: bold;display: inline-block;line-height: 1.2em;}#sk-container-id-3 div.sk-label-container {text-align: center;}#sk-container-id-3 div.sk-container {/* jupyter's `normalize.less` sets `[hidden] { display: none; }` but bootstrap.min.css set `[hidden] { display: none !important; }` so we also need the `!important` here to be able to override the default hidden behavior on the sphinx rendered scikit-learn.org. See: https://github.com/scikit-learn/scikit-learn/issues/21755 */display: inline-block !important;position: relative;}#sk-container-id-3 div.sk-text-repr-fallback {display: none;}</style><div id=\"sk-container-id-3\" class=\"sk-top-container\"><div class=\"sk-text-repr-fallback\"><pre>Pipeline(steps=[(&#x27;columntransformer&#x27;,\n",
       "                 ColumnTransformer(transformers=[(&#x27;pipeline&#x27;,\n",
       "                                                  Pipeline(steps=[(&#x27;standardscaler&#x27;,\n",
       "                                                                   StandardScaler()),\n",
       "                                                                  (&#x27;simpleimputer&#x27;,\n",
       "                                                                   SimpleImputer(add_indicator=True))]),\n",
       "                                                  &lt;sklearn.compose._column_transformer.make_column_selector object at 0x7fe65a5f6790&gt;),\n",
       "                                                 (&#x27;onehotencoder&#x27;,\n",
       "                                                  OneHotEncoder(handle_unknown=&#x27;ignore&#x27;),\n",
       "                                                  &lt;sklearn.compose._column_transformer.make_column_selector object at 0x7fe65a5f67c0&gt;)])),\n",
       "                (&#x27;lasso&#x27;, Lasso(alpha=0.1, random_state=10))])</pre><b>In a Jupyter environment, please rerun this cell to show the HTML representation or trust the notebook. <br />On GitHub, the HTML representation is unable to render, please try loading this page with nbviewer.org.</b></div><div class=\"sk-container\" hidden><div class=\"sk-item sk-dashed-wrapped\"><div class=\"sk-label-container\"><div class=\"sk-label sk-toggleable\"><input class=\"sk-toggleable__control sk-hidden--visually\" id=\"sk-estimator-id-12\" type=\"checkbox\" ><label for=\"sk-estimator-id-12\" class=\"sk-toggleable__label sk-toggleable__label-arrow\">Pipeline</label><div class=\"sk-toggleable__content\"><pre>Pipeline(steps=[(&#x27;columntransformer&#x27;,\n",
       "                 ColumnTransformer(transformers=[(&#x27;pipeline&#x27;,\n",
       "                                                  Pipeline(steps=[(&#x27;standardscaler&#x27;,\n",
       "                                                                   StandardScaler()),\n",
       "                                                                  (&#x27;simpleimputer&#x27;,\n",
       "                                                                   SimpleImputer(add_indicator=True))]),\n",
       "                                                  &lt;sklearn.compose._column_transformer.make_column_selector object at 0x7fe65a5f6790&gt;),\n",
       "                                                 (&#x27;onehotencoder&#x27;,\n",
       "                                                  OneHotEncoder(handle_unknown=&#x27;ignore&#x27;),\n",
       "                                                  &lt;sklearn.compose._column_transformer.make_column_selector object at 0x7fe65a5f67c0&gt;)])),\n",
       "                (&#x27;lasso&#x27;, Lasso(alpha=0.1, random_state=10))])</pre></div></div></div><div class=\"sk-serial\"><div class=\"sk-item sk-dashed-wrapped\"><div class=\"sk-label-container\"><div class=\"sk-label sk-toggleable\"><input class=\"sk-toggleable__control sk-hidden--visually\" id=\"sk-estimator-id-13\" type=\"checkbox\" ><label for=\"sk-estimator-id-13\" class=\"sk-toggleable__label sk-toggleable__label-arrow\">columntransformer: ColumnTransformer</label><div class=\"sk-toggleable__content\"><pre>ColumnTransformer(transformers=[(&#x27;pipeline&#x27;,\n",
       "                                 Pipeline(steps=[(&#x27;standardscaler&#x27;,\n",
       "                                                  StandardScaler()),\n",
       "                                                 (&#x27;simpleimputer&#x27;,\n",
       "                                                  SimpleImputer(add_indicator=True))]),\n",
       "                                 &lt;sklearn.compose._column_transformer.make_column_selector object at 0x7fe65a5f6790&gt;),\n",
       "                                (&#x27;onehotencoder&#x27;,\n",
       "                                 OneHotEncoder(handle_unknown=&#x27;ignore&#x27;),\n",
       "                                 &lt;sklearn.compose._column_transformer.make_column_selector object at 0x7fe65a5f67c0&gt;)])</pre></div></div></div><div class=\"sk-parallel\"><div class=\"sk-parallel-item\"><div class=\"sk-item\"><div class=\"sk-label-container\"><div class=\"sk-label sk-toggleable\"><input class=\"sk-toggleable__control sk-hidden--visually\" id=\"sk-estimator-id-14\" type=\"checkbox\" ><label for=\"sk-estimator-id-14\" class=\"sk-toggleable__label sk-toggleable__label-arrow\">pipeline</label><div class=\"sk-toggleable__content\"><pre>&lt;sklearn.compose._column_transformer.make_column_selector object at 0x7fe65a5f6790&gt;</pre></div></div></div><div class=\"sk-serial\"><div class=\"sk-item\"><div class=\"sk-serial\"><div class=\"sk-item\"><div class=\"sk-estimator sk-toggleable\"><input class=\"sk-toggleable__control sk-hidden--visually\" id=\"sk-estimator-id-15\" type=\"checkbox\" ><label for=\"sk-estimator-id-15\" class=\"sk-toggleable__label sk-toggleable__label-arrow\">StandardScaler</label><div class=\"sk-toggleable__content\"><pre>StandardScaler()</pre></div></div></div><div class=\"sk-item\"><div class=\"sk-estimator sk-toggleable\"><input class=\"sk-toggleable__control sk-hidden--visually\" id=\"sk-estimator-id-16\" type=\"checkbox\" ><label for=\"sk-estimator-id-16\" class=\"sk-toggleable__label sk-toggleable__label-arrow\">SimpleImputer</label><div class=\"sk-toggleable__content\"><pre>SimpleImputer(add_indicator=True)</pre></div></div></div></div></div></div></div></div><div class=\"sk-parallel-item\"><div class=\"sk-item\"><div class=\"sk-label-container\"><div class=\"sk-label sk-toggleable\"><input class=\"sk-toggleable__control sk-hidden--visually\" id=\"sk-estimator-id-17\" type=\"checkbox\" ><label for=\"sk-estimator-id-17\" class=\"sk-toggleable__label sk-toggleable__label-arrow\">onehotencoder</label><div class=\"sk-toggleable__content\"><pre>&lt;sklearn.compose._column_transformer.make_column_selector object at 0x7fe65a5f67c0&gt;</pre></div></div></div><div class=\"sk-serial\"><div class=\"sk-item\"><div class=\"sk-estimator sk-toggleable\"><input class=\"sk-toggleable__control sk-hidden--visually\" id=\"sk-estimator-id-18\" type=\"checkbox\" ><label for=\"sk-estimator-id-18\" class=\"sk-toggleable__label sk-toggleable__label-arrow\">OneHotEncoder</label><div class=\"sk-toggleable__content\"><pre>OneHotEncoder(handle_unknown=&#x27;ignore&#x27;)</pre></div></div></div></div></div></div></div></div><div class=\"sk-item\"><div class=\"sk-estimator sk-toggleable\"><input class=\"sk-toggleable__control sk-hidden--visually\" id=\"sk-estimator-id-19\" type=\"checkbox\" ><label for=\"sk-estimator-id-19\" class=\"sk-toggleable__label sk-toggleable__label-arrow\">Lasso</label><div class=\"sk-toggleable__content\"><pre>Lasso(alpha=0.1, random_state=10)</pre></div></div></div></div></div></div></div>"
      ],
      "text/plain": [
       "Pipeline(steps=[('columntransformer',\n",
       "                 ColumnTransformer(transformers=[('pipeline',\n",
       "                                                  Pipeline(steps=[('standardscaler',\n",
       "                                                                   StandardScaler()),\n",
       "                                                                  ('simpleimputer',\n",
       "                                                                   SimpleImputer(add_indicator=True))]),\n",
       "                                                  <sklearn.compose._column_transformer.make_column_selector object at 0x7fe65a5f6790>),\n",
       "                                                 ('onehotencoder',\n",
       "                                                  OneHotEncoder(handle_unknown='ignore'),\n",
       "                                                  <sklearn.compose._column_transformer.make_column_selector object at 0x7fe65a5f67c0>)])),\n",
       "                ('lasso', Lasso(alpha=0.1, random_state=10))])"
      ]
     },
     "execution_count": 21,
     "metadata": {},
     "output_type": "execute_result"
    }
   ],
   "source": [
    "# create pipeline for lasso model\n",
    "lasso_pipeline = make_pipeline(linear_preprocessor, lasso_model)\n",
    "# display pipeline\n",
    "lasso_pipeline\n"
   ]
  },
  {
   "cell_type": "code",
   "execution_count": 22,
   "metadata": {},
   "outputs": [
    {
     "data": {
      "text/html": [
       "<style>#sk-container-id-4 {color: black;background-color: white;}#sk-container-id-4 pre{padding: 0;}#sk-container-id-4 div.sk-toggleable {background-color: white;}#sk-container-id-4 label.sk-toggleable__label {cursor: pointer;display: block;width: 100%;margin-bottom: 0;padding: 0.3em;box-sizing: border-box;text-align: center;}#sk-container-id-4 label.sk-toggleable__label-arrow:before {content: \"▸\";float: left;margin-right: 0.25em;color: #696969;}#sk-container-id-4 label.sk-toggleable__label-arrow:hover:before {color: black;}#sk-container-id-4 div.sk-estimator:hover label.sk-toggleable__label-arrow:before {color: black;}#sk-container-id-4 div.sk-toggleable__content {max-height: 0;max-width: 0;overflow: hidden;text-align: left;background-color: #f0f8ff;}#sk-container-id-4 div.sk-toggleable__content pre {margin: 0.2em;color: black;border-radius: 0.25em;background-color: #f0f8ff;}#sk-container-id-4 input.sk-toggleable__control:checked~div.sk-toggleable__content {max-height: 200px;max-width: 100%;overflow: auto;}#sk-container-id-4 input.sk-toggleable__control:checked~label.sk-toggleable__label-arrow:before {content: \"▾\";}#sk-container-id-4 div.sk-estimator input.sk-toggleable__control:checked~label.sk-toggleable__label {background-color: #d4ebff;}#sk-container-id-4 div.sk-label input.sk-toggleable__control:checked~label.sk-toggleable__label {background-color: #d4ebff;}#sk-container-id-4 input.sk-hidden--visually {border: 0;clip: rect(1px 1px 1px 1px);clip: rect(1px, 1px, 1px, 1px);height: 1px;margin: -1px;overflow: hidden;padding: 0;position: absolute;width: 1px;}#sk-container-id-4 div.sk-estimator {font-family: monospace;background-color: #f0f8ff;border: 1px dotted black;border-radius: 0.25em;box-sizing: border-box;margin-bottom: 0.5em;}#sk-container-id-4 div.sk-estimator:hover {background-color: #d4ebff;}#sk-container-id-4 div.sk-parallel-item::after {content: \"\";width: 100%;border-bottom: 1px solid gray;flex-grow: 1;}#sk-container-id-4 div.sk-label:hover label.sk-toggleable__label {background-color: #d4ebff;}#sk-container-id-4 div.sk-serial::before {content: \"\";position: absolute;border-left: 1px solid gray;box-sizing: border-box;top: 0;bottom: 0;left: 50%;z-index: 0;}#sk-container-id-4 div.sk-serial {display: flex;flex-direction: column;align-items: center;background-color: white;padding-right: 0.2em;padding-left: 0.2em;position: relative;}#sk-container-id-4 div.sk-item {position: relative;z-index: 1;}#sk-container-id-4 div.sk-parallel {display: flex;align-items: stretch;justify-content: center;background-color: white;position: relative;}#sk-container-id-4 div.sk-item::before, #sk-container-id-4 div.sk-parallel-item::before {content: \"\";position: absolute;border-left: 1px solid gray;box-sizing: border-box;top: 0;bottom: 0;left: 50%;z-index: -1;}#sk-container-id-4 div.sk-parallel-item {display: flex;flex-direction: column;z-index: 1;position: relative;background-color: white;}#sk-container-id-4 div.sk-parallel-item:first-child::after {align-self: flex-end;width: 50%;}#sk-container-id-4 div.sk-parallel-item:last-child::after {align-self: flex-start;width: 50%;}#sk-container-id-4 div.sk-parallel-item:only-child::after {width: 0;}#sk-container-id-4 div.sk-dashed-wrapped {border: 1px dashed gray;margin: 0 0.4em 0.5em 0.4em;box-sizing: border-box;padding-bottom: 0.4em;background-color: white;}#sk-container-id-4 div.sk-label label {font-family: monospace;font-weight: bold;display: inline-block;line-height: 1.2em;}#sk-container-id-4 div.sk-label-container {text-align: center;}#sk-container-id-4 div.sk-container {/* jupyter's `normalize.less` sets `[hidden] { display: none; }` but bootstrap.min.css set `[hidden] { display: none !important; }` so we also need the `!important` here to be able to override the default hidden behavior on the sphinx rendered scikit-learn.org. See: https://github.com/scikit-learn/scikit-learn/issues/21755 */display: inline-block !important;position: relative;}#sk-container-id-4 div.sk-text-repr-fallback {display: none;}</style><div id=\"sk-container-id-4\" class=\"sk-top-container\"><div class=\"sk-text-repr-fallback\"><pre>Pipeline(steps=[(&#x27;columntransformer&#x27;,\n",
       "                 ColumnTransformer(transformers=[(&#x27;pipeline&#x27;,\n",
       "                                                  Pipeline(steps=[(&#x27;standardscaler&#x27;,\n",
       "                                                                   StandardScaler()),\n",
       "                                                                  (&#x27;simpleimputer&#x27;,\n",
       "                                                                   SimpleImputer(add_indicator=True))]),\n",
       "                                                  &lt;sklearn.compose._column_transformer.make_column_selector object at 0x7fe65a5f6790&gt;),\n",
       "                                                 (&#x27;onehotencoder&#x27;,\n",
       "                                                  OneHotEncoder(handle_unknown=&#x27;ignore&#x27;),\n",
       "                                                  &lt;sklearn.compose._column_transformer.make_column_selector object at 0x7fe65a5f67c0&gt;)])),\n",
       "                (&#x27;linearregression&#x27;, LinearRegression())])</pre><b>In a Jupyter environment, please rerun this cell to show the HTML representation or trust the notebook. <br />On GitHub, the HTML representation is unable to render, please try loading this page with nbviewer.org.</b></div><div class=\"sk-container\" hidden><div class=\"sk-item sk-dashed-wrapped\"><div class=\"sk-label-container\"><div class=\"sk-label sk-toggleable\"><input class=\"sk-toggleable__control sk-hidden--visually\" id=\"sk-estimator-id-20\" type=\"checkbox\" ><label for=\"sk-estimator-id-20\" class=\"sk-toggleable__label sk-toggleable__label-arrow\">Pipeline</label><div class=\"sk-toggleable__content\"><pre>Pipeline(steps=[(&#x27;columntransformer&#x27;,\n",
       "                 ColumnTransformer(transformers=[(&#x27;pipeline&#x27;,\n",
       "                                                  Pipeline(steps=[(&#x27;standardscaler&#x27;,\n",
       "                                                                   StandardScaler()),\n",
       "                                                                  (&#x27;simpleimputer&#x27;,\n",
       "                                                                   SimpleImputer(add_indicator=True))]),\n",
       "                                                  &lt;sklearn.compose._column_transformer.make_column_selector object at 0x7fe65a5f6790&gt;),\n",
       "                                                 (&#x27;onehotencoder&#x27;,\n",
       "                                                  OneHotEncoder(handle_unknown=&#x27;ignore&#x27;),\n",
       "                                                  &lt;sklearn.compose._column_transformer.make_column_selector object at 0x7fe65a5f67c0&gt;)])),\n",
       "                (&#x27;linearregression&#x27;, LinearRegression())])</pre></div></div></div><div class=\"sk-serial\"><div class=\"sk-item sk-dashed-wrapped\"><div class=\"sk-label-container\"><div class=\"sk-label sk-toggleable\"><input class=\"sk-toggleable__control sk-hidden--visually\" id=\"sk-estimator-id-21\" type=\"checkbox\" ><label for=\"sk-estimator-id-21\" class=\"sk-toggleable__label sk-toggleable__label-arrow\">columntransformer: ColumnTransformer</label><div class=\"sk-toggleable__content\"><pre>ColumnTransformer(transformers=[(&#x27;pipeline&#x27;,\n",
       "                                 Pipeline(steps=[(&#x27;standardscaler&#x27;,\n",
       "                                                  StandardScaler()),\n",
       "                                                 (&#x27;simpleimputer&#x27;,\n",
       "                                                  SimpleImputer(add_indicator=True))]),\n",
       "                                 &lt;sklearn.compose._column_transformer.make_column_selector object at 0x7fe65a5f6790&gt;),\n",
       "                                (&#x27;onehotencoder&#x27;,\n",
       "                                 OneHotEncoder(handle_unknown=&#x27;ignore&#x27;),\n",
       "                                 &lt;sklearn.compose._column_transformer.make_column_selector object at 0x7fe65a5f67c0&gt;)])</pre></div></div></div><div class=\"sk-parallel\"><div class=\"sk-parallel-item\"><div class=\"sk-item\"><div class=\"sk-label-container\"><div class=\"sk-label sk-toggleable\"><input class=\"sk-toggleable__control sk-hidden--visually\" id=\"sk-estimator-id-22\" type=\"checkbox\" ><label for=\"sk-estimator-id-22\" class=\"sk-toggleable__label sk-toggleable__label-arrow\">pipeline</label><div class=\"sk-toggleable__content\"><pre>&lt;sklearn.compose._column_transformer.make_column_selector object at 0x7fe65a5f6790&gt;</pre></div></div></div><div class=\"sk-serial\"><div class=\"sk-item\"><div class=\"sk-serial\"><div class=\"sk-item\"><div class=\"sk-estimator sk-toggleable\"><input class=\"sk-toggleable__control sk-hidden--visually\" id=\"sk-estimator-id-23\" type=\"checkbox\" ><label for=\"sk-estimator-id-23\" class=\"sk-toggleable__label sk-toggleable__label-arrow\">StandardScaler</label><div class=\"sk-toggleable__content\"><pre>StandardScaler()</pre></div></div></div><div class=\"sk-item\"><div class=\"sk-estimator sk-toggleable\"><input class=\"sk-toggleable__control sk-hidden--visually\" id=\"sk-estimator-id-24\" type=\"checkbox\" ><label for=\"sk-estimator-id-24\" class=\"sk-toggleable__label sk-toggleable__label-arrow\">SimpleImputer</label><div class=\"sk-toggleable__content\"><pre>SimpleImputer(add_indicator=True)</pre></div></div></div></div></div></div></div></div><div class=\"sk-parallel-item\"><div class=\"sk-item\"><div class=\"sk-label-container\"><div class=\"sk-label sk-toggleable\"><input class=\"sk-toggleable__control sk-hidden--visually\" id=\"sk-estimator-id-25\" type=\"checkbox\" ><label for=\"sk-estimator-id-25\" class=\"sk-toggleable__label sk-toggleable__label-arrow\">onehotencoder</label><div class=\"sk-toggleable__content\"><pre>&lt;sklearn.compose._column_transformer.make_column_selector object at 0x7fe65a5f67c0&gt;</pre></div></div></div><div class=\"sk-serial\"><div class=\"sk-item\"><div class=\"sk-estimator sk-toggleable\"><input class=\"sk-toggleable__control sk-hidden--visually\" id=\"sk-estimator-id-26\" type=\"checkbox\" ><label for=\"sk-estimator-id-26\" class=\"sk-toggleable__label sk-toggleable__label-arrow\">OneHotEncoder</label><div class=\"sk-toggleable__content\"><pre>OneHotEncoder(handle_unknown=&#x27;ignore&#x27;)</pre></div></div></div></div></div></div></div></div><div class=\"sk-item\"><div class=\"sk-estimator sk-toggleable\"><input class=\"sk-toggleable__control sk-hidden--visually\" id=\"sk-estimator-id-27\" type=\"checkbox\" ><label for=\"sk-estimator-id-27\" class=\"sk-toggleable__label sk-toggleable__label-arrow\">LinearRegression</label><div class=\"sk-toggleable__content\"><pre>LinearRegression()</pre></div></div></div></div></div></div></div>"
      ],
      "text/plain": [
       "Pipeline(steps=[('columntransformer',\n",
       "                 ColumnTransformer(transformers=[('pipeline',\n",
       "                                                  Pipeline(steps=[('standardscaler',\n",
       "                                                                   StandardScaler()),\n",
       "                                                                  ('simpleimputer',\n",
       "                                                                   SimpleImputer(add_indicator=True))]),\n",
       "                                                  <sklearn.compose._column_transformer.make_column_selector object at 0x7fe65a5f6790>),\n",
       "                                                 ('onehotencoder',\n",
       "                                                  OneHotEncoder(handle_unknown='ignore'),\n",
       "                                                  <sklearn.compose._column_transformer.make_column_selector object at 0x7fe65a5f67c0>)])),\n",
       "                ('linearregression', LinearRegression())])"
      ]
     },
     "execution_count": 22,
     "metadata": {},
     "output_type": "execute_result"
    }
   ],
   "source": [
    "# create pipeline for linear regression model\n",
    "linear_pipeline = make_pipeline(linear_preprocessor, lin_model)\n",
    "# display pipeline\n",
    "linear_pipeline"
   ]
  },
  {
   "cell_type": "code",
   "execution_count": 23,
   "metadata": {},
   "outputs": [
    {
     "data": {
      "text/html": [
       "<style>#sk-container-id-5 {color: black;background-color: white;}#sk-container-id-5 pre{padding: 0;}#sk-container-id-5 div.sk-toggleable {background-color: white;}#sk-container-id-5 label.sk-toggleable__label {cursor: pointer;display: block;width: 100%;margin-bottom: 0;padding: 0.3em;box-sizing: border-box;text-align: center;}#sk-container-id-5 label.sk-toggleable__label-arrow:before {content: \"▸\";float: left;margin-right: 0.25em;color: #696969;}#sk-container-id-5 label.sk-toggleable__label-arrow:hover:before {color: black;}#sk-container-id-5 div.sk-estimator:hover label.sk-toggleable__label-arrow:before {color: black;}#sk-container-id-5 div.sk-toggleable__content {max-height: 0;max-width: 0;overflow: hidden;text-align: left;background-color: #f0f8ff;}#sk-container-id-5 div.sk-toggleable__content pre {margin: 0.2em;color: black;border-radius: 0.25em;background-color: #f0f8ff;}#sk-container-id-5 input.sk-toggleable__control:checked~div.sk-toggleable__content {max-height: 200px;max-width: 100%;overflow: auto;}#sk-container-id-5 input.sk-toggleable__control:checked~label.sk-toggleable__label-arrow:before {content: \"▾\";}#sk-container-id-5 div.sk-estimator input.sk-toggleable__control:checked~label.sk-toggleable__label {background-color: #d4ebff;}#sk-container-id-5 div.sk-label input.sk-toggleable__control:checked~label.sk-toggleable__label {background-color: #d4ebff;}#sk-container-id-5 input.sk-hidden--visually {border: 0;clip: rect(1px 1px 1px 1px);clip: rect(1px, 1px, 1px, 1px);height: 1px;margin: -1px;overflow: hidden;padding: 0;position: absolute;width: 1px;}#sk-container-id-5 div.sk-estimator {font-family: monospace;background-color: #f0f8ff;border: 1px dotted black;border-radius: 0.25em;box-sizing: border-box;margin-bottom: 0.5em;}#sk-container-id-5 div.sk-estimator:hover {background-color: #d4ebff;}#sk-container-id-5 div.sk-parallel-item::after {content: \"\";width: 100%;border-bottom: 1px solid gray;flex-grow: 1;}#sk-container-id-5 div.sk-label:hover label.sk-toggleable__label {background-color: #d4ebff;}#sk-container-id-5 div.sk-serial::before {content: \"\";position: absolute;border-left: 1px solid gray;box-sizing: border-box;top: 0;bottom: 0;left: 50%;z-index: 0;}#sk-container-id-5 div.sk-serial {display: flex;flex-direction: column;align-items: center;background-color: white;padding-right: 0.2em;padding-left: 0.2em;position: relative;}#sk-container-id-5 div.sk-item {position: relative;z-index: 1;}#sk-container-id-5 div.sk-parallel {display: flex;align-items: stretch;justify-content: center;background-color: white;position: relative;}#sk-container-id-5 div.sk-item::before, #sk-container-id-5 div.sk-parallel-item::before {content: \"\";position: absolute;border-left: 1px solid gray;box-sizing: border-box;top: 0;bottom: 0;left: 50%;z-index: -1;}#sk-container-id-5 div.sk-parallel-item {display: flex;flex-direction: column;z-index: 1;position: relative;background-color: white;}#sk-container-id-5 div.sk-parallel-item:first-child::after {align-self: flex-end;width: 50%;}#sk-container-id-5 div.sk-parallel-item:last-child::after {align-self: flex-start;width: 50%;}#sk-container-id-5 div.sk-parallel-item:only-child::after {width: 0;}#sk-container-id-5 div.sk-dashed-wrapped {border: 1px dashed gray;margin: 0 0.4em 0.5em 0.4em;box-sizing: border-box;padding-bottom: 0.4em;background-color: white;}#sk-container-id-5 div.sk-label label {font-family: monospace;font-weight: bold;display: inline-block;line-height: 1.2em;}#sk-container-id-5 div.sk-label-container {text-align: center;}#sk-container-id-5 div.sk-container {/* jupyter's `normalize.less` sets `[hidden] { display: none; }` but bootstrap.min.css set `[hidden] { display: none !important; }` so we also need the `!important` here to be able to override the default hidden behavior on the sphinx rendered scikit-learn.org. See: https://github.com/scikit-learn/scikit-learn/issues/21755 */display: inline-block !important;position: relative;}#sk-container-id-5 div.sk-text-repr-fallback {display: none;}</style><div id=\"sk-container-id-5\" class=\"sk-top-container\"><div class=\"sk-text-repr-fallback\"><pre>Pipeline(steps=[(&#x27;columntransformer&#x27;,\n",
       "                 ColumnTransformer(transformers=[(&#x27;simpleimputer&#x27;,\n",
       "                                                  SimpleImputer(add_indicator=True),\n",
       "                                                  &lt;sklearn.compose._column_transformer.make_column_selector object at 0x7fe65a5f6790&gt;),\n",
       "                                                 (&#x27;ordinalencoder&#x27;,\n",
       "                                                  OrdinalEncoder(encoded_missing_value=-2,\n",
       "                                                                 handle_unknown=&#x27;use_encoded_value&#x27;,\n",
       "                                                                 unknown_value=-1),\n",
       "                                                  &lt;sklearn.compose._column_transformer.make_column_selector object at 0x7fe65a5f67c0&gt;)])),\n",
       "                (&#x27;randomforestregressor&#x27;,\n",
       "                 RandomForestRegressor(n_estimators=25, random_state=2))])</pre><b>In a Jupyter environment, please rerun this cell to show the HTML representation or trust the notebook. <br />On GitHub, the HTML representation is unable to render, please try loading this page with nbviewer.org.</b></div><div class=\"sk-container\" hidden><div class=\"sk-item sk-dashed-wrapped\"><div class=\"sk-label-container\"><div class=\"sk-label sk-toggleable\"><input class=\"sk-toggleable__control sk-hidden--visually\" id=\"sk-estimator-id-28\" type=\"checkbox\" ><label for=\"sk-estimator-id-28\" class=\"sk-toggleable__label sk-toggleable__label-arrow\">Pipeline</label><div class=\"sk-toggleable__content\"><pre>Pipeline(steps=[(&#x27;columntransformer&#x27;,\n",
       "                 ColumnTransformer(transformers=[(&#x27;simpleimputer&#x27;,\n",
       "                                                  SimpleImputer(add_indicator=True),\n",
       "                                                  &lt;sklearn.compose._column_transformer.make_column_selector object at 0x7fe65a5f6790&gt;),\n",
       "                                                 (&#x27;ordinalencoder&#x27;,\n",
       "                                                  OrdinalEncoder(encoded_missing_value=-2,\n",
       "                                                                 handle_unknown=&#x27;use_encoded_value&#x27;,\n",
       "                                                                 unknown_value=-1),\n",
       "                                                  &lt;sklearn.compose._column_transformer.make_column_selector object at 0x7fe65a5f67c0&gt;)])),\n",
       "                (&#x27;randomforestregressor&#x27;,\n",
       "                 RandomForestRegressor(n_estimators=25, random_state=2))])</pre></div></div></div><div class=\"sk-serial\"><div class=\"sk-item sk-dashed-wrapped\"><div class=\"sk-label-container\"><div class=\"sk-label sk-toggleable\"><input class=\"sk-toggleable__control sk-hidden--visually\" id=\"sk-estimator-id-29\" type=\"checkbox\" ><label for=\"sk-estimator-id-29\" class=\"sk-toggleable__label sk-toggleable__label-arrow\">columntransformer: ColumnTransformer</label><div class=\"sk-toggleable__content\"><pre>ColumnTransformer(transformers=[(&#x27;simpleimputer&#x27;,\n",
       "                                 SimpleImputer(add_indicator=True),\n",
       "                                 &lt;sklearn.compose._column_transformer.make_column_selector object at 0x7fe65a5f6790&gt;),\n",
       "                                (&#x27;ordinalencoder&#x27;,\n",
       "                                 OrdinalEncoder(encoded_missing_value=-2,\n",
       "                                                handle_unknown=&#x27;use_encoded_value&#x27;,\n",
       "                                                unknown_value=-1),\n",
       "                                 &lt;sklearn.compose._column_transformer.make_column_selector object at 0x7fe65a5f67c0&gt;)])</pre></div></div></div><div class=\"sk-parallel\"><div class=\"sk-parallel-item\"><div class=\"sk-item\"><div class=\"sk-label-container\"><div class=\"sk-label sk-toggleable\"><input class=\"sk-toggleable__control sk-hidden--visually\" id=\"sk-estimator-id-30\" type=\"checkbox\" ><label for=\"sk-estimator-id-30\" class=\"sk-toggleable__label sk-toggleable__label-arrow\">simpleimputer</label><div class=\"sk-toggleable__content\"><pre>&lt;sklearn.compose._column_transformer.make_column_selector object at 0x7fe65a5f6790&gt;</pre></div></div></div><div class=\"sk-serial\"><div class=\"sk-item\"><div class=\"sk-estimator sk-toggleable\"><input class=\"sk-toggleable__control sk-hidden--visually\" id=\"sk-estimator-id-31\" type=\"checkbox\" ><label for=\"sk-estimator-id-31\" class=\"sk-toggleable__label sk-toggleable__label-arrow\">SimpleImputer</label><div class=\"sk-toggleable__content\"><pre>SimpleImputer(add_indicator=True)</pre></div></div></div></div></div></div><div class=\"sk-parallel-item\"><div class=\"sk-item\"><div class=\"sk-label-container\"><div class=\"sk-label sk-toggleable\"><input class=\"sk-toggleable__control sk-hidden--visually\" id=\"sk-estimator-id-32\" type=\"checkbox\" ><label for=\"sk-estimator-id-32\" class=\"sk-toggleable__label sk-toggleable__label-arrow\">ordinalencoder</label><div class=\"sk-toggleable__content\"><pre>&lt;sklearn.compose._column_transformer.make_column_selector object at 0x7fe65a5f67c0&gt;</pre></div></div></div><div class=\"sk-serial\"><div class=\"sk-item\"><div class=\"sk-estimator sk-toggleable\"><input class=\"sk-toggleable__control sk-hidden--visually\" id=\"sk-estimator-id-33\" type=\"checkbox\" ><label for=\"sk-estimator-id-33\" class=\"sk-toggleable__label sk-toggleable__label-arrow\">OrdinalEncoder</label><div class=\"sk-toggleable__content\"><pre>OrdinalEncoder(encoded_missing_value=-2, handle_unknown=&#x27;use_encoded_value&#x27;,\n",
       "               unknown_value=-1)</pre></div></div></div></div></div></div></div></div><div class=\"sk-item\"><div class=\"sk-estimator sk-toggleable\"><input class=\"sk-toggleable__control sk-hidden--visually\" id=\"sk-estimator-id-34\" type=\"checkbox\" ><label for=\"sk-estimator-id-34\" class=\"sk-toggleable__label sk-toggleable__label-arrow\">RandomForestRegressor</label><div class=\"sk-toggleable__content\"><pre>RandomForestRegressor(n_estimators=25, random_state=2)</pre></div></div></div></div></div></div></div>"
      ],
      "text/plain": [
       "Pipeline(steps=[('columntransformer',\n",
       "                 ColumnTransformer(transformers=[('simpleimputer',\n",
       "                                                  SimpleImputer(add_indicator=True),\n",
       "                                                  <sklearn.compose._column_transformer.make_column_selector object at 0x7fe65a5f6790>),\n",
       "                                                 ('ordinalencoder',\n",
       "                                                  OrdinalEncoder(encoded_missing_value=-2,\n",
       "                                                                 handle_unknown='use_encoded_value',\n",
       "                                                                 unknown_value=-1),\n",
       "                                                  <sklearn.compose._column_transformer.make_column_selector object at 0x7fe65a5f67c0>)])),\n",
       "                ('randomforestregressor',\n",
       "                 RandomForestRegressor(n_estimators=25, random_state=2))])"
      ]
     },
     "execution_count": 23,
     "metadata": {},
     "output_type": "execute_result"
    }
   ],
   "source": [
    "# create pipeline for random forrest model\n",
    "rf_pipeline = make_pipeline(\n",
    "    tree_preprocessor, rf_model)\n",
    "# display pipeline\n",
    "rf_pipeline\n"
   ]
  },
  {
   "cell_type": "code",
   "execution_count": 24,
   "metadata": {},
   "outputs": [
    {
     "data": {
      "text/html": [
       "<style>#sk-container-id-6 {color: black;background-color: white;}#sk-container-id-6 pre{padding: 0;}#sk-container-id-6 div.sk-toggleable {background-color: white;}#sk-container-id-6 label.sk-toggleable__label {cursor: pointer;display: block;width: 100%;margin-bottom: 0;padding: 0.3em;box-sizing: border-box;text-align: center;}#sk-container-id-6 label.sk-toggleable__label-arrow:before {content: \"▸\";float: left;margin-right: 0.25em;color: #696969;}#sk-container-id-6 label.sk-toggleable__label-arrow:hover:before {color: black;}#sk-container-id-6 div.sk-estimator:hover label.sk-toggleable__label-arrow:before {color: black;}#sk-container-id-6 div.sk-toggleable__content {max-height: 0;max-width: 0;overflow: hidden;text-align: left;background-color: #f0f8ff;}#sk-container-id-6 div.sk-toggleable__content pre {margin: 0.2em;color: black;border-radius: 0.25em;background-color: #f0f8ff;}#sk-container-id-6 input.sk-toggleable__control:checked~div.sk-toggleable__content {max-height: 200px;max-width: 100%;overflow: auto;}#sk-container-id-6 input.sk-toggleable__control:checked~label.sk-toggleable__label-arrow:before {content: \"▾\";}#sk-container-id-6 div.sk-estimator input.sk-toggleable__control:checked~label.sk-toggleable__label {background-color: #d4ebff;}#sk-container-id-6 div.sk-label input.sk-toggleable__control:checked~label.sk-toggleable__label {background-color: #d4ebff;}#sk-container-id-6 input.sk-hidden--visually {border: 0;clip: rect(1px 1px 1px 1px);clip: rect(1px, 1px, 1px, 1px);height: 1px;margin: -1px;overflow: hidden;padding: 0;position: absolute;width: 1px;}#sk-container-id-6 div.sk-estimator {font-family: monospace;background-color: #f0f8ff;border: 1px dotted black;border-radius: 0.25em;box-sizing: border-box;margin-bottom: 0.5em;}#sk-container-id-6 div.sk-estimator:hover {background-color: #d4ebff;}#sk-container-id-6 div.sk-parallel-item::after {content: \"\";width: 100%;border-bottom: 1px solid gray;flex-grow: 1;}#sk-container-id-6 div.sk-label:hover label.sk-toggleable__label {background-color: #d4ebff;}#sk-container-id-6 div.sk-serial::before {content: \"\";position: absolute;border-left: 1px solid gray;box-sizing: border-box;top: 0;bottom: 0;left: 50%;z-index: 0;}#sk-container-id-6 div.sk-serial {display: flex;flex-direction: column;align-items: center;background-color: white;padding-right: 0.2em;padding-left: 0.2em;position: relative;}#sk-container-id-6 div.sk-item {position: relative;z-index: 1;}#sk-container-id-6 div.sk-parallel {display: flex;align-items: stretch;justify-content: center;background-color: white;position: relative;}#sk-container-id-6 div.sk-item::before, #sk-container-id-6 div.sk-parallel-item::before {content: \"\";position: absolute;border-left: 1px solid gray;box-sizing: border-box;top: 0;bottom: 0;left: 50%;z-index: -1;}#sk-container-id-6 div.sk-parallel-item {display: flex;flex-direction: column;z-index: 1;position: relative;background-color: white;}#sk-container-id-6 div.sk-parallel-item:first-child::after {align-self: flex-end;width: 50%;}#sk-container-id-6 div.sk-parallel-item:last-child::after {align-self: flex-start;width: 50%;}#sk-container-id-6 div.sk-parallel-item:only-child::after {width: 0;}#sk-container-id-6 div.sk-dashed-wrapped {border: 1px dashed gray;margin: 0 0.4em 0.5em 0.4em;box-sizing: border-box;padding-bottom: 0.4em;background-color: white;}#sk-container-id-6 div.sk-label label {font-family: monospace;font-weight: bold;display: inline-block;line-height: 1.2em;}#sk-container-id-6 div.sk-label-container {text-align: center;}#sk-container-id-6 div.sk-container {/* jupyter's `normalize.less` sets `[hidden] { display: none; }` but bootstrap.min.css set `[hidden] { display: none !important; }` so we also need the `!important` here to be able to override the default hidden behavior on the sphinx rendered scikit-learn.org. See: https://github.com/scikit-learn/scikit-learn/issues/21755 */display: inline-block !important;position: relative;}#sk-container-id-6 div.sk-text-repr-fallback {display: none;}</style><div id=\"sk-container-id-6\" class=\"sk-top-container\"><div class=\"sk-text-repr-fallback\"><pre>Pipeline(steps=[(&#x27;columntransformer&#x27;,\n",
       "                 ColumnTransformer(transformers=[(&#x27;simpleimputer&#x27;,\n",
       "                                                  SimpleImputer(add_indicator=True),\n",
       "                                                  &lt;sklearn.compose._column_transformer.make_column_selector object at 0x7fe65a5f6790&gt;),\n",
       "                                                 (&#x27;ordinalencoder&#x27;,\n",
       "                                                  OrdinalEncoder(encoded_missing_value=-2,\n",
       "                                                                 handle_unknown=&#x27;use_encoded_value&#x27;,\n",
       "                                                                 unknown_value=-1),\n",
       "                                                  &lt;sklearn.compose._column_transformer.make_column_selector object at 0x7fe65a5f67c0&gt;)])),\n",
       "                (&#x27;gradientboostingregressor&#x27;,\n",
       "                 GradientBoostingRegressor(max_depth=4, max_features=0.75,\n",
       "                                           n_estimators=200, random_state=2,\n",
       "                                           subsample=0.9))])</pre><b>In a Jupyter environment, please rerun this cell to show the HTML representation or trust the notebook. <br />On GitHub, the HTML representation is unable to render, please try loading this page with nbviewer.org.</b></div><div class=\"sk-container\" hidden><div class=\"sk-item sk-dashed-wrapped\"><div class=\"sk-label-container\"><div class=\"sk-label sk-toggleable\"><input class=\"sk-toggleable__control sk-hidden--visually\" id=\"sk-estimator-id-35\" type=\"checkbox\" ><label for=\"sk-estimator-id-35\" class=\"sk-toggleable__label sk-toggleable__label-arrow\">Pipeline</label><div class=\"sk-toggleable__content\"><pre>Pipeline(steps=[(&#x27;columntransformer&#x27;,\n",
       "                 ColumnTransformer(transformers=[(&#x27;simpleimputer&#x27;,\n",
       "                                                  SimpleImputer(add_indicator=True),\n",
       "                                                  &lt;sklearn.compose._column_transformer.make_column_selector object at 0x7fe65a5f6790&gt;),\n",
       "                                                 (&#x27;ordinalencoder&#x27;,\n",
       "                                                  OrdinalEncoder(encoded_missing_value=-2,\n",
       "                                                                 handle_unknown=&#x27;use_encoded_value&#x27;,\n",
       "                                                                 unknown_value=-1),\n",
       "                                                  &lt;sklearn.compose._column_transformer.make_column_selector object at 0x7fe65a5f67c0&gt;)])),\n",
       "                (&#x27;gradientboostingregressor&#x27;,\n",
       "                 GradientBoostingRegressor(max_depth=4, max_features=0.75,\n",
       "                                           n_estimators=200, random_state=2,\n",
       "                                           subsample=0.9))])</pre></div></div></div><div class=\"sk-serial\"><div class=\"sk-item sk-dashed-wrapped\"><div class=\"sk-label-container\"><div class=\"sk-label sk-toggleable\"><input class=\"sk-toggleable__control sk-hidden--visually\" id=\"sk-estimator-id-36\" type=\"checkbox\" ><label for=\"sk-estimator-id-36\" class=\"sk-toggleable__label sk-toggleable__label-arrow\">columntransformer: ColumnTransformer</label><div class=\"sk-toggleable__content\"><pre>ColumnTransformer(transformers=[(&#x27;simpleimputer&#x27;,\n",
       "                                 SimpleImputer(add_indicator=True),\n",
       "                                 &lt;sklearn.compose._column_transformer.make_column_selector object at 0x7fe65a5f6790&gt;),\n",
       "                                (&#x27;ordinalencoder&#x27;,\n",
       "                                 OrdinalEncoder(encoded_missing_value=-2,\n",
       "                                                handle_unknown=&#x27;use_encoded_value&#x27;,\n",
       "                                                unknown_value=-1),\n",
       "                                 &lt;sklearn.compose._column_transformer.make_column_selector object at 0x7fe65a5f67c0&gt;)])</pre></div></div></div><div class=\"sk-parallel\"><div class=\"sk-parallel-item\"><div class=\"sk-item\"><div class=\"sk-label-container\"><div class=\"sk-label sk-toggleable\"><input class=\"sk-toggleable__control sk-hidden--visually\" id=\"sk-estimator-id-37\" type=\"checkbox\" ><label for=\"sk-estimator-id-37\" class=\"sk-toggleable__label sk-toggleable__label-arrow\">simpleimputer</label><div class=\"sk-toggleable__content\"><pre>&lt;sklearn.compose._column_transformer.make_column_selector object at 0x7fe65a5f6790&gt;</pre></div></div></div><div class=\"sk-serial\"><div class=\"sk-item\"><div class=\"sk-estimator sk-toggleable\"><input class=\"sk-toggleable__control sk-hidden--visually\" id=\"sk-estimator-id-38\" type=\"checkbox\" ><label for=\"sk-estimator-id-38\" class=\"sk-toggleable__label sk-toggleable__label-arrow\">SimpleImputer</label><div class=\"sk-toggleable__content\"><pre>SimpleImputer(add_indicator=True)</pre></div></div></div></div></div></div><div class=\"sk-parallel-item\"><div class=\"sk-item\"><div class=\"sk-label-container\"><div class=\"sk-label sk-toggleable\"><input class=\"sk-toggleable__control sk-hidden--visually\" id=\"sk-estimator-id-39\" type=\"checkbox\" ><label for=\"sk-estimator-id-39\" class=\"sk-toggleable__label sk-toggleable__label-arrow\">ordinalencoder</label><div class=\"sk-toggleable__content\"><pre>&lt;sklearn.compose._column_transformer.make_column_selector object at 0x7fe65a5f67c0&gt;</pre></div></div></div><div class=\"sk-serial\"><div class=\"sk-item\"><div class=\"sk-estimator sk-toggleable\"><input class=\"sk-toggleable__control sk-hidden--visually\" id=\"sk-estimator-id-40\" type=\"checkbox\" ><label for=\"sk-estimator-id-40\" class=\"sk-toggleable__label sk-toggleable__label-arrow\">OrdinalEncoder</label><div class=\"sk-toggleable__content\"><pre>OrdinalEncoder(encoded_missing_value=-2, handle_unknown=&#x27;use_encoded_value&#x27;,\n",
       "               unknown_value=-1)</pre></div></div></div></div></div></div></div></div><div class=\"sk-item\"><div class=\"sk-estimator sk-toggleable\"><input class=\"sk-toggleable__control sk-hidden--visually\" id=\"sk-estimator-id-41\" type=\"checkbox\" ><label for=\"sk-estimator-id-41\" class=\"sk-toggleable__label sk-toggleable__label-arrow\">GradientBoostingRegressor</label><div class=\"sk-toggleable__content\"><pre>GradientBoostingRegressor(max_depth=4, max_features=0.75, n_estimators=200,\n",
       "                          random_state=2, subsample=0.9)</pre></div></div></div></div></div></div></div>"
      ],
      "text/plain": [
       "Pipeline(steps=[('columntransformer',\n",
       "                 ColumnTransformer(transformers=[('simpleimputer',\n",
       "                                                  SimpleImputer(add_indicator=True),\n",
       "                                                  <sklearn.compose._column_transformer.make_column_selector object at 0x7fe65a5f6790>),\n",
       "                                                 ('ordinalencoder',\n",
       "                                                  OrdinalEncoder(encoded_missing_value=-2,\n",
       "                                                                 handle_unknown='use_encoded_value',\n",
       "                                                                 unknown_value=-1),\n",
       "                                                  <sklearn.compose._column_transformer.make_column_selector object at 0x7fe65a5f67c0>)])),\n",
       "                ('gradientboostingregressor',\n",
       "                 GradientBoostingRegressor(max_depth=4, max_features=0.75,\n",
       "                                           n_estimators=200, random_state=2,\n",
       "                                           subsample=0.9))])"
      ]
     },
     "execution_count": 24,
     "metadata": {},
     "output_type": "execute_result"
    }
   ],
   "source": [
    "# create pipeline for gradient boosting model\n",
    "gbdt_pipeline = make_pipeline(\n",
    "    tree_preprocessor, gbdt_model\n",
    ")\n",
    "# display pipeline\n",
    "gbdt_pipeline"
   ]
  },
  {
   "attachments": {},
   "cell_type": "markdown",
   "metadata": {},
   "source": [
    "##### Defining stacking regressor"
   ]
  },
  {
   "cell_type": "code",
   "execution_count": 25,
   "metadata": {},
   "outputs": [
    {
     "data": {
      "text/html": [
       "<style>#sk-container-id-7 {color: black;background-color: white;}#sk-container-id-7 pre{padding: 0;}#sk-container-id-7 div.sk-toggleable {background-color: white;}#sk-container-id-7 label.sk-toggleable__label {cursor: pointer;display: block;width: 100%;margin-bottom: 0;padding: 0.3em;box-sizing: border-box;text-align: center;}#sk-container-id-7 label.sk-toggleable__label-arrow:before {content: \"▸\";float: left;margin-right: 0.25em;color: #696969;}#sk-container-id-7 label.sk-toggleable__label-arrow:hover:before {color: black;}#sk-container-id-7 div.sk-estimator:hover label.sk-toggleable__label-arrow:before {color: black;}#sk-container-id-7 div.sk-toggleable__content {max-height: 0;max-width: 0;overflow: hidden;text-align: left;background-color: #f0f8ff;}#sk-container-id-7 div.sk-toggleable__content pre {margin: 0.2em;color: black;border-radius: 0.25em;background-color: #f0f8ff;}#sk-container-id-7 input.sk-toggleable__control:checked~div.sk-toggleable__content {max-height: 200px;max-width: 100%;overflow: auto;}#sk-container-id-7 input.sk-toggleable__control:checked~label.sk-toggleable__label-arrow:before {content: \"▾\";}#sk-container-id-7 div.sk-estimator input.sk-toggleable__control:checked~label.sk-toggleable__label {background-color: #d4ebff;}#sk-container-id-7 div.sk-label input.sk-toggleable__control:checked~label.sk-toggleable__label {background-color: #d4ebff;}#sk-container-id-7 input.sk-hidden--visually {border: 0;clip: rect(1px 1px 1px 1px);clip: rect(1px, 1px, 1px, 1px);height: 1px;margin: -1px;overflow: hidden;padding: 0;position: absolute;width: 1px;}#sk-container-id-7 div.sk-estimator {font-family: monospace;background-color: #f0f8ff;border: 1px dotted black;border-radius: 0.25em;box-sizing: border-box;margin-bottom: 0.5em;}#sk-container-id-7 div.sk-estimator:hover {background-color: #d4ebff;}#sk-container-id-7 div.sk-parallel-item::after {content: \"\";width: 100%;border-bottom: 1px solid gray;flex-grow: 1;}#sk-container-id-7 div.sk-label:hover label.sk-toggleable__label {background-color: #d4ebff;}#sk-container-id-7 div.sk-serial::before {content: \"\";position: absolute;border-left: 1px solid gray;box-sizing: border-box;top: 0;bottom: 0;left: 50%;z-index: 0;}#sk-container-id-7 div.sk-serial {display: flex;flex-direction: column;align-items: center;background-color: white;padding-right: 0.2em;padding-left: 0.2em;position: relative;}#sk-container-id-7 div.sk-item {position: relative;z-index: 1;}#sk-container-id-7 div.sk-parallel {display: flex;align-items: stretch;justify-content: center;background-color: white;position: relative;}#sk-container-id-7 div.sk-item::before, #sk-container-id-7 div.sk-parallel-item::before {content: \"\";position: absolute;border-left: 1px solid gray;box-sizing: border-box;top: 0;bottom: 0;left: 50%;z-index: -1;}#sk-container-id-7 div.sk-parallel-item {display: flex;flex-direction: column;z-index: 1;position: relative;background-color: white;}#sk-container-id-7 div.sk-parallel-item:first-child::after {align-self: flex-end;width: 50%;}#sk-container-id-7 div.sk-parallel-item:last-child::after {align-self: flex-start;width: 50%;}#sk-container-id-7 div.sk-parallel-item:only-child::after {width: 0;}#sk-container-id-7 div.sk-dashed-wrapped {border: 1px dashed gray;margin: 0 0.4em 0.5em 0.4em;box-sizing: border-box;padding-bottom: 0.4em;background-color: white;}#sk-container-id-7 div.sk-label label {font-family: monospace;font-weight: bold;display: inline-block;line-height: 1.2em;}#sk-container-id-7 div.sk-label-container {text-align: center;}#sk-container-id-7 div.sk-container {/* jupyter's `normalize.less` sets `[hidden] { display: none; }` but bootstrap.min.css set `[hidden] { display: none !important; }` so we also need the `!important` here to be able to override the default hidden behavior on the sphinx rendered scikit-learn.org. See: https://github.com/scikit-learn/scikit-learn/issues/21755 */display: inline-block !important;position: relative;}#sk-container-id-7 div.sk-text-repr-fallback {display: none;}</style><div id=\"sk-container-id-7\" class=\"sk-top-container\"><div class=\"sk-text-repr-fallback\"><pre>StackingRegressor(estimators=[(&#x27;Random Forest&#x27;,\n",
       "                               Pipeline(steps=[(&#x27;columntransformer&#x27;,\n",
       "                                                ColumnTransformer(transformers=[(&#x27;simpleimputer&#x27;,\n",
       "                                                                                 SimpleImputer(add_indicator=True),\n",
       "                                                                                 &lt;sklearn.compose._column_transformer.make_column_selector object at 0x7fe65a5f6790&gt;),\n",
       "                                                                                (&#x27;ordinalencoder&#x27;,\n",
       "                                                                                 OrdinalEncoder(encoded_missing_value=-2,\n",
       "                                                                                                handle_unknown=&#x27;use_encoded_value&#x27;,\n",
       "                                                                                                unknown_v...\n",
       "                                                                                                  StandardScaler()),\n",
       "                                                                                                 (&#x27;simpleimputer&#x27;,\n",
       "                                                                                                  SimpleImputer(add_indicator=True))]),\n",
       "                                                                                 &lt;sklearn.compose._column_transformer.make_column_selector object at 0x7fe65a5f6790&gt;),\n",
       "                                                                                (&#x27;onehotencoder&#x27;,\n",
       "                                                                                 OneHotEncoder(handle_unknown=&#x27;ignore&#x27;),\n",
       "                                                                                 &lt;sklearn.compose._column_transformer.make_column_selector object at 0x7fe65a5f67c0&gt;)])),\n",
       "                                               (&#x27;linearregression&#x27;,\n",
       "                                                LinearRegression())]))],\n",
       "                  final_estimator=RidgeCV())</pre><b>In a Jupyter environment, please rerun this cell to show the HTML representation or trust the notebook. <br />On GitHub, the HTML representation is unable to render, please try loading this page with nbviewer.org.</b></div><div class=\"sk-container\" hidden><div class=\"sk-item sk-dashed-wrapped\"><div class=\"sk-label-container\"><div class=\"sk-label sk-toggleable\"><input class=\"sk-toggleable__control sk-hidden--visually\" id=\"sk-estimator-id-42\" type=\"checkbox\" ><label for=\"sk-estimator-id-42\" class=\"sk-toggleable__label sk-toggleable__label-arrow\">StackingRegressor</label><div class=\"sk-toggleable__content\"><pre>StackingRegressor(estimators=[(&#x27;Random Forest&#x27;,\n",
       "                               Pipeline(steps=[(&#x27;columntransformer&#x27;,\n",
       "                                                ColumnTransformer(transformers=[(&#x27;simpleimputer&#x27;,\n",
       "                                                                                 SimpleImputer(add_indicator=True),\n",
       "                                                                                 &lt;sklearn.compose._column_transformer.make_column_selector object at 0x7fe65a5f6790&gt;),\n",
       "                                                                                (&#x27;ordinalencoder&#x27;,\n",
       "                                                                                 OrdinalEncoder(encoded_missing_value=-2,\n",
       "                                                                                                handle_unknown=&#x27;use_encoded_value&#x27;,\n",
       "                                                                                                unknown_v...\n",
       "                                                                                                  StandardScaler()),\n",
       "                                                                                                 (&#x27;simpleimputer&#x27;,\n",
       "                                                                                                  SimpleImputer(add_indicator=True))]),\n",
       "                                                                                 &lt;sklearn.compose._column_transformer.make_column_selector object at 0x7fe65a5f6790&gt;),\n",
       "                                                                                (&#x27;onehotencoder&#x27;,\n",
       "                                                                                 OneHotEncoder(handle_unknown=&#x27;ignore&#x27;),\n",
       "                                                                                 &lt;sklearn.compose._column_transformer.make_column_selector object at 0x7fe65a5f67c0&gt;)])),\n",
       "                                               (&#x27;linearregression&#x27;,\n",
       "                                                LinearRegression())]))],\n",
       "                  final_estimator=RidgeCV())</pre></div></div></div><div class=\"sk-serial\"><div class=\"sk-item\"><div class=\"sk-parallel\"><div class=\"sk-parallel-item\"><div class=\"sk-item\"><div class=\"sk-label-container\"><div class=\"sk-label sk-toggleable\"><label>Random Forest</label></div></div><div class=\"sk-serial\"><div class=\"sk-item\"><div class=\"sk-serial\"><div class=\"sk-item sk-dashed-wrapped\"><div class=\"sk-label-container\"><div class=\"sk-label sk-toggleable\"><input class=\"sk-toggleable__control sk-hidden--visually\" id=\"sk-estimator-id-43\" type=\"checkbox\" ><label for=\"sk-estimator-id-43\" class=\"sk-toggleable__label sk-toggleable__label-arrow\">columntransformer: ColumnTransformer</label><div class=\"sk-toggleable__content\"><pre>ColumnTransformer(transformers=[(&#x27;simpleimputer&#x27;,\n",
       "                                 SimpleImputer(add_indicator=True),\n",
       "                                 &lt;sklearn.compose._column_transformer.make_column_selector object at 0x7fe65a5f6790&gt;),\n",
       "                                (&#x27;ordinalencoder&#x27;,\n",
       "                                 OrdinalEncoder(encoded_missing_value=-2,\n",
       "                                                handle_unknown=&#x27;use_encoded_value&#x27;,\n",
       "                                                unknown_value=-1),\n",
       "                                 &lt;sklearn.compose._column_transformer.make_column_selector object at 0x7fe65a5f67c0&gt;)])</pre></div></div></div><div class=\"sk-parallel\"><div class=\"sk-parallel-item\"><div class=\"sk-item\"><div class=\"sk-label-container\"><div class=\"sk-label sk-toggleable\"><input class=\"sk-toggleable__control sk-hidden--visually\" id=\"sk-estimator-id-44\" type=\"checkbox\" ><label for=\"sk-estimator-id-44\" class=\"sk-toggleable__label sk-toggleable__label-arrow\">simpleimputer</label><div class=\"sk-toggleable__content\"><pre>&lt;sklearn.compose._column_transformer.make_column_selector object at 0x7fe65a5f6790&gt;</pre></div></div></div><div class=\"sk-serial\"><div class=\"sk-item\"><div class=\"sk-estimator sk-toggleable\"><input class=\"sk-toggleable__control sk-hidden--visually\" id=\"sk-estimator-id-45\" type=\"checkbox\" ><label for=\"sk-estimator-id-45\" class=\"sk-toggleable__label sk-toggleable__label-arrow\">SimpleImputer</label><div class=\"sk-toggleable__content\"><pre>SimpleImputer(add_indicator=True)</pre></div></div></div></div></div></div><div class=\"sk-parallel-item\"><div class=\"sk-item\"><div class=\"sk-label-container\"><div class=\"sk-label sk-toggleable\"><input class=\"sk-toggleable__control sk-hidden--visually\" id=\"sk-estimator-id-46\" type=\"checkbox\" ><label for=\"sk-estimator-id-46\" class=\"sk-toggleable__label sk-toggleable__label-arrow\">ordinalencoder</label><div class=\"sk-toggleable__content\"><pre>&lt;sklearn.compose._column_transformer.make_column_selector object at 0x7fe65a5f67c0&gt;</pre></div></div></div><div class=\"sk-serial\"><div class=\"sk-item\"><div class=\"sk-estimator sk-toggleable\"><input class=\"sk-toggleable__control sk-hidden--visually\" id=\"sk-estimator-id-47\" type=\"checkbox\" ><label for=\"sk-estimator-id-47\" class=\"sk-toggleable__label sk-toggleable__label-arrow\">OrdinalEncoder</label><div class=\"sk-toggleable__content\"><pre>OrdinalEncoder(encoded_missing_value=-2, handle_unknown=&#x27;use_encoded_value&#x27;,\n",
       "               unknown_value=-1)</pre></div></div></div></div></div></div></div></div><div class=\"sk-item\"><div class=\"sk-estimator sk-toggleable\"><input class=\"sk-toggleable__control sk-hidden--visually\" id=\"sk-estimator-id-48\" type=\"checkbox\" ><label for=\"sk-estimator-id-48\" class=\"sk-toggleable__label sk-toggleable__label-arrow\">RandomForestRegressor</label><div class=\"sk-toggleable__content\"><pre>RandomForestRegressor(n_estimators=25, random_state=2)</pre></div></div></div></div></div></div></div></div><div class=\"sk-parallel-item\"><div class=\"sk-item\"><div class=\"sk-label-container\"><div class=\"sk-label sk-toggleable\"><label>Lasso</label></div></div><div class=\"sk-serial\"><div class=\"sk-item\"><div class=\"sk-serial\"><div class=\"sk-item sk-dashed-wrapped\"><div class=\"sk-label-container\"><div class=\"sk-label sk-toggleable\"><input class=\"sk-toggleable__control sk-hidden--visually\" id=\"sk-estimator-id-49\" type=\"checkbox\" ><label for=\"sk-estimator-id-49\" class=\"sk-toggleable__label sk-toggleable__label-arrow\">columntransformer: ColumnTransformer</label><div class=\"sk-toggleable__content\"><pre>ColumnTransformer(transformers=[(&#x27;pipeline&#x27;,\n",
       "                                 Pipeline(steps=[(&#x27;standardscaler&#x27;,\n",
       "                                                  StandardScaler()),\n",
       "                                                 (&#x27;simpleimputer&#x27;,\n",
       "                                                  SimpleImputer(add_indicator=True))]),\n",
       "                                 &lt;sklearn.compose._column_transformer.make_column_selector object at 0x7fe65a5f6790&gt;),\n",
       "                                (&#x27;onehotencoder&#x27;,\n",
       "                                 OneHotEncoder(handle_unknown=&#x27;ignore&#x27;),\n",
       "                                 &lt;sklearn.compose._column_transformer.make_column_selector object at 0x7fe65a5f67c0&gt;)])</pre></div></div></div><div class=\"sk-parallel\"><div class=\"sk-parallel-item\"><div class=\"sk-item\"><div class=\"sk-label-container\"><div class=\"sk-label sk-toggleable\"><input class=\"sk-toggleable__control sk-hidden--visually\" id=\"sk-estimator-id-50\" type=\"checkbox\" ><label for=\"sk-estimator-id-50\" class=\"sk-toggleable__label sk-toggleable__label-arrow\">pipeline</label><div class=\"sk-toggleable__content\"><pre>&lt;sklearn.compose._column_transformer.make_column_selector object at 0x7fe65a5f6790&gt;</pre></div></div></div><div class=\"sk-serial\"><div class=\"sk-item\"><div class=\"sk-serial\"><div class=\"sk-item\"><div class=\"sk-estimator sk-toggleable\"><input class=\"sk-toggleable__control sk-hidden--visually\" id=\"sk-estimator-id-51\" type=\"checkbox\" ><label for=\"sk-estimator-id-51\" class=\"sk-toggleable__label sk-toggleable__label-arrow\">StandardScaler</label><div class=\"sk-toggleable__content\"><pre>StandardScaler()</pre></div></div></div><div class=\"sk-item\"><div class=\"sk-estimator sk-toggleable\"><input class=\"sk-toggleable__control sk-hidden--visually\" id=\"sk-estimator-id-52\" type=\"checkbox\" ><label for=\"sk-estimator-id-52\" class=\"sk-toggleable__label sk-toggleable__label-arrow\">SimpleImputer</label><div class=\"sk-toggleable__content\"><pre>SimpleImputer(add_indicator=True)</pre></div></div></div></div></div></div></div></div><div class=\"sk-parallel-item\"><div class=\"sk-item\"><div class=\"sk-label-container\"><div class=\"sk-label sk-toggleable\"><input class=\"sk-toggleable__control sk-hidden--visually\" id=\"sk-estimator-id-53\" type=\"checkbox\" ><label for=\"sk-estimator-id-53\" class=\"sk-toggleable__label sk-toggleable__label-arrow\">onehotencoder</label><div class=\"sk-toggleable__content\"><pre>&lt;sklearn.compose._column_transformer.make_column_selector object at 0x7fe65a5f67c0&gt;</pre></div></div></div><div class=\"sk-serial\"><div class=\"sk-item\"><div class=\"sk-estimator sk-toggleable\"><input class=\"sk-toggleable__control sk-hidden--visually\" id=\"sk-estimator-id-54\" type=\"checkbox\" ><label for=\"sk-estimator-id-54\" class=\"sk-toggleable__label sk-toggleable__label-arrow\">OneHotEncoder</label><div class=\"sk-toggleable__content\"><pre>OneHotEncoder(handle_unknown=&#x27;ignore&#x27;)</pre></div></div></div></div></div></div></div></div><div class=\"sk-item\"><div class=\"sk-estimator sk-toggleable\"><input class=\"sk-toggleable__control sk-hidden--visually\" id=\"sk-estimator-id-55\" type=\"checkbox\" ><label for=\"sk-estimator-id-55\" class=\"sk-toggleable__label sk-toggleable__label-arrow\">Lasso</label><div class=\"sk-toggleable__content\"><pre>Lasso(alpha=0.1, random_state=10)</pre></div></div></div></div></div></div></div></div><div class=\"sk-parallel-item\"><div class=\"sk-item\"><div class=\"sk-label-container\"><div class=\"sk-label sk-toggleable\"><label>Gradient Boosting</label></div></div><div class=\"sk-serial\"><div class=\"sk-item\"><div class=\"sk-serial\"><div class=\"sk-item sk-dashed-wrapped\"><div class=\"sk-label-container\"><div class=\"sk-label sk-toggleable\"><input class=\"sk-toggleable__control sk-hidden--visually\" id=\"sk-estimator-id-56\" type=\"checkbox\" ><label for=\"sk-estimator-id-56\" class=\"sk-toggleable__label sk-toggleable__label-arrow\">columntransformer: ColumnTransformer</label><div class=\"sk-toggleable__content\"><pre>ColumnTransformer(transformers=[(&#x27;simpleimputer&#x27;,\n",
       "                                 SimpleImputer(add_indicator=True),\n",
       "                                 &lt;sklearn.compose._column_transformer.make_column_selector object at 0x7fe65a5f6790&gt;),\n",
       "                                (&#x27;ordinalencoder&#x27;,\n",
       "                                 OrdinalEncoder(encoded_missing_value=-2,\n",
       "                                                handle_unknown=&#x27;use_encoded_value&#x27;,\n",
       "                                                unknown_value=-1),\n",
       "                                 &lt;sklearn.compose._column_transformer.make_column_selector object at 0x7fe65a5f67c0&gt;)])</pre></div></div></div><div class=\"sk-parallel\"><div class=\"sk-parallel-item\"><div class=\"sk-item\"><div class=\"sk-label-container\"><div class=\"sk-label sk-toggleable\"><input class=\"sk-toggleable__control sk-hidden--visually\" id=\"sk-estimator-id-57\" type=\"checkbox\" ><label for=\"sk-estimator-id-57\" class=\"sk-toggleable__label sk-toggleable__label-arrow\">simpleimputer</label><div class=\"sk-toggleable__content\"><pre>&lt;sklearn.compose._column_transformer.make_column_selector object at 0x7fe65a5f6790&gt;</pre></div></div></div><div class=\"sk-serial\"><div class=\"sk-item\"><div class=\"sk-estimator sk-toggleable\"><input class=\"sk-toggleable__control sk-hidden--visually\" id=\"sk-estimator-id-58\" type=\"checkbox\" ><label for=\"sk-estimator-id-58\" class=\"sk-toggleable__label sk-toggleable__label-arrow\">SimpleImputer</label><div class=\"sk-toggleable__content\"><pre>SimpleImputer(add_indicator=True)</pre></div></div></div></div></div></div><div class=\"sk-parallel-item\"><div class=\"sk-item\"><div class=\"sk-label-container\"><div class=\"sk-label sk-toggleable\"><input class=\"sk-toggleable__control sk-hidden--visually\" id=\"sk-estimator-id-59\" type=\"checkbox\" ><label for=\"sk-estimator-id-59\" class=\"sk-toggleable__label sk-toggleable__label-arrow\">ordinalencoder</label><div class=\"sk-toggleable__content\"><pre>&lt;sklearn.compose._column_transformer.make_column_selector object at 0x7fe65a5f67c0&gt;</pre></div></div></div><div class=\"sk-serial\"><div class=\"sk-item\"><div class=\"sk-estimator sk-toggleable\"><input class=\"sk-toggleable__control sk-hidden--visually\" id=\"sk-estimator-id-60\" type=\"checkbox\" ><label for=\"sk-estimator-id-60\" class=\"sk-toggleable__label sk-toggleable__label-arrow\">OrdinalEncoder</label><div class=\"sk-toggleable__content\"><pre>OrdinalEncoder(encoded_missing_value=-2, handle_unknown=&#x27;use_encoded_value&#x27;,\n",
       "               unknown_value=-1)</pre></div></div></div></div></div></div></div></div><div class=\"sk-item\"><div class=\"sk-estimator sk-toggleable\"><input class=\"sk-toggleable__control sk-hidden--visually\" id=\"sk-estimator-id-61\" type=\"checkbox\" ><label for=\"sk-estimator-id-61\" class=\"sk-toggleable__label sk-toggleable__label-arrow\">GradientBoostingRegressor</label><div class=\"sk-toggleable__content\"><pre>GradientBoostingRegressor(max_depth=4, max_features=0.75, n_estimators=200,\n",
       "                          random_state=2, subsample=0.9)</pre></div></div></div></div></div></div></div></div><div class=\"sk-parallel-item\"><div class=\"sk-item\"><div class=\"sk-label-container\"><div class=\"sk-label sk-toggleable\"><label>Linear Regression</label></div></div><div class=\"sk-serial\"><div class=\"sk-item\"><div class=\"sk-serial\"><div class=\"sk-item sk-dashed-wrapped\"><div class=\"sk-label-container\"><div class=\"sk-label sk-toggleable\"><input class=\"sk-toggleable__control sk-hidden--visually\" id=\"sk-estimator-id-62\" type=\"checkbox\" ><label for=\"sk-estimator-id-62\" class=\"sk-toggleable__label sk-toggleable__label-arrow\">columntransformer: ColumnTransformer</label><div class=\"sk-toggleable__content\"><pre>ColumnTransformer(transformers=[(&#x27;pipeline&#x27;,\n",
       "                                 Pipeline(steps=[(&#x27;standardscaler&#x27;,\n",
       "                                                  StandardScaler()),\n",
       "                                                 (&#x27;simpleimputer&#x27;,\n",
       "                                                  SimpleImputer(add_indicator=True))]),\n",
       "                                 &lt;sklearn.compose._column_transformer.make_column_selector object at 0x7fe65a5f6790&gt;),\n",
       "                                (&#x27;onehotencoder&#x27;,\n",
       "                                 OneHotEncoder(handle_unknown=&#x27;ignore&#x27;),\n",
       "                                 &lt;sklearn.compose._column_transformer.make_column_selector object at 0x7fe65a5f67c0&gt;)])</pre></div></div></div><div class=\"sk-parallel\"><div class=\"sk-parallel-item\"><div class=\"sk-item\"><div class=\"sk-label-container\"><div class=\"sk-label sk-toggleable\"><input class=\"sk-toggleable__control sk-hidden--visually\" id=\"sk-estimator-id-63\" type=\"checkbox\" ><label for=\"sk-estimator-id-63\" class=\"sk-toggleable__label sk-toggleable__label-arrow\">pipeline</label><div class=\"sk-toggleable__content\"><pre>&lt;sklearn.compose._column_transformer.make_column_selector object at 0x7fe65a5f6790&gt;</pre></div></div></div><div class=\"sk-serial\"><div class=\"sk-item\"><div class=\"sk-serial\"><div class=\"sk-item\"><div class=\"sk-estimator sk-toggleable\"><input class=\"sk-toggleable__control sk-hidden--visually\" id=\"sk-estimator-id-64\" type=\"checkbox\" ><label for=\"sk-estimator-id-64\" class=\"sk-toggleable__label sk-toggleable__label-arrow\">StandardScaler</label><div class=\"sk-toggleable__content\"><pre>StandardScaler()</pre></div></div></div><div class=\"sk-item\"><div class=\"sk-estimator sk-toggleable\"><input class=\"sk-toggleable__control sk-hidden--visually\" id=\"sk-estimator-id-65\" type=\"checkbox\" ><label for=\"sk-estimator-id-65\" class=\"sk-toggleable__label sk-toggleable__label-arrow\">SimpleImputer</label><div class=\"sk-toggleable__content\"><pre>SimpleImputer(add_indicator=True)</pre></div></div></div></div></div></div></div></div><div class=\"sk-parallel-item\"><div class=\"sk-item\"><div class=\"sk-label-container\"><div class=\"sk-label sk-toggleable\"><input class=\"sk-toggleable__control sk-hidden--visually\" id=\"sk-estimator-id-66\" type=\"checkbox\" ><label for=\"sk-estimator-id-66\" class=\"sk-toggleable__label sk-toggleable__label-arrow\">onehotencoder</label><div class=\"sk-toggleable__content\"><pre>&lt;sklearn.compose._column_transformer.make_column_selector object at 0x7fe65a5f67c0&gt;</pre></div></div></div><div class=\"sk-serial\"><div class=\"sk-item\"><div class=\"sk-estimator sk-toggleable\"><input class=\"sk-toggleable__control sk-hidden--visually\" id=\"sk-estimator-id-67\" type=\"checkbox\" ><label for=\"sk-estimator-id-67\" class=\"sk-toggleable__label sk-toggleable__label-arrow\">OneHotEncoder</label><div class=\"sk-toggleable__content\"><pre>OneHotEncoder(handle_unknown=&#x27;ignore&#x27;)</pre></div></div></div></div></div></div></div></div><div class=\"sk-item\"><div class=\"sk-estimator sk-toggleable\"><input class=\"sk-toggleable__control sk-hidden--visually\" id=\"sk-estimator-id-68\" type=\"checkbox\" ><label for=\"sk-estimator-id-68\" class=\"sk-toggleable__label sk-toggleable__label-arrow\">LinearRegression</label><div class=\"sk-toggleable__content\"><pre>LinearRegression()</pre></div></div></div></div></div></div></div></div></div></div><div class=\"sk-item\"><div class=\"sk-parallel\"><div class=\"sk-parallel-item\"><div class=\"sk-item\"><div class=\"sk-label-container\"><div class=\"sk-label sk-toggleable\"><label>final_estimator</label></div></div><div class=\"sk-serial\"><div class=\"sk-item\"><div class=\"sk-estimator sk-toggleable\"><input class=\"sk-toggleable__control sk-hidden--visually\" id=\"sk-estimator-id-69\" type=\"checkbox\" ><label for=\"sk-estimator-id-69\" class=\"sk-toggleable__label sk-toggleable__label-arrow\">RidgeCV</label><div class=\"sk-toggleable__content\"><pre>RidgeCV()</pre></div></div></div></div></div></div></div></div></div></div></div></div>"
      ],
      "text/plain": [
       "StackingRegressor(estimators=[('Random Forest',\n",
       "                               Pipeline(steps=[('columntransformer',\n",
       "                                                ColumnTransformer(transformers=[('simpleimputer',\n",
       "                                                                                 SimpleImputer(add_indicator=True),\n",
       "                                                                                 <sklearn.compose._column_transformer.make_column_selector object at 0x7fe65a5f6790>),\n",
       "                                                                                ('ordinalencoder',\n",
       "                                                                                 OrdinalEncoder(encoded_missing_value=-2,\n",
       "                                                                                                handle_unknown='use_encoded_value',\n",
       "                                                                                                unknown_v...\n",
       "                                                                                                  StandardScaler()),\n",
       "                                                                                                 ('simpleimputer',\n",
       "                                                                                                  SimpleImputer(add_indicator=True))]),\n",
       "                                                                                 <sklearn.compose._column_transformer.make_column_selector object at 0x7fe65a5f6790>),\n",
       "                                                                                ('onehotencoder',\n",
       "                                                                                 OneHotEncoder(handle_unknown='ignore'),\n",
       "                                                                                 <sklearn.compose._column_transformer.make_column_selector object at 0x7fe65a5f67c0>)])),\n",
       "                                               ('linearregression',\n",
       "                                                LinearRegression())]))],\n",
       "                  final_estimator=RidgeCV())"
      ]
     },
     "execution_count": 25,
     "metadata": {},
     "output_type": "execute_result"
    }
   ],
   "source": [
    "# create a list of estimators for stacking regressor\n",
    "estimators = [\n",
    "    (\"Random Forest\", rf_pipeline),\n",
    "    (\"Lasso\", lasso_pipeline),\n",
    "    (\"Gradient Boosting\", gbdt_pipeline),\n",
    "    (\"Linear Regression\", linear_pipeline)\n",
    "    \n",
    "]\n",
    "# instantiate stacking regressor\n",
    "stacking_regressor = StackingRegressor(\n",
    "    estimators=estimators, final_estimator=RidgeCV())\n",
    "# display stacking regressor\n",
    "stacking_regressor\n"
   ]
  },
  {
   "attachments": {},
   "cell_type": "markdown",
   "metadata": {},
   "source": [
    "### Evaluating Multiple Models"
   ]
  },
  {
   "attachments": {},
   "cell_type": "markdown",
   "metadata": {},
   "source": [
    "#### Visualizing regression model performance"
   ]
  },
  {
   "cell_type": "code",
   "execution_count": 26,
   "metadata": {},
   "outputs": [
    {
     "data": {
      "image/png": "[encoded data removed]",
      "text/plain": [
       "<Figure size 640x480 with 1 Axes>"
      ]
     },
     "metadata": {},
     "output_type": "display_data"
    }
   ],
   "source": [
    "# create dictionary of pipelines\n",
    "pipelines = {\"Linear Regression\": linear_pipeline,  \"Lasso\": lasso_pipeline,\n",
    "          \"GradientBoosting\": gbdt_pipeline, \"RandomForrest\": rf_pipeline, \"StackedRegressor\": stacking_regressor}\n",
    "# define empty list\n",
    "results = []\n",
    "# iterate through each pipeline\n",
    "for pipeline in pipelines.values():\n",
    "    # create KFold object\n",
    "    kf = KFold(n_splits=10, random_state=10, shuffle=True)\n",
    "\n",
    "    # Perform cross-validation for r squared\n",
    "    cv_scores = cross_val_score(pipeline, X_train, y_train, cv=kf)\n",
    "\n",
    "    # Append the results\n",
    "    results.append(cv_scores)\n",
    "  \n",
    "\n",
    "# Create a box plot of the results\n",
    "plt.boxplot(results, labels=pipelines.keys())\n",
    "plt.xticks(rotation=45)\n",
    "plt.show()\n",
    "\n",
    "    "
   ]
  },
  {
   "attachments": {},
   "cell_type": "markdown",
   "metadata": {},
   "source": [
    "All models performed to a similar standard but the GradientBoosting model performed the best. That is, it generalized to the model the most."
   ]
  },
  {
   "attachments": {},
   "cell_type": "markdown",
   "metadata": {},
   "source": [
    "#### Predicting on the Test Set"
   ]
  },
  {
   "cell_type": "code",
   "execution_count": 27,
   "metadata": {},
   "outputs": [
    {
     "name": "stdout",
     "output_type": "stream",
     "text": [
      "Lasso Test MAE: 592392.19\n",
      "Lasso accuracy: 0.5373801386299445\n",
      "Lasso Test Set RMSE: 876946.6447553638\n",
      "\n",
      "\n",
      "GradientBoosting Test MAE: 591589.03\n",
      "GradientBoosting accuracy: 0.5118012882708822\n",
      "GradientBoosting Test Set RMSE: 900864.240855171\n",
      "\n",
      "\n",
      "RandomForrest Test MAE: 585504.67\n",
      "RandomForrest accuracy: 0.5055577219393124\n",
      "RandomForrest Test Set RMSE: 906606.5096704293\n",
      "\n",
      "\n",
      "Stacked Test MAE: 550548.49\n",
      "Stacked accuracy: 0.5638385180558829\n",
      "Stacked Test Set RMSE: 851500.0711961578\n",
      "\n",
      "\n",
      "LinearRegression Test MAE: 592391.77\n",
      "LinearRegression accuracy: 0.5373801611595237\n",
      "LinearRegression Test Set RMSE: 876946.6234017204\n",
      "\n",
      "\n"
     ]
    }
   ],
   "source": [
    "# create dictionary of pipeplines\n",
    "pipelines = {\"Lasso\": lasso_pipeline,\n",
    "          \"GradientBoosting\": gbdt_pipeline, \"RandomForrest\": rf_pipeline, \"Stacked\": stacking_regressor,\n",
    "          \"LinearRegression\": linear_pipeline}\n",
    "\n",
    "# iterate through the dictionary of pipelines\n",
    "for name, pipeline in pipelines.items():\n",
    "\n",
    "  # Iterate\n",
    "  \n",
    "  # Fit the model to the training data\n",
    "  pipeline.fit(X_train, y_train)\n",
    "  \n",
    "  \n",
    "  # Evaluate\n",
    "\n",
    "  # Make predictions on the test set\n",
    "  y_pred = pipeline.predict(X_test)\n",
    "  mae_test = mean_absolute_error(y_pred, y_test)\n",
    "  print(\"{} Test MAE: {}\".format(name, round(mae_test, 2)))\n",
    "\n",
    "  # calculate accuracy\n",
    "  accuracy = pipeline.score(X_test, y_test)\n",
    "  print(\"{} accuracy: {}\".format(name, accuracy))\n",
    "\n",
    "  # Calculate the test_rmse\n",
    "  test_rmse = MSE(y_test, y_pred) ** (1/2)\n",
    "  print(\"{} Test Set RMSE: {}\".format(name, test_rmse))\n",
    "  print('\\n')\n"
   ]
  },
  {
   "attachments": {},
   "cell_type": "markdown",
   "metadata": {},
   "source": [
    "A Stacked regressor model is the best model with an accuracy of about 56%. But the Linear regression model is the best singular model with an accuracy of about 56%"
   ]
  },
  {
   "attachments": {},
   "cell_type": "markdown",
   "metadata": {},
   "source": [
    "## Communicate Results"
   ]
  },
  {
   "cell_type": "code",
   "execution_count": 28,
   "metadata": {},
   "outputs": [
    {
     "name": "stdout",
     "output_type": "stream",
     "text": [
      "The intercept is $2434960.65\n",
      "pipeline__lat                                                        10502.0\n",
      "pipeline__lon                                                       -24844.0\n",
      "onehotencoder__community_name_Willowdale East                       -37309.0\n",
      "pipeline__missingindicator_lat                                       56610.0\n",
      "pipeline__missingindicator_lon                                       56610.0\n",
      "onehotencoder__community_name_The Beaches                           -61599.0\n",
      "onehotencoder__community_name_Bedford Park-Nortown                   84714.0\n",
      "pipeline__bedrooms                                                  -86356.0\n",
      "onehotencoder__community_name_Newtonbrook East                     -198452.0\n",
      "pipeline__area_m2                                                   272908.0\n",
      "onehotencoder__community_name_other                                -349576.0\n",
      "onehotencoder__community_name_Willowdale West                      -359956.0\n",
      "onehotencoder__community_name_Islington-City Centre West           -373200.0\n",
      "onehotencoder__community_name_St. Andrew-Windfields                 710558.0\n",
      "onehotencoder__community_name_Birchcliffe-Cliffside                -752265.0\n",
      "pipeline__bathrooms                                                 775303.0\n",
      "onehotencoder__community_name_York University Heights              -921464.0\n",
      "onehotencoder__community_name_Bridle Path-Sunnybrook-York Mills    2258550.0\n",
      "dtype: float64\n"
     ]
    }
   ],
   "source": [
    "# define model intercept\n",
    "intercept = lin_model.intercept_.round(2)\n",
    "print(f\"The intercept is ${intercept}\")\n",
    "\n",
    "# define model coefficients\n",
    "coefficients = lin_model.coef_.round()\n",
    "\n",
    "# get feature names\n",
    "features = linear_pipeline[:-1].get_feature_names_out()\n",
    "\n",
    "# define feature importance series\n",
    "feat_imp = pd.Series(coefficients, index=features).sort_values(key=abs)\n",
    "print(feat_imp)\n"
   ]
  },
  {
   "cell_type": "code",
   "execution_count": 29,
   "metadata": {},
   "outputs": [
    {
     "data": {
      "image/png": "[encoded data removed]",
      "text/plain": [
       "<Figure size 640x480 with 1 Axes>"
      ]
     },
     "metadata": {},
     "output_type": "display_data"
    }
   ],
   "source": [
    "# Build bar chart\n",
    "feat_imp\n",
    "feat_imp.tail(10).plot(\n",
    "    kind=\"barh\")\n",
    "\n",
    "# Label axes\n",
    "plt.xlabel(\"Importance [USD]\")\n",
    "plt.ylabel(\"Feature\")\n",
    "\n",
    "# Add title\n",
    "plt.title(\"Feature Importances for House Price\")\n",
    "\n",
    "# after plotting the data, format the labels\n",
    "current_values = plt.gca().get_xticks()\n",
    "# using format string '{:.0f}' here but you can choose others\n",
    "plt.gca().set_xticklabels(['{:,.0f}'.format(x) for x in current_values])\n",
    "\n",
    "plt.xticks(rotation=45)\n",
    "plt.show()\n"
   ]
  },
  {
   "attachments": {},
   "cell_type": "markdown",
   "metadata": {},
   "source": [
    "## Deployment"
   ]
  },
  {
   "cell_type": "code",
   "execution_count": 30,
   "metadata": {},
   "outputs": [],
   "source": [
    "# define prediction function\n",
    "def make_prediction(area, bedrooms, bathrooms, lat, lon, community):\n",
    "    data = {\n",
    "        'area_m2': area,\n",
    "        'bedrooms': bedrooms,\n",
    "        'bathrooms': bathrooms,\n",
    "        'lat': lat,\n",
    "        'lon': lon,\n",
    "        'community_name': community\n",
    "    }\n",
    "    df = pd.DataFrame(data, index=[0])\n",
    "    prediction = pipeline.predict(df).round(2)[0]\n",
    "    return f\"Predicted house price: ${prediction}\"\n"
   ]
  },
  {
   "cell_type": "code",
   "execution_count": 31,
   "metadata": {},
   "outputs": [
    {
     "data": {
      "application/vnd.jupyter.widget-view+json": {
       "model_id": "8fa07fef3a2541f5b66414f19fa9ffaf",
       "version_major": 2,
       "version_minor": 0
      },
      "text/plain": [
       "interactive(children=(IntSlider(value=484, description='area', max=1542, min=158), FloatText(value=3.0, descri…"
      ]
     },
     "metadata": {},
     "output_type": "display_data"
    },
    {
     "data": {
      "text/plain": [
       "<function __main__.make_prediction(area, bedrooms, bathrooms, lat, lon, community)>"
      ]
     },
     "execution_count": 31,
     "metadata": {},
     "output_type": "execute_result"
    }
   ],
   "source": [
    "# create interactive dashboard\n",
    "interact(\n",
    "    make_prediction,\n",
    "    area=IntSlider(\n",
    "        min=X_train[\"area_m2\"].min(),\n",
    "        max=X_train[\"area_m2\"].max(),\n",
    "        value=X_train[\"area_m2\"].mean(),\n",
    "    ),\n",
    "    bedrooms=FloatText(\n",
    "        value=3,\n",
    "        description='bedrooms',\n",
    "        disabled=False\n",
    "    ),\n",
    "    bathrooms=FloatText(\n",
    "        value=3,\n",
    "        description='bathrooms',\n",
    "        disabled=False\n",
    "    ),\n",
    "    lat=FloatSlider(\n",
    "        min=X_train[\"lat\"].min(),\n",
    "        max=X_train[\"lat\"].max(),\n",
    "        step=0.01,\n",
    "        value=X_train[\"lat\"].mean(),\n",
    "    ),\n",
    "    lon=FloatSlider(\n",
    "        min=X_train[\"lon\"].min(),\n",
    "        max=X_train[\"lon\"].max(),\n",
    "        step=0.01,\n",
    "        value=X_train[\"lon\"].mean(),\n",
    "    ),\n",
    "    community=Dropdown(options=sorted(\n",
    "        X_train['community_name'].astype(str).unique())),\n",
    ")\n"
   ]
  }
 ],
 "metadata": {
  "kernelspec": {
   "display_name": "PyPractice",
   "language": "python",
   "name": "python3"
  },
  "language_info": {
   "codemirror_mode": {
    "name": "ipython",
    "version": 3
   },
   "file_extension": ".py",
   "mimetype": "text/x-python",
   "name": "python",
   "nbconvert_exporter": "python",
   "pygments_lexer": "ipython3",
   "version": "3.8.0"
  },
  "orig_nbformat": 4,
  "vscode": {
   "interpreter": {
    "hash": "13b8e538115410ea87448d3b8733b4e206ebe2296454a4c4a03c52185c317752"
   }
  }
 },
 "nbformat": 4,
 "nbformat_minor": 2
}
